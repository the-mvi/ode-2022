{
 "cells": [
  {
   "cell_type": "markdown",
   "id": "9b76351c",
   "metadata": {},
   "source": [
    "# Практическая работа №2: Исследование однородного линейного уравнения с периодическими коэффициентами\n",
    "\n",
    "Выполнил студент гр. 9382 Юрьев Сергей, вариант 37."
   ]
  },
  {
   "cell_type": "markdown",
   "id": "bdd0dc1b",
   "metadata": {},
   "source": [
    "## Цель работы\n",
    "\n",
    "Изучение устойчивости однородного линейного уравнения с периодическими коэффициентами при $t \\to \\infty$."
   ]
  },
  {
   "cell_type": "markdown",
   "id": "ba76abbf",
   "metadata": {},
   "source": [
    "## Основные теоретические положения\n",
    "\n",
    "Линейная однородная система с периодическими коэффициентами - это система ОЛДУ следующего вида:\n",
    "\n",
    "$X' = A(t)X,\\ A(t + T) = A(t), t \\ge 0$\n",
    "(1)\n",
    "\n",
    "Матрица\\\n",
    "$\\Phi(t) = \\{\\phi_{ij}, i, j = 1, 2, ..., n \\}$\\\n",
    "называется <b>фундаментальной матрицей</b> системы (1), если все её столбцы являются линейно независимыми решениями этой системы.\n",
    "\n",
    "Матрица $C$, удовлетворяющая условию\\\n",
    "$\\Phi(t + T) = \\Phi(t)C, \\forall t \\ge 0$,\\\n",
    "называется <b>основной</b> для фундаментальной матрицы $\\Phi(t)$.\n",
    "\n",
    "<b>Спектральным радиусом</b> матрицы $A$ называется максимум модуля её собственных чисел:\\\n",
    "$\\rho(A) = max|\\lambda_j|, 0 \\le j \\le n$"
   ]
  },
  {
   "cell_type": "markdown",
   "id": "99a8b950",
   "metadata": {},
   "source": [
    "## Постановка задачи\n",
    "\n",
    "Дано дифференциальное уравнение:\n",
    "\n",
    "$x'' + a(p, t)x = 0, a(p, t) = p + b(t), b(t + T) = b(t)$,\n",
    "\n",
    "где $p$ – параметр.\n",
    "\n",
    "Данное уравнение сводится к системе двух уравнений $1$-го порядка:\n",
    "\n",
    "$\\begin{cases}\n",
    "    u_1' = u_2\\\\\n",
    "    u_2' = -a(p, t)u_1\n",
    " \\end{cases}$\n",
    " \n",
    "Здесь\n",
    "\n",
    "$u_1(t) = x(t), u_2(t) = x'(t)$.\n",
    "\n",
    "Необходимо провести исследование устойчивости однородного линейного уравнения."
   ]
  },
  {
   "cell_type": "markdown",
   "id": "d8460ab2",
   "metadata": {},
   "source": [
    "## Выполнение работы\n",
    "\n",
    "$b(t) = exp(2\\sin t)$\n",
    "\n",
    "$a(p, t) = p + exp(2\\sin t)$"
   ]
  },
  {
   "cell_type": "code",
   "execution_count": 1,
   "id": "1b86ed77",
   "metadata": {},
   "outputs": [],
   "source": [
    "import numpy as np\n",
    "import matplotlib.pyplot as plt\n",
    "from scipy.integrate import solve_ivp\n",
    "from math import pi, sin, e\n",
    "\n",
    "p_cur = None\n",
    "def f(t, Y):\n",
    "    return [Y[1], -(p_cur + e**(2*sin(t)))*Y[0]]\n",
    "\n",
    "p_range = np.arange(0.0, 5.0, 0.05)\n",
    "radius = []\n",
    "p_0 = None\n",
    "\n",
    "V_1 = (1, 0)\n",
    "V_2 = (0, 1)\n",
    "\n",
    "T = 2*pi\n",
    "t = np.arange(0.0, T, T/100)"
   ]
  },
  {
   "cell_type": "markdown",
   "id": "6f9e873c",
   "metadata": {},
   "source": [
    "Значения p меняются от 0 до 5 с шагом 0.05. Для каждого p находится решение однородного линейного уравнения, после чего вычисляется спектральный радиус основной матрицы, которая представляет собой решение системы при t = T.\n",
    "\n",
    "Значения спектрального радиуса, отображённые на графике, позволяют установить, на каких интервалах исходное уравнение устойчиво."
   ]
  },
  {
   "cell_type": "code",
   "execution_count": 2,
   "id": "352de36e",
   "metadata": {},
   "outputs": [
    {
     "name": "stdout",
     "output_type": "stream",
     "text": [
      "p_0: 4.3500000000000005\n"
     ]
    },
    {
     "data": {
      "image/png": "[encoded data removed]",
      "text/plain": [
       "<Figure size 432x288 with 1 Axes>"
      ]
     },
     "metadata": {
      "needs_background": "light"
     },
     "output_type": "display_data"
    }
   ],
   "source": [
    "def plot(p_ran, values):\n",
    "    global p_cur\n",
    "    for p in p_ran:\n",
    "        p_cur = p\n",
    "        solution_1 = solve_ivp(f, (0, T), V_1, t_eval=t)\n",
    "        solution_2 = solve_ivp(f, (0, T), V_2, t_eval=t)\n",
    "        U_1 = [solution_1.y[0][-1], solution_1.y[1][-1]]\n",
    "        U_2 = [solution_2.y[0][-1], solution_2.y[1][-1]]\n",
    "        C = np.matrix([U_1, U_2]).transpose()\n",
    "        spectral_radius = np.max(np.abs(np.linalg.eigvals(C)))\n",
    "        values.append(spectral_radius)\n",
    "        \n",
    "plot(p_range, radius)\n",
    "\n",
    "i = len(radius) - 1\n",
    "while radius[i] <= 1:\n",
    "    i -= 1\n",
    "p_0 = p_range[i + 1]\n",
    "\n",
    "print(\"p_0:\", p_0)\n",
    "\n",
    "radius = np.array(radius)\n",
    "plt.plot(p_range, radius)\n",
    "plt.plot([p_0, p_0], [1.0, 1.04])\n",
    "plt.show()"
   ]
  },
  {
   "cell_type": "markdown",
   "id": "f56d7775",
   "metadata": {},
   "source": [
    "Из графика видно, что уравнение приходит в устойчивое состояние В точке p=4.35. Если увеличить диапазон значений p, значение точки останется прежним:"
   ]
  },
  {
   "cell_type": "code",
   "execution_count": 3,
   "id": "728229fd",
   "metadata": {
    "scrolled": true
   },
   "outputs": [
    {
     "name": "stdout",
     "output_type": "stream",
     "text": [
      "p_0: 4.3500000000000005\n"
     ]
    },
    {
     "data": {
      "image/png": "[encoded data removed]",
      "text/plain": [
       "<Figure size 432x288 with 1 Axes>"
      ]
     },
     "metadata": {
      "needs_background": "light"
     },
     "output_type": "display_data"
    }
   ],
   "source": [
    "p_range = np.arange(0.0, 15.0, 0.05)\n",
    "radius = []\n",
    "plot(p_range, radius)\n",
    "\n",
    "i = len(radius) - 1\n",
    "while radius[i] <= 1:\n",
    "    i -= 1\n",
    "p_0 = p_range[i + 1]\n",
    "\n",
    "print(\"p_0:\", p_0)\n",
    "\n",
    "radius = np.array(radius)\n",
    "plt.plot(p_range, radius)\n",
    "plt.plot([p_0, p_0], [1.0, 1.04])\n",
    "plt.show()"
   ]
  },
  {
   "cell_type": "markdown",
   "id": "d3b394db",
   "metadata": {},
   "source": [
    "## Выводы\n",
    "\n",
    "Изучена устойчивость линейного ОДУ с периодическими коэффициентами. Исходное уравнение сведено к системе двух ОДУ первого порядка, после чего найдено её решение, фундаментальная и основная матрицы. Значения спектральных радиусов основных матриц при изменяющемся p отображены на графике. Из полученных данных можно сделать вывод о значении p, при котором уравнение переходит в зону устойчивости."
   ]
  }
 ],
 "metadata": {
  "kernelspec": {
   "display_name": "Python 3 (ipykernel)",
   "language": "python",
   "name": "python3"
  },
  "language_info": {
   "codemirror_mode": {
    "name": "ipython",
    "version": 3
   },
   "file_extension": ".py",
   "mimetype": "text/x-python",
   "name": "python",
   "nbconvert_exporter": "python",
   "pygments_lexer": "ipython3",
   "version": "3.8.10"
  }
 },
 "nbformat": 4,
 "nbformat_minor": 5
}
