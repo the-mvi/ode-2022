{
 "cells": [
  {
   "cell_type": "markdown",
   "id": "64d6e859",
   "metadata": {},
   "source": [
    "# Практическая работа №1: Краевая задача для уравнения II-го порядка\n",
    "\n",
    "Выполнил студент гр. 9382 Юрьев Сергей, вариант 37."
   ]
  },
  {
   "cell_type": "markdown",
   "id": "0a009ebf",
   "metadata": {},
   "source": [
    "## Цель работы\n",
    "\n",
    "Научиться применять дифференциальные уравнения в различных областях, решать краевую задачу для уравнения II-го порядка путём многократного решения задачи Коши."
   ]
  },
  {
   "cell_type": "markdown",
   "id": "198ff697",
   "metadata": {},
   "source": [
    "## Основные теоретические положения\n",
    "\n",
    "### Задача Коши\n",
    "Система n ОДУ первого порядка:\n",
    "$\n",
    "\\begin{cases}\n",
    "    y'_1=f_1(x,y_1,...,y_n) \\\\\n",
    "    \\dots \\\\\n",
    "    y'_n=f_n(x,y_1,...,y_n) \\\\\n",
    "    y_1(x_0)=y_{01} \\\\\n",
    "    \\dots \\\\\n",
    "    y_n(x_0)=y_{0n} \\\\\n",
    "\\end{cases}\n",
    "$\n",
    "\n",
    "ОДУ n-го порядка:\n",
    "$\n",
    "\\begin{cases}\n",
    "    y^{(n)}=f(x,y,...,y^{(n-1)}) \\\\\n",
    "    y(x_0)=y_{01} \\\\\n",
    "    \\dots \\\\\n",
    "    y^{(n-1)}(x_0)=y_{0n} \\\\\n",
    "\\end{cases}\n",
    "$\n",
    "\n",
    "Решение задачи Коши состоит в нахождении решения (интеграла) дифференциального уравнения, удовлетворяющим начальным условиям.\n",
    "\n",
    "### Краевая задача \n",
    "Задача о нахождении решения заданного дифференциального уравнения удовлетворяющего краевым условиям в концах интервала."
   ]
  },
  {
   "cell_type": "markdown",
   "id": "c3d53ed5",
   "metadata": {},
   "source": [
    "## Постановка задачи\n",
    "\n",
    "Дано дифференциальное уравнение:\n",
    "\n",
    "$y''= f(x, y), a < x < b$ (1)\n",
    "\n",
    "и граничные условия\n",
    "\n",
    "$y(a) = y_a, y(b) = y_b.$ (2)\n",
    "\n",
    "Требуется найти решение задачи (1)-(2) и построить его график.\n",
    "\n",
    "Рассмотрим задачу Коши для уравнения (1) с начальными условиями\n",
    "\n",
    "$y(a) = y_a, y'(a) = h$ (3)\n",
    "\n",
    "План решения основан на многократном решении задачи Коши (1), (3).\n",
    "Значение решения задачи Коши при x = b является функцией от h.\n",
    "\n",
    "Задача сводится к отысканию такого значения переменной h, при котором выполнено условие на правом конце отрезка, т.е. должно выполняться\n",
    "\n",
    "$y(b, h) = y_b$ (4)\n",
    "\n",
    "Это уравнение с одним неизвестным h.\n",
    "Для его решения можно применить стандартный метод половинного деления.\n"
   ]
  },
  {
   "cell_type": "markdown",
   "id": "0adaee64",
   "metadata": {},
   "source": [
    "## Выполнение работы\n",
    "\n",
    "$f(x,y) = 3^x+2^y$\n",
    "\n",
    "a = 0\n",
    "\n",
    "b = 2\n",
    "\n",
    "$y_a = 1$\n",
    "\n",
    "$y_b = 2$\n",
    "\n",
    "Общий вид задачи Коши:\n",
    "\n",
    "$\n",
    "\\begin{cases}\n",
    "    y''=f(x,y) \\\\\n",
    "    y(a)=1 \\\\\n",
    "    y'(a)=h \\\\\n",
    "\\end{cases}\n",
    "$\n",
    "\n",
    "Сведём дифференциальное уравнение к равносильной системе:\n",
    "\n",
    "$\n",
    "\\begin{cases}\n",
    "    y'= g \\\\\n",
    "    g'= 3^x+2^y \\\\\n",
    "\\end{cases}\n",
    "$"
   ]
  },
  {
   "cell_type": "code",
   "execution_count": 76,
   "id": "da774496",
   "metadata": {},
   "outputs": [
    {
     "data": {
      "text/plain": [
       "[<matplotlib.lines.Line2D at 0x1b29b118dc0>]"
      ]
     },
     "execution_count": 76,
     "metadata": {},
     "output_type": "execute_result"
    },
    {
     "data": {
      "image/png": "[encoded data removed]",
      "text/plain": [
       "<Figure size 432x288 with 1 Axes>"
      ]
     },
     "metadata": {
      "needs_background": "light"
     },
     "output_type": "display_data"
    }
   ],
   "source": [
    "import numpy as np\n",
    "import matplotlib.pyplot as plt\n",
    "from scipy.integrate import solve_ivp\n",
    "from scipy.integrate import odeint\n",
    "\n",
    "def f(t,Y):\n",
    "    return Y[1], 3**t + 2**Y[0]\n",
    "\n",
    "y_a = 1\n",
    "y_b = 2\n",
    "h_0 = -2\n",
    "\n",
    "intervals = np.arange(0, 2, 0.001)\n",
    "solution = solve_ivp(f, (0, 2), (y_a, h_0), t_eval=intervals)\n",
    "plt.plot([0,2],[1,2], color = 'red')\n",
    "plt.plot(intervals, solve_ivp(f, (0, 2), (y_a, h_0+0.5), t_eval=intervals).y[0], color = 'yellow')\n",
    "plt.plot(intervals, solution.y[0], color = 'green')"
   ]
  },
  {
   "cell_type": "markdown",
   "id": "c5625c07",
   "metadata": {},
   "source": [
    "Из графика можно видеть, что при увеличении h функция отдаляется от краевого значения y(b) = 2, следовательно, значение h необходимо уменьшать."
   ]
  },
  {
   "cell_type": "code",
   "execution_count": 77,
   "id": "872157b9",
   "metadata": {},
   "outputs": [
    {
     "name": "stdout",
     "output_type": "stream",
     "text": [
      "-2.9599999999999795\n",
      "1.9852654202932671\n"
     ]
    },
    {
     "data": {
      "image/png": "[encoded data removed]",
      "text/plain": [
       "<Figure size 432x288 with 1 Axes>"
      ]
     },
     "metadata": {
      "needs_background": "light"
     },
     "output_type": "display_data"
    }
   ],
   "source": [
    "h_cur = h_0\n",
    "h_prev = h_0\n",
    "\n",
    "while solution.y[0][-1] >= y_b:\n",
    "    h_prev = h_cur\n",
    "    h_cur = h_prev - 0.01\n",
    "    solution = solve_ivp(f, (0, 2), (y_a, h_cur), t_eval=intervals)\n",
    "\n",
    "plt.plot([0,2],[1,2])\n",
    "plt.plot(intervals, solution.y[0])\n",
    "print(h_cur)\n",
    "print(solution.y[0][-1])"
   ]
  },
  {
   "cell_type": "markdown",
   "id": "ee91f896",
   "metadata": {},
   "source": [
    "После получения \"вилки\", которой принадлежит y(b), методом половинного деления уточним получившийся результат."
   ]
  },
  {
   "cell_type": "code",
   "execution_count": 78,
   "id": "979cbf6a",
   "metadata": {},
   "outputs": [
    {
     "name": "stdout",
     "output_type": "stream",
     "text": [
      "1.9861917367298834\n",
      "-2.95968749999998\n"
     ]
    },
    {
     "data": {
      "text/plain": [
       "[<matplotlib.lines.Line2D at 0x1b29b1eada0>]"
      ]
     },
     "execution_count": 78,
     "metadata": {},
     "output_type": "execute_result"
    },
    {
     "data": {
      "image/png": "[encoded data removed]",
      "text/plain": [
       "<Figure size 432x288 with 1 Axes>"
      ]
     },
     "metadata": {
      "needs_background": "light"
     },
     "output_type": "display_data"
    }
   ],
   "source": [
    "prev_solution = solve_ivp(f, (0, 2), (y_a, h_prev), t_eval=intervals)\n",
    "cur_solution = solve_ivp(f, (0, 2), (y_a, h_cur), t_eval=intervals)\n",
    "\n",
    "while abs(prev_solution.y[0][-1]-cur_solution.y[0][-1]) > 0.001:\n",
    "    h_mid = (h_prev + h_cur)/2\n",
    "    mid_solution = solve_ivp(f, (0, 2), (y_a, h_mid), t_eval=intervals)\n",
    "    if (mid_solution.y[0][-1] <= y_b <= cur_solution.y[0][-1]):\n",
    "        h_cur = h_mid\n",
    "        cur_solution = solve_ivp(f, (0, 2), (y_a, h_cur), t_eval=intervals)\n",
    "    else:\n",
    "        h_prev = h_mid\n",
    "        prev_solution = solve_ivp(f, (0, 2), (y_a, h_prev), t_eval=intervals)\n",
    "\n",
    "\n",
    "mid_solution = solve_ivp(f, (0, 2), (y_a, h_mid), t_eval=intervals)\n",
    "print(mid_solution.y[0][-1])\n",
    "print(h_mid)\n",
    "plt.plot([0,2],[1,2])\n",
    "plt.plot(intervals, mid_solution.y[0])"
   ]
  },
  {
   "cell_type": "markdown",
   "id": "0a233b97",
   "metadata": {},
   "source": [
    "Получившееся значение h = -2.95968749999998, при котором y(2) = 1.9861917367298834"
   ]
  },
  {
   "cell_type": "markdown",
   "id": "724f3936",
   "metadata": {},
   "source": [
    "## Выводы\n",
    "\n",
    "Была решена краевая задача для уравнения второго порядка путем многократного решения задачи Коши. Сначала ОДУ второго порядка было сведено к системе из двух ОДУ первого порядка. Затем, многократно решена задача Коши, после чего было найдено два значения $y_{h_p}, y_{h_c}$, между которыми находится $y_b$. Затем, методом половинного деления, значение h было уточнено."
   ]
  }
 ],
 "metadata": {
  "kernelspec": {
   "display_name": "Python 3 (ipykernel)",
   "language": "python",
   "name": "python3"
  },
  "language_info": {
   "codemirror_mode": {
    "name": "ipython",
    "version": 3
   },
   "file_extension": ".py",
   "mimetype": "text/x-python",
   "name": "python",
   "nbconvert_exporter": "python",
   "pygments_lexer": "ipython3",
   "version": "3.10.0"
  }
 },
 "nbformat": 4,
 "nbformat_minor": 5
}
