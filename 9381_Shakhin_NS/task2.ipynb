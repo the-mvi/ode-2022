{
 "cells": [
  {
   "cell_type": "markdown",
   "id": "01e4af97",
   "metadata": {},
   "source": [
    "# Практическая работа №2: Исследование однородного линейного уравнения с периодическими коэффициентами.\n",
    "\n",
    "Выполнил студент гр. 9381 Шахин Никита, вариант 17."
   ]
  },
  {
   "cell_type": "markdown",
   "id": "e8634f31",
   "metadata": {},
   "source": [
    "## Цель работы\n",
    "\n",
    "Изучение устойчивости однородного линейного уравнения с периодическими коэффициентами при $t \\rightarrow +\\infty$.\n",
    "\n",
    "## Основные теоретические положения\n",
    "\n",
    "Системой однородных линейных дифференциальных уравнений с периодическими коэффициентами называется система однородных линейных ОДУ следующего вида:\n",
    "\n",
    "$$ X' = A(t) X, \\;\\; A(t + T) = A(t), \\;\\; t \\ge 0 \\;\\;\\;\\;\\;\\;\\;\\; (0) $$\n",
    "$$ X' = (x_1', \\dots, x_n')^T, \\;\\; X = (x_1, \\dots, x_n)^T, \\;\\; A(t) = || a_{ij}(t) ||, \\;\\; a_{ij}(t + T) = a_{ij}(t)$$\n",
    "\n",
    "Число $T > 0$ называют периодом коэффициентов системы $(0)$.\n",
    "\n",
    "Фундаментальной матрицей системы $(0)$ называется такая матрица $\\Phi(t)$, что ее стобцы являются линейно независимыми решениями системы $(0)$. В матричном виде: $\\Phi' = A(t)\\Phi$.\n",
    "\n",
    "Основной матрицей для фундаментальной матрицы $\\Phi(t)$ называется такая матрица $C$, что $\\Phi(t + T) = \\Phi(t)C, \\; \\forall t \\ge 0$.\n",
    "\n",
    "Спектральным радиусом матрицы $C$ называется число $r(C) = \\max\\limits_{i}|\\lambda_i|$, где $\\lambda_i$ - собственные числа матрицы $C$.\n",
    "\n",
    "## Постановка задачи\n",
    "\n",
    "Дано дифференциальное уравнение:\n",
    "\n",
    "$$ x'' + a(p,t)x = 0, \\;\\; a(p,t) = p + b(t), \\;\\; b(t + T) = b(t), $$\n",
    "\n",
    "где $p$ - параметр.\n",
    "\n",
    "Данное уравнение сводится к системе двух уравнений I-го порядка:\n",
    "\n",
    "$$\n",
    "\\begin{cases}\n",
    "    u'_1 = u_2, \\\\\n",
    "    u'_2 = -a(p,t)u_1;\n",
    "\\end{cases}\n",
    "\\;\\;\\;\\;\\;\\;\\;\\;\\;\\;\\;\\;\\;\\;\\;\\;\\;\\;\\; (1)\n",
    "$$\n",
    "\n",
    "Здесь $u_1(t) = x(t), \\; u_2(t) = x'(t)$.\n",
    "\n",
    "Необходимо провести исследование устойчивости однородного линейного уравнения. Дальнейшие рассуждения применимы к любой линейной периодической системе, а не только к системе вида $(1)$.\n",
    "\n",
    "## Схема решения\n",
    "\n",
    "1. Задаем массив значений параметра $p$. Например, $p$ меняется от $0.1$ до $5$ с шагом $0.05$. Для каждого значения $p$ проделаем следующие действия:\n",
    "\n",
    "2. Вычисляем значение фундаментальной матрицы системы $(1)$ при $t = T$ с помощью любой программы численного решения задачи\n",
    "Коши.\n",
    "Для этого решаем две задачи Коши с начальными векторами $V_1 = (1, 0)^T$ и $V_2 = (0, 1)^T$ на отрезке $[0, T]$. Пусть вектор-функции $U(t, V_1), \\; U(t, V_2)$ – решения этих задач. Они являются столбцами фундаментальной матрицы $\\Phi(t)$, удовлетворяющей условию $\\Phi(0) = E$. Основную матрицу $C$ для $\\Phi(t)$ получаем из формулы $C = \\Phi(T)$.\n",
    "Столбцы матрицы $C$ это векторы $U(T, V_1), U(T, V_2)$;\n",
    "\n",
    "3. Вычисляем собственные числа матрицы 𝐶 и ее спектральный радиус, т.е.\n",
    "$$ r(p) = \\max\\limits_{j = 1,2}|\\lambda_j|.$$\n",
    "В результате имеем массив значений $r(p)$;\n",
    "\n",
    "4. Вывод об устойчивости или неустойчивости делается в зависимости от значения $r(p)$.\n",
    "\n",
    "Рекомендуется построить график этой зависимости, из которого с достаточной точностью можно определить точку 𝑝0, которая разделяет зоны устойчивости и неустойчивости, в которых $r \\le 1$ и $r \\gt 1$. Более точно\n",
    "вычисляется методом половинного деления.\n",
    "\n",
    "Матрицу $C$ можно найти только приближенно, решая численно две задачи Коши."
   ]
  },
  {
   "cell_type": "markdown",
   "id": "760426e7",
   "metadata": {},
   "source": [
    "## Выполнение работы\n",
    "\n",
    "### Вариант 17\n",
    "\n",
    "Функция $b(t)$ задана следующим выражением:\n",
    "\n",
    "$$ b(t) = ln(2 + sin(\\dfrac{t}{2})) $$\n",
    "\n",
    "Объявим функции  $b(t)$  и  $a(p,t)$ , а также их период $ T=4\\pi $:"
   ]
  },
  {
   "cell_type": "code",
   "execution_count": 20,
   "id": "1ec4d0fb",
   "metadata": {},
   "outputs": [],
   "source": [
    "from scipy import integrate\n",
    "import numpy as np\n",
    "import matplotlib.pyplot as plt\n",
    "import math\n",
    "\n",
    "def b(t):\n",
    "    return math.log(2 + math.sin(t/2))\n",
    "\n",
    "def a(p, t):\n",
    "    return p + b(t)\n",
    "\n",
    "T = 4*math.pi"
   ]
  },
  {
   "cell_type": "markdown",
   "id": "f194fcde",
   "metadata": {},
   "source": [
    "Определяем функцию системы уравнений, массив значений $p$ и начальные вектора $V_1=(1,0)^T$ и $V_2=(0,1)^T$. Объявляем\n",
    "переменную для спектральных радиусов\n",
    "\n",
    "Для каждого $p$ находим фундаментальную матрицу, при $t=T$. Для этого решаем две задачи\n",
    "Коши с начальными векторами $V_1$ и $V_2$ на отрезке $[0,T]$, решением которых будут являться\n",
    "вектор-функции $U(t,V_1)$ и $U(t,V_2)$ - столбцы $\\phi(t)$\n",
    "\n",
    "После чего находим основную матрицу для $C$ и ее спектральный радиус - $r(C) = \\underset{i} \\max{|\\lambda_i|}$."
   ]
  },
  {
   "cell_type": "code",
   "execution_count": 29,
   "id": "de3544db",
   "metadata": {},
   "outputs": [],
   "source": [
    "p_values = np.arange(0, 2 + 0.001, 0.001)\n",
    "\n",
    "\n",
    "def F(u, t):\n",
    "    return [u[1],-a(p,t)*u[0]]\n",
    "\n",
    "interval = np.arange(0,T,0.001)\n",
    "v1 = (1, 0)\n",
    "v2 = (0, 1)\n",
    "spec = []\n",
    "\n",
    "for p in p_values:\n",
    "    utv1 = integrate.odeint(F,v1,interval)\n",
    "    utv2 = integrate.odeint(F,v2,interval)\n",
    "    C=np.array([\n",
    "        [utv1[-1][0],utv2[-1][0]],\n",
    "        [utv1[-1][1],utv2[-1][1]]\n",
    "                ])\n",
    "    spec.append(max(abs(np.linalg.eigvals(C))))\n"
   ]
  },
  {
   "cell_type": "markdown",
   "id": "a92c2786",
   "metadata": {},
   "source": [
    "Построим график спектрального радиуса"
   ]
  },
  {
   "cell_type": "code",
   "execution_count": 36,
   "id": "43581e33",
   "metadata": {},
   "outputs": [
    {
     "data": {
      "image/png": "[encoded data removed]",
      "text/plain": [
       "<Figure size 432x288 with 1 Axes>"
      ]
     },
     "metadata": {
      "needs_background": "light"
     },
     "output_type": "display_data"
    }
   ],
   "source": [
    "plt.plot(p_values,spec)\n",
    "plt.grid(True)\n",
    "plt.show()"
   ]
  },
  {
   "cell_type": "markdown",
   "id": "3e020559",
   "metadata": {},
   "source": [
    "Из полученного графика можем определить точку $p_0$, разделяющую зоны устойчивости и неустойчивости\n",
    "с точностью $\\varepsilon=10^{-3}$.\n",
    "\n",
    "$|r(p_0)-1|<\\varepsilon$"
   ]
  },
  {
   "cell_type": "code",
   "execution_count": 43,
   "id": "d389808d",
   "metadata": {},
   "outputs": [
    {
     "name": "stdout",
     "output_type": "stream",
     "text": [
      "p0 = 1.645, r(p0) = 1.0000001495975488\n"
     ]
    }
   ],
   "source": [
    "p0 = -1\n",
    "rp0 = -1\n",
    "\n",
    "for i in range(1, len(spec)):\n",
    "    if abs(spec[-i] - 1) > 0.001:\n",
    "        p0 = p_values[-i + 1]\n",
    "        rp0 = spec[-i + 1]\n",
    "        break\n",
    "\n",
    "print(\"p0 = {}, r(p0) = {}\".format(p0, rp0))"
   ]
  },
  {
   "cell_type": "code",
   "execution_count": 42,
   "id": "b0c1a11c",
   "metadata": {},
   "outputs": [
    {
     "data": {
      "image/png": "[encoded data removed]",
      "text/plain": [
       "<Figure size 432x288 with 1 Axes>"
      ]
     },
     "metadata": {
      "needs_background": "light"
     },
     "output_type": "display_data"
    },
    {
     "data": {
      "image/png": "[encoded data removed]",
      "text/plain": [
       "<Figure size 432x288 with 1 Axes>"
      ]
     },
     "metadata": {
      "needs_background": "light"
     },
     "output_type": "display_data"
    }
   ],
   "source": [
    "plt.plot([p0, p0], [0.999, 2.1], color=\"red\", label=\"p0\")\n",
    "plt.plot(p_values, spec, label=\"r(p)\")\n",
    "plt.grid(True)\n",
    "plt.legend()\n",
    "plt.show()\n",
    "\n",
    "plt.plot([p0, p0], [0.999, 1.006], color=\"red\", label=\"p0\")\n",
    "plt.plot(p_values[int(1.62 / 0.001): int(1.66 / 0.001)], spec[int(1.62 / 0.001): int(1.66 / 0.001)], label=\"r(p)\")\n",
    "plt.grid(True)\n",
    "plt.legend()\n",
    "plt.show()"
   ]
  },
  {
   "cell_type": "markdown",
   "id": "f4dd94ab",
   "metadata": {},
   "source": [
    "Граница между зонами устойчивости и неустойчивости найдена корректно и равна $p_0 = 1.645$. При значениях $p < p_0$ наблюдаются области со значением $r(p) > 1$. При таких значениях $p$ по крайней мере часть решений системы не ограничена. \n",
    "\n",
    "## Вывод\n",
    "\n",
    "В ходе практической работы было проведено изучение устойчивости системы однородных линейных ОДУ с переодическими коэффициетами при $t \\rightarrow +\\infty$.\n",
    "\n",
    "Были получены следующие результаты:\n",
    "- Найдена граница зоны устойчивости и неустойчивости $p_0 = 1.645$\n",
    "- При $p < p_0 = 1.645$ система является неустойчивой\n",
    "- При $p >= p_0 = 1.645$ система является устойчивой\n",
    "\n",
    "\n",
    "Значение $p_0$ было найдено с точностью $|r(p_0) - 1| < 0.001$."
   ]
  }
 ],
 "metadata": {
  "kernelspec": {
   "display_name": "Python 3",
   "language": "python",
   "name": "python3"
  },
  "language_info": {
   "codemirror_mode": {
    "name": "ipython",
    "version": 3
   },
   "file_extension": ".py",
   "mimetype": "text/x-python",
   "name": "python",
   "nbconvert_exporter": "python",
   "pygments_lexer": "ipython3",
   "version": "3.8.8"
  }
 },
 "nbformat": 4,
 "nbformat_minor": 5
}
