{
 "cells": [
  {
   "cell_type": "markdown",
   "metadata": {},
   "source": [
    "# Практическая работа №2: Исследование однородного линейного уравнения с периодическими коэффициентами.\n",
    "\n",
    "Выполнил студент гр. 9382 Савельев Илья, вариант 33."
   ]
  },
  {
   "cell_type": "markdown",
   "metadata": {},
   "source": [
    "## Цель работы\n",
    "\n",
    "Изучение устойчивости однородного линейного уравнения с периодическими коэффициентами при 𝑡 → $+\\infty$."
   ]
  },
  {
   "cell_type": "markdown",
   "metadata": {},
   "source": [
    "## Основные теоретические положения\n",
    "\n",
    "Система однородных линейных дифференциальных уравнений с периодическими коэффициентами:\n",
    "\n",
    "$X'=A(t)X, A(t+T)=A(t), t\\geq0$, где\n",
    "\n",
    "$X'=(x_1',...,x_n')^T$, $\\space\\space$ $X=(x_1,...,x_n)^T$,\n",
    "\n",
    "$A(t)=||a_{ij}(t)||$, $\\space\\space$ $a_{ij}(t) = a_{ij}(t+T)$ \n",
    "\n",
    "$T>0$ - период коэффициентов системы\n",
    "\n",
    "Фундаментальная матрица такой системы - матрица $\\Phi(t)$, столбцы которой являются линейно независимыми решениями системы.\n",
    "\n",
    "$\\Phi'=A(t)\\Phi$\n",
    "\n",
    "Основная матрица для фундаментальной матрицы  $\\Phi(t)$ - матрица $C$, такая, что $\\Phi(t+T)=\\Phi(t)C, \\forall t \\geq 0$\n",
    "\n",
    "Спектральный радиус матрицы $C$ - число $r(C) = \\underset{i} \\max{|\\lambda_i|}$, где $i$ - собственные значения $C$"
   ]
  },
  {
   "cell_type": "markdown",
   "metadata": {},
   "source": [
    "# Постановка задачи\n",
    "\n",
    "Дано дифференциальное уравнение:\n",
    "\n",
    "   $x''+a(p,t)x=0$, $a(p,t)=p+b(t)$, $b(t+T)=b(t)$, где $p$ - параметр.\n",
    "   \n",
    "Данное уравнение сводится к системе двух уравнений I-го порядка:\n",
    "\n",
    "$\\begin{equation}\n",
    "     \\begin{cases}\n",
    "       u_1'=u_2\\\\\\\\\n",
    "       u_2'=-a(p,t)u_1\n",
    "     \\end{cases}\n",
    "    \\end{equation}\n",
    "    (1)$\n",
    "    \n",
    "Здесь $u_1(t)=x(t), u_2(t)=x'(t)$\n",
    "\n",
    "Необходимо провести исследование устойчивости однородного линейного уравнения. Дальнейшие рассуждения применимы к любой линейной периодической системе, а не только к системе вида (1)."
   ]
  },
  {
   "cell_type": "markdown",
   "metadata": {},
   "source": [
    "## Выполнение работы\n",
    "\n",
    "b(t) = tg(1 + 0.2 sin 3𝑡)"
   ]
  },
  {
   "cell_type": "code",
   "execution_count": 1,
   "metadata": {},
   "outputs": [
    {
     "name": "stdout",
     "output_type": "stream",
     "text": [
      "p0 = 0.9500000000000003\n",
      "r(p0) = 1.0000000903630708\n"
     ]
    },
    {
     "data": {
      "image/png": "[encoded data removed]",
      "text/plain": [
       "<Figure size 1152x864 with 1 Axes>"
      ]
     },
     "metadata": {
      "needs_background": "light"
     },
     "output_type": "display_data"
    }
   ],
   "source": [
    "import numpy as np\n",
    "import matplotlib.pyplot as plt\n",
    "from scipy import integrate\n",
    "\n",
    "\n",
    "T = 2 * np.pi / 3\n",
    "v1 = (1, 0)\n",
    "v2 = (0, 1)\n",
    "p_arr = np.arange(0.1, 5, 0.05)\n",
    "t_arr = np.arange(0, T, 0.001)\n",
    "spectral_arr = []  \n",
    "\n",
    "def a(p, t):\n",
    "    return p + np.tan(1 + 0.2 * np.sin(3 * t))\n",
    "\n",
    "# Система\n",
    "def F(u, t):  \n",
    "    return [u[1], -a(p,t)*u[0]]\n",
    "\n",
    "for p in p_arr:\n",
    "    # Решение задач Коши\n",
    "    u1 = integrate.odeint(F, v1, t_arr)\n",
    "    u2 = integrate.odeint(F, v2, t_arr)\n",
    "    # Получаем матрицу С\n",
    "    C = np.array([u1[-1], u2[-1]])\n",
    "    # Вычисляем спектральный радиус матрицы С\n",
    "    spectral_arr.append(max(abs(np.linalg.eigvals(C))))                 \n",
    "\n",
    "for i in range(1, len(spectral_arr)):\n",
    "    if abs(spectral_arr[-i] - 1) > 0.0001:\n",
    "        # Находим точку разделяющию границу зоны устойчивости и не устойчивости\n",
    "        p_0 = p_arr[1 - i]\n",
    "        r_0 = spectral_arr[1 - i]\n",
    "        break\n",
    "\n",
    "# Результат\n",
    "print(\"p0 =\", p_0)\n",
    "print(\"r(p0) =\", r_0)\n",
    "\n",
    "# Графики\n",
    "plt.figure(figsize=(16, 12))\n",
    "plt.plot(p_arr, spectral_arr, label=\"r(p)\")\n",
    "plt.plot([p_0, p_0], [1, 1.30], color=\"purple\", label=\"p0\")\n",
    "plt.grid(True)\n",
    "plt.legend()\n",
    "plt.show()\n"
   ]
  },
  {
   "cell_type": "markdown",
   "metadata": {},
   "source": [
    "## Выводы\n",
    "\n",
    "В результате выполнения практической работы, было исследовано однородное линейное уравнения с периодическими коэффициентами, на предмет устойчивости, была найдена точка $p_0 = 0.9500000000000003$ разделяющая зоны устойчивости и неустойчивости."
   ]
  },
  {
   "cell_type": "code",
   "execution_count": null,
   "metadata": {},
   "outputs": [],
   "source": []
  }
 ],
 "metadata": {
  "kernelspec": {
   "display_name": "Python 3 (ipykernel)",
   "language": "python",
   "name": "python3"
  },
  "language_info": {
   "codemirror_mode": {
    "name": "ipython",
    "version": 3
   },
   "file_extension": ".py",
   "mimetype": "text/x-python",
   "name": "python",
   "nbconvert_exporter": "python",
   "pygments_lexer": "ipython3",
   "version": "3.10.4"
  }
 },
 "nbformat": 4,
 "nbformat_minor": 4
}
