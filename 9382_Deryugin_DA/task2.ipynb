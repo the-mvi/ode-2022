{
 "cells": [
  {
   "cell_type": "markdown",
   "metadata": {},
   "source": [
    "# Практическая работа №2: Исследование однородного линейного уравнения с периодическими коэффициентами.\n",
    "\n",
    "Выполнил студент гр. 9382 Дерюгин Дмитрий, вариант 23."
   ]
  },
  {
   "cell_type": "markdown",
   "metadata": {},
   "source": [
    "## Цель работы\n",
    "\n",
    "Изучение устойчивости однородного линейного уравнения с периодическими коэффициентами при 𝑡 → +∞."
   ]
  },
  {
   "cell_type": "markdown",
   "metadata": {},
   "source": [
    "## Основные теоретические положения\n",
    "\n",
    "Линейная однородная система с периодическими коэффициентами:\n",
    "$X'=A(t)X, A(t+T)=A(t), t \\geq 0$\n",
    "\n",
    "$\\Phi(t)$ - фундаментальная матрица данной системы, если ее столбцы линейно независимые решения этой системы. В матричной записи:\n",
    "$\\Phi'=A(t)\\Phi$.\n",
    "\n",
    "Матрица C, удовлетворяющая условию $\\Phi(t+T)=\\Phi(t)c, \\forall t \\geq 0$\n",
    "называется основной для фундаментальной матрицы $\\Phi(t)$\n",
    "\n",
    "Спектральным радиусом матрицы называется максимум модуля ее собственных\n",
    "чисел.\n",
    "$\\rho(a) =\\underset{0\\leq j\\leq n}{max}|\\lambda_j|$"
   ]
  },
  {
   "cell_type": "markdown",
   "metadata": {},
   "source": [
    "## Постановка задачи\n",
    "\n",
    "Дано дифференциальное уравнение:\n",
    "$x''+a(p,t)x=0, a(p,t)=p+b(t), b(t+T)=b(t)$\n",
    "где p – параметр.\n",
    "\n",
    "Данное уравнение сводится к системе двух уравнений I-го порядка: \n",
    "\n",
    " $\\begin{cases}\n",
    "   u'_1 =u_2\\\\\n",
    "   u'_2=-a(p,t)u_1\n",
    " \\end{cases}$\n",
    " \n",
    "Здесь $u_1(t)=x(t), u_2(t)=x'(t)$\n",
    "\n",
    "Необходимо провести исследование устойчивости однородного линейного уравнения. Дальнейшие рассуждения применимы к любой линейной периодической системе, а не только к системе вида (1)."
   ]
  },
  {
   "cell_type": "markdown",
   "metadata": {},
   "source": [
    "## Выполнение работы\n",
    "\n",
    "Функция $e^{sint}$\n",
    "\n",
    "Задаем массив значений параметра p(значения от 0.1 до 50 с шагом 0.05), а также некоторые константы \n",
    "\n",
    "Вычисляем значение фундаментальной матрицы системы при t=T  и находим собственные числа матрицы C и ее спектральный радиус.\n"
   ]
  },
  {
   "cell_type": "code",
   "execution_count": 82,
   "metadata": {},
   "outputs": [
    {
     "data": {
      "text/plain": [
       "[<matplotlib.lines.Line2D at 0x17b5aece160>]"
      ]
     },
     "execution_count": 82,
     "metadata": {},
     "output_type": "execute_result"
    },
    {
     "data": {
      "image/png": "[encoded data removed]",
      "text/plain": [
       "<Figure size 432x288 with 1 Axes>"
      ]
     },
     "metadata": {
      "needs_background": "light"
     },
     "output_type": "display_data"
    }
   ],
   "source": [
    "import numpy as np\n",
    "import matplotlib.pyplot as plt\n",
    "from scipy.integrate import odeint\n",
    "import math\n",
    "\n",
    "T = math.pi\n",
    "p_arr = np.arange(0.1, 50, 0.05)\n",
    "V1 = np.array([1, 0])\n",
    "V2 = np.array([0, 1])\n",
    "\n",
    "epsilon = 0.001\n",
    "\n",
    "s = []\n",
    "\n",
    "def f(U, t):\n",
    "    return [U[1], -(p + np.exp(np.sin(t)))*U[0]]\n",
    "\n",
    "def solution(p):\n",
    "    uv1 = odeint(f, V1, [0, T])[-1]\n",
    "    uv2 = odeint(f, V2, [0, T])[-1]\n",
    "    \n",
    "    C=np.array([[uv1[0],uv2[0]],\n",
    "                [uv1[1],uv2[1]]])\n",
    "    eigenvalues = np.linalg.eigvals(C)\n",
    "    \n",
    "    spectral_radius = max(abs(eigenvalues))\n",
    "    \n",
    "    s.append(spectral_radius)\n",
    "\n",
    "for p in p_arr:\n",
    "    solution(p)\n",
    "   \n",
    "\n",
    "plt.plot(p_arr,s)\n",
    "    "
   ]
  },
  {
   "cell_type": "markdown",
   "metadata": {},
   "source": [
    "Найдем границу устойчивости и неустойчивости с точностю до 0.001"
   ]
  },
  {
   "cell_type": "code",
   "execution_count": 84,
   "metadata": {},
   "outputs": [
    {
     "name": "stdout",
     "output_type": "stream",
     "text": [
      "7.050000000000002\n"
     ]
    }
   ],
   "source": [
    "r_0 = 0\n",
    "\n",
    "for i in range(len(s) - 1, -1, -1):\n",
    "    if abs(s[i]) > 1 + epsilon:\n",
    "        p_0 = p_arr[i]\n",
    "        break;\n",
    "print(p_0)\n",
    "        "
   ]
  },
  {
   "cell_type": "markdown",
   "metadata": {},
   "source": [
    "## Выводы\n",
    "\n",
    "В ходе данной лабораторной работы было проведено исследование однородного линейного уравнения с периодическими коэффициентами. Была найдена граница зоны устойчивости и неустойчивости $p_0=7.05$ с точностью 0.001"
   ]
  }
 ],
 "metadata": {
  "kernelspec": {
   "display_name": "Python 3 (ipykernel)",
   "language": "python",
   "name": "python3"
  },
  "language_info": {
   "codemirror_mode": {
    "name": "ipython",
    "version": 3
   },
   "file_extension": ".py",
   "mimetype": "text/x-python",
   "name": "python",
   "nbconvert_exporter": "python",
   "pygments_lexer": "ipython3",
   "version": "3.9.5"
  }
 },
 "nbformat": 4,
 "nbformat_minor": 4
}
