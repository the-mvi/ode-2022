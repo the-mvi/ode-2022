{
 "cells": [
  {
   "cell_type": "markdown",
   "metadata": {},
   "source": [
    "# Практическая работа №0: Краевая задача для уравнения II-го порядка.\n",
    "\n",
    "Выполнил студент гр. 9382 Дерюгин Дмитрий, вариант 23."
   ]
  },
  {
   "cell_type": "markdown",
   "metadata": {},
   "source": [
    "## Цель работы\n",
    "\n",
    "Научиться применять дифференциальные уравнения в различных областях, решать краевую задачу для уравнения II-го порядка путём многократного решения задачи Коши."
   ]
  },
  {
   "cell_type": "markdown",
   "metadata": {},
   "source": [
    "## Основные теоретические положения\n",
    "### Задача Коши\n",
    " Задача Коши подразумевает поиск какого-либо частного решения уравнения $y=f(x)$, удовлетворяющим условиям\n",
    " \n",
    "Общий вид задачи Коши:\n",
    "\n",
    "$\n",
    "    \\begin{cases}\n",
    "    f(x, y, y', y'', ...y^{(n)}) = 0\\\\\n",
    "    y(x_0) = y_0\\\\\n",
    "    y'(x_0) = y_1\\\\\n",
    "    y''(x_0) = y_2\\\\\n",
    "    ...\\\\\n",
    "    y^{(n-1)}(x_0) = y_{n-1}\\\\\n",
    "    \\end{cases}\n",
    "    $"
   ]
  },
  {
   "cell_type": "markdown",
   "metadata": {},
   "source": [
    "## Постановка задачи\n",
    "\n",
    "Дано дифференциальное уравнение:\n",
    "\n",
    "$y\"=f(x,y), a<x<b$  (1)\n",
    "\n",
    "и граничные условия\n",
    "$y(a) = y_a, y(b) = y_b$   (2)\n",
    "\n",
    "Требуется найти решение задачи (1)-(2) и построить его график.\n",
    "\n",
    "Рассмотрим задачу Коши для уравнения (1) с начальными условиями\n",
    "\n",
    "$y(a) = y_a, y'(a) = h$   (3)\n",
    "\n",
    "План решения основан на многократном решении задачи Коши (1), (3).\n",
    "\n",
    "Значение решения задачи Коши при 𝑥 = 𝑏 является функцией от h.\n",
    "\n",
    "Задача сводится к отысканию такого значения переменной h, при котором выполнено условие на правом конце отрезка, т.е. должно выполняться\n",
    "\n",
    "$y(b,h)=y_b$\n",
    "\n",
    "Это уравнение с одним неизвестным h.\n",
    "Для его решения можно применить стандартный метод половинного\n",
    "деления.\n"
   ]
  },
  {
   "cell_type": "markdown",
   "metadata": {},
   "source": [
    "## Выполнение работы\n",
    "\n",
    "Есть уравнение: $y\" = sin(x+y^2)$\n",
    "\n",
    "Граничные условия:\n",
    "\n",
    "$y(0) = 3\\\\\n",
    "y(2) = -3$\n",
    "\n",
    "Задача Коши:\n",
    "$ \\begin{cases}\n",
    "y\" = sin(x+y^2)\\\\\n",
    " y(0) = 3\\\\\n",
    " y'(0) = h\n",
    "  \\end{cases}$\n",
    "  \n",
    "\n",
    "Подключим все нужные библиотеки, а также объявим все переменные и функции. Возьмем $h_0=0$"
   ]
  },
  {
   "cell_type": "code",
   "execution_count": 207,
   "metadata": {},
   "outputs": [],
   "source": [
    "import numpy as np\n",
    "import matplotlib.pyplot as plt\n",
    "from scipy.integrate import odeint\n",
    "ya = 3\n",
    "yb = -3\n",
    "a = 0\n",
    "b = 2\n",
    "h0 = 0\n",
    "h1 = h0\n",
    "y0 = y1 = None\n",
    "epsilon = 0.001\n",
    "X = np.arange(a, b, epsilon)\n"
   ]
  },
  {
   "cell_type": "code",
   "execution_count": 208,
   "metadata": {},
   "outputs": [],
   "source": [
    "def f(Y,x):\n",
    "    return [Y[1], np.sin(x+Y[0]**2)]\n",
    "\n",
    "def main_func(h):\n",
    "    res =  odeint(f, [ya, h], X)\n",
    "    return [res, res[-1, 0]]"
   ]
  },
  {
   "cell_type": "markdown",
   "metadata": {},
   "source": [
    "Найдем решение при заданной $h_0$"
   ]
  },
  {
   "cell_type": "code",
   "execution_count": 210,
   "metadata": {},
   "outputs": [
    {
     "name": "stdout",
     "output_type": "stream",
     "text": [
      "y(b, h0) = 2.655948207016522\n",
      "h0 = 0\n"
     ]
    },
    {
     "data": {
      "image/png": "[encoded data removed]",
      "text/plain": [
       "<Figure size 432x288 with 1 Axes>"
      ]
     },
     "metadata": {
      "needs_background": "light"
     },
     "output_type": "display_data"
    }
   ],
   "source": [
    "[res, y0] = main_func(h0)\n",
    "plt.plot(X, res[:,0])\n",
    "print(f'y(b, h0) = {y0}\\nh0 = {h0}')"
   ]
  },
  {
   "cell_type": "markdown",
   "metadata": {},
   "source": [
    "Получаем значение $y(b, h_0) > y_b$. Возьмем $\\delta h = -0.001$ И будем искать $h_1 = h_1 + \\Delta h\\\\$ до тех пор, пока \n",
    "\n",
    "$y(b, h_1) < y_b$"
   ]
  },
  {
   "cell_type": "code",
   "execution_count": 211,
   "metadata": {},
   "outputs": [],
   "source": [
    "y1 = y0\n",
    "while y1 > yb:\n",
    "    h1 -= epsilon\n",
    "    y1 = main_func(h1)[1]"
   ]
  },
  {
   "cell_type": "markdown",
   "metadata": {},
   "source": [
    "Теперь методом половинного деления будем уменьшать отрезок $[y(b, h_1), y(b, h_0)]$ до тех пор, пока не выполнится неравенство:\n",
    "\n",
    "$|y(b, h_0) - y(b, h_1)| < 0.001$"
   ]
  },
  {
   "cell_type": "code",
   "execution_count": 213,
   "metadata": {},
   "outputs": [
    {
     "name": "stdout",
     "output_type": "stream",
     "text": [
      "y(b, h) = -3.0015289400138068\n",
      "h= -3.376793884277083\n"
     ]
    },
    {
     "data": {
      "text/plain": [
       "[<matplotlib.lines.Line2D at 0x198965f34c0>]"
      ]
     },
     "execution_count": 213,
     "metadata": {},
     "output_type": "execute_result"
    },
    {
     "data": {
      "image/png": "[encoded data removed]",
      "text/plain": [
       "<Figure size 432x288 with 1 Axes>"
      ]
     },
     "metadata": {
      "needs_background": "light"
     },
     "output_type": "display_data"
    }
   ],
   "source": [
    "while (y0 - y1 > epsilon):\n",
    "    mid = (h0 + h1)/2\n",
    "    y_temp = main_func(mid)[1]\n",
    "    if (y_temp < y0):\n",
    "        y0 = y_temp\n",
    "        h0 = mid\n",
    "    else:\n",
    "        y1 = y_temp\n",
    "        h1 = mid\n",
    "print(f'y(b, h) = {main_func((h0 + h1)/2)[1]}\\nh= {(h0 + h1)/2}')\n",
    "plt.plot(X, main_func((h0 + h1)/2)[0][:,0])"
   ]
  },
  {
   "cell_type": "code",
   "execution_count": 215,
   "metadata": {},
   "outputs": [
    {
     "data": {
      "text/plain": [
       "[<matplotlib.lines.Line2D at 0x1989665e5e0>]"
      ]
     },
     "execution_count": 215,
     "metadata": {},
     "output_type": "execute_result"
    },
    {
     "data": {
      "image/png": "[encoded data removed]",
      "text/plain": [
       "<Figure size 432x288 with 1 Axes>"
      ]
     },
     "metadata": {
      "needs_background": "light"
     },
     "output_type": "display_data"
    }
   ],
   "source": [
    "plt.plot(X, main_func((h0 + h1)/2)[0][:,1])"
   ]
  },
  {
   "cell_type": "markdown",
   "metadata": {},
   "source": [
    "## Выводы\n",
    "\n",
    "В результате данной работы была решена краевая задача для дифференциального уравнения второго порядка путем многократного решения задачи Коши. Эксперементальным путем была  найдена $h = -3.3768$, такая, что выполнено следующее условие: $y'(0) = h$"
   ]
  }
 ],
 "metadata": {
  "kernelspec": {
   "display_name": "Python 3 (ipykernel)",
   "language": "python",
   "name": "python3"
  },
  "language_info": {
   "codemirror_mode": {
    "name": "ipython",
    "version": 3
   },
   "file_extension": ".py",
   "mimetype": "text/x-python",
   "name": "python",
   "nbconvert_exporter": "python",
   "pygments_lexer": "ipython3",
   "version": "3.9.5"
  }
 },
 "nbformat": 4,
 "nbformat_minor": 4
}
