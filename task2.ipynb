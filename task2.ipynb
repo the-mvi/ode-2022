{
 "cells": [
  {
   "cell_type": "markdown",
   "metadata": {},
   "source": [
    "# Практическая работа №2: Исследование однородного линейного уравнения с периодическими коэффициентами.\n",
    "\n",
    "Выполнила студентка гр. 9381 Андрух Ирина, вариант 1."
   ]
  },
  {
   "cell_type": "markdown",
   "metadata": {},
   "source": [
    "## Цель работы\n",
    "\n",
    "Изучение устойчивости однородного линейного уравнения с периодическими коэффициентами при $t \\rightarrow +\\infty$.\n"
   ]
  },
  {
   "cell_type": "markdown",
   "metadata": {},
   "source": [
    "## Основные теоретические положения\n",
    "\n",
    "Системой однородных линейных дифференциальных уравнений с периодическими коэффициентами называется система однородных линейных ОДУ следующего вида:\n",
    "\n",
    "$$ X' = A(t) X, \\;\\; A(t + T) = A(t), \\;\\; t \\ge 0 \\;\\;\\;\\;\\;\\;\\;\\; (0) $$\n",
    "$$ X' = (x_1', \\dots, x_n')^T, \\;\\; X = (x_1, \\dots, x_n)^T, \\;\\; A(t) = || a_{ij}(t) ||, \\;\\; a_{ij}(t + T) = a_{ij}(t)$$\n",
    "\n",
    "Число $T > 0$ называют периодом коэффициентов системы $(0)$.\n",
    "\n",
    "Фундаментальной матрицей системы $(0)$ называется такая матрица $\\Phi(t)$, что ее стобцы являются линейно независимыми решениями системы $(0)$. В матричном виде: $\\Phi' = A(t)\\Phi$.\n",
    "\n",
    "Основной матрицей для фундаментальной матрицы $\\Phi(t)$ называется такая матрица $C$, что $\\Phi(t + T) = \\Phi(t)C, \\; \\forall t \\ge 0$.\n",
    "\n",
    "Спектральным радиусом матрицы $C$ называется число $r(C) = \\max\\limits_{i}|\\lambda_i|$, где $\\lambda_i$ - собственные числа матрицы $C$."
   ]
  },
  {
   "cell_type": "markdown",
   "metadata": {},
   "source": [
    "## Постановка задачи\n",
    "\n",
    "Дано дифференциальное уравнение:\n",
    "\n",
    "$$ x'' + a(p,t)x = 0, \\;\\; a(p,t) = p + b(t), \\;\\; b(t + T) = b(t), $$\n",
    "\n",
    "где $p$ - параметр.\n",
    "\n",
    "Данное уравнение сводится к системе двух уравнений I-го порядка:\n",
    "\n",
    "$$\n",
    "\\begin{cases}\n",
    "    u'_1 = u_2, \\\\\n",
    "    u'_2 = -a(p,t)u_1;\n",
    "\\end{cases}\n",
    "\\;\\;\\;\\;\\;\\;\\;\\;\\;\\;\\;\\;\\;\\;\\;\\;\\;\\;\\; (1)\n",
    "$$\n",
    "\n",
    "Здесь $u_1(t) = x(t), \\; u_2(t) = x'(t)$.\n",
    "\n",
    "Необходимо провести исследование устойчивости однородного линейного уравнения. Дальнейшие рассуждения применимы к любой линейной периодической системе, а не только к системе вида $(1)$."
   ]
  },
  {
   "cell_type": "markdown",
   "metadata": {},
   "source": [
    "## Схема решения\n",
    "\n",
    "1. Задаем массив значений параметра $p$. Например, $p$ меняется от $0.1$ до $5$ с шагом $0.05$. Для каждого значения $p$ проделаем следующие действия:\n",
    "\n",
    "2. Вычисляем значение фундаментальной матрицы системы $(1)$ при $t = T$ с помощью любой программы численного решения задачи\n",
    "Коши.\n",
    "Для этого решаем две задачи Коши с начальными векторами $V_1 = (1, 0)^T$ и $V_2 = (0, 1)^T$ на отрезке $[0, T]$. Пусть вектор-функции $U(t, V_1), \\; U(t, V_2)$ – решения этих задач. Они являются столбцами фундаментальной матрицы $\\Phi(t)$, удовлетворяющей условию $\\Phi(0) = E$. Основную матрицу $C$ для $\\Phi(t)$ получаем из формулы $C = \\Phi(T)$.\n",
    "Столбцы матрицы $C$ это векторы $U(T, V_1), U(T, V_2)$;\n",
    "\n",
    "3. Вычисляем собственные числа матрицы 𝐶 и ее спектральный радиус, т.е.\n",
    "$$ r(p) = \\max\\limits_{j = 1,2}|\\lambda_j|.$$\n",
    "В результате имеем массив значений $r(p)$;\n",
    "\n",
    "4. Вывод об устойчивости или неустойчивости делается в зависимости от значения $r(p)$.\n",
    "\n",
    "Рекомендуется построить график этой зависимости, из которого с достаточной точностью можно определить точку 𝑝0, которая разделяет зоны устойчивости и неустойчивости, в которых $r \\le 1$ и $r \\gt 1$. Более точно\n",
    "вычисляется методом половинного деления.\n",
    "\n",
    "Матрицу $C$ можно найти только приближенно, решая численно две задачи Коши."
   ]
  },
  {
   "cell_type": "markdown",
   "metadata": {},
   "source": [
    "## Выполнение работы\n",
    "\n",
    "### Вариант 1\n",
    "\n",
    "Функция $b(t)$ задана следующим выражением:\n",
    "\n",
    "$$ b(t) = ln(2 - sin(2t)) $$"
   ]
  },
  {
   "cell_type": "markdown",
   "metadata": {},
   "source": [
    "Подключение библиотек:"
   ]
  },
  {
   "cell_type": "code",
   "execution_count": 2,
   "metadata": {},
   "outputs": [],
   "source": [
    "from math import log, sin, pi\n",
    "from matplotlib.pyplot import grid, legend, plot, xlabel, ylabel\n",
    "from numpy import arange, array\n",
    "from numpy.linalg import eigvals\n",
    "from scipy import integrate\n",
    "\n",
    "%matplotlib inline"
   ]
  },
  {
   "cell_type": "markdown",
   "metadata": {},
   "source": [
    "Объявим функции $b(t)$ и $a(p,t)$, а также их период $T = \\pi$:"
   ]
  },
  {
   "cell_type": "code",
   "execution_count": 3,
   "metadata": {},
   "outputs": [],
   "source": [
    "def b(t):\n",
    "    return log(2 - sin(2 * t))\n",
    "\n",
    "def a(p, t):\n",
    "    return p + b(t)\n",
    "\n",
    "T = pi"
   ]
  },
  {
   "cell_type": "markdown",
   "metadata": {},
   "source": [
    "График функции $b(t)$ имеет следующий вид ($t \\in [-T, T]$):"
   ]
  },
  {
   "cell_type": "code",
   "execution_count": 4,
   "metadata": {},
   "outputs": [
    {
     "data": {
      "text/plain": [
       "[<matplotlib.lines.Line2D at 0x23c5b687e50>]"
      ]
     },
     "execution_count": 4,
     "metadata": {},
     "output_type": "execute_result"
    },
    {
     "data": {
      "image/png": "[encoded data removed]",
      "text/plain": [
       "<Figure size 432x288 with 1 Axes>"
      ]
     },
     "metadata": {
      "needs_background": "light"
     },
     "output_type": "display_data"
    }
   ],
   "source": [
    "t_values = arange(-T, T, 0.001)\n",
    "b_values = [b(t) for t in t_values]\n",
    "\n",
    "xlabel(\"t\")\n",
    "ylabel(\"b (t)\")\n",
    "plot(t_values, b_values)"
   ]
  },
  {
   "cell_type": "markdown",
   "metadata": {},
   "source": [
    "Зададим массив значений параметра $p$ из промежутка $[0, 10]$ с шагом $0.001$:"
   ]
  },
  {
   "cell_type": "code",
   "execution_count": 5,
   "metadata": {},
   "outputs": [],
   "source": [
    "left = 0\n",
    "right = 10\n",
    "step = 0.001\n",
    "\n",
    "p_values = arange(left, right + step, step)"
   ]
  },
  {
   "cell_type": "markdown",
   "metadata": {},
   "source": [
    "Для каждого параметра $p$ найдем спектральный радиус основной матрицы $C$. Для этого сначала находится фундаментальная матрица $\\Phi(p, t)$, удовлетворяющей условию  $\\Phi(p, 0) = E$. Далее находится основная матрица $C(p) = \\Phi(p, T)$ и ее спектральный радиус $r(p)$:"
   ]
  },
  {
   "cell_type": "code",
   "execution_count": 6,
   "metadata": {},
   "outputs": [],
   "source": [
    "interval = (0, T)\n",
    "v_1 = (1, 0)\n",
    "v_2 = (0, 1)\n",
    "sr_values = []\n",
    "\n",
    "for p in p_values:\n",
    "    de_system_func = lambda t, values: [values[1], -a(p, t) * values[0]]\n",
    "    u1 = integrate.solve_ivp(de_system_func, interval, v_1)\n",
    "    u2 = integrate.solve_ivp(de_system_func, interval, v_2)\n",
    "    c = array([[u1.y[0][-1], u2.y[0][-1]],\n",
    "               [u1.y[1][-1], u2.y[1][-1]]])\n",
    "    sr = max(abs(eigvals(c)))\n",
    "    sr_values.append(sr)"
   ]
  },
  {
   "cell_type": "markdown",
   "metadata": {},
   "source": [
    "Построим график спектрального радиуса основной матрицы при различных параметрах $p$:"
   ]
  },
  {
   "cell_type": "code",
   "execution_count": 7,
   "metadata": {
    "scrolled": false
   },
   "outputs": [
    {
     "data": {
      "image/png": "[encoded data removed]",
      "text/plain": [
       "<Figure size 432x288 with 1 Axes>"
      ]
     },
     "metadata": {
      "needs_background": "light"
     },
     "output_type": "display_data"
    }
   ],
   "source": [
    "xlabel(\"p\")\n",
    "ylabel(\"sr\")\n",
    "plot(p_values, sr_values)\n",
    "grid(True)"
   ]
  },
  {
   "cell_type": "markdown",
   "metadata": {},
   "source": [
    "Определим точку $p_0$ с точностью $|r(p_0) - 1| < 0.001$:"
   ]
  },
  {
   "cell_type": "code",
   "execution_count": 8,
   "metadata": {},
   "outputs": [
    {
     "name": "stdout",
     "output_type": "stream",
     "text": [
      "p0 = 8.385, r(p0) = 1.0004243306405414\n"
     ]
    }
   ],
   "source": [
    "p0 = None\n",
    "rp0 = None\n",
    "\n",
    "for i in range(1, len(sr_values)):\n",
    "    if abs(sr_values[-i] - 1) > 0.001:\n",
    "        p0 = p_values[-i + 1]\n",
    "        rp0 = sr_values[-i + 1]\n",
    "        break\n",
    "\n",
    "print(\"p0 = {}, r(p0) = {}\".format(p0, rp0))"
   ]
  },
  {
   "cell_type": "markdown",
   "metadata": {},
   "source": [
    "Построим график спектрального радиуса основной матрицы при различных параметрах $p$ с отмеченной на нем точкой $p_0$:"
   ]
  },
  {
   "cell_type": "code",
   "execution_count": 9,
   "metadata": {
    "scrolled": true
   },
   "outputs": [
    {
     "data": {
      "text/plain": [
       "<matplotlib.legend.Legend at 0x23c5d75ccd0>"
      ]
     },
     "execution_count": 9,
     "metadata": {},
     "output_type": "execute_result"
    },
    {
     "data": {
      "image/png": "[encoded data removed]",
      "text/plain": [
       "<Figure size 432x288 with 1 Axes>"
      ]
     },
     "metadata": {
      "needs_background": "light"
     },
     "output_type": "display_data"
    }
   ],
   "source": [
    "xlabel(\"p\")\n",
    "ylabel(\"sr\")\n",
    "plot([p0, p0], [0.999, 1.55], color=\"black\", label=\"p0\")\n",
    "plot(p_values, sr_values, label=\"r(p)\")\n",
    "grid(True)\n",
    "legend()"
   ]
  },
  {
   "cell_type": "markdown",
   "metadata": {},
   "source": [
    "Рассмотрим промежуток $p \\in [8.3, 8.4]$ поближе:"
   ]
  },
  {
   "cell_type": "code",
   "execution_count": 27,
   "metadata": {
    "scrolled": true
   },
   "outputs": [
    {
     "data": {
      "text/plain": [
       "<matplotlib.legend.Legend at 0x23c5f012190>"
      ]
     },
     "execution_count": 27,
     "metadata": {},
     "output_type": "execute_result"
    },
    {
     "data": {
      "image/png": "[encoded data removed]",
      "text/plain": [
       "<Figure size 432x288 with 1 Axes>"
      ]
     },
     "metadata": {
      "needs_background": "light"
     },
     "output_type": "display_data"
    }
   ],
   "source": [
    "xlabel(\"p\")\n",
    "ylabel(\"sr\")\n",
    "plot([p0, p0], [0.999, 1.005], color=\"black\", label=\"p0\")\n",
    "plot(p_values[-int(2.2 / step):-int(1.57 / step)], sr_values[-int(2.2 / step):-int(1.57 / step)])\n",
    "grid(True)\n",
    "legend()"
   ]
  },
  {
   "cell_type": "markdown",
   "metadata": {},
   "source": [
    "Можно сделать вывод о том,что граница между зонами устойчивости и неустойчивости равна $p_0 = 8.385$. При значениях $p < p_0$ наблюдаются области со значением $r(p) > 1$. При таких значениях $p$ по крайней мере часть решений системы не ограничена. "
   ]
  },
  {
   "cell_type": "markdown",
   "metadata": {},
   "source": [
    "## Выводы\n",
    "\n",
    "При выполнении практической работы была изучена устойчивость системы однородных линейных ОДУ с переодическими коэффициетами при $t \\rightarrow +\\infty$. Найдена граница зоны устойчивости и неустойчивости $p_0 = 8.385$, сделаны выводы об устойчивости системы при $p >= p_0 = 8.385$ и неустойчивости системы при $p < p_0 = 8.385$. Значение $p_0$ найдено с точностью $|r(p_0) - 1| < 0.001$."
   ]
  },
  {
   "cell_type": "code",
   "execution_count": null,
   "metadata": {},
   "outputs": [],
   "source": []
  }
 ],
 "metadata": {
  "kernelspec": {
   "display_name": "Python 3 (ipykernel)",
   "language": "python",
   "name": "python3"
  },
  "language_info": {
   "codemirror_mode": {
    "name": "ipython",
    "version": 3
   },
   "file_extension": ".py",
   "mimetype": "text/x-python",
   "name": "python",
   "nbconvert_exporter": "python",
   "pygments_lexer": "ipython3",
   "version": "3.9.7"
  }
 },
 "nbformat": 4,
 "nbformat_minor": 4
}
