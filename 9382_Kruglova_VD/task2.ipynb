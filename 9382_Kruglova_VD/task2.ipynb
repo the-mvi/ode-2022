{
 "cells": [
  {
   "cell_type": "markdown",
   "metadata": {},
   "source": [
    "# Практическая работа №2: Исследование однородного линейного уравнения с периодическими коэффициентами\n",
    "\n",
    "Выполнила студентка гр. 9382 Круглова Виктория, вариант 26."
   ]
  },
  {
   "cell_type": "markdown",
   "metadata": {},
   "source": [
    "## Цель работы\n",
    "\n",
    "Изучение устойчивости однородного линейного уравнения с периодическими коэффициентами при $t \\to \\infty$"
   ]
  },
  {
   "cell_type": "markdown",
   "metadata": {},
   "source": [
    "## Основные теоретические положения\n",
    "Линейная однородная система дифференциальных уравнений\n",
    "$\n",
    "    X'=A(t)X, A(t+T) = A(t), t \\geqslant 0 (1)\n",
    "$\n",
    "называется линейной однородной системой с периодическими коэффициентами.\n",
    "\n",
    "Матрица $\\Phi(t)={\\phi_{ij}, i,j=1,2...n}$ для системы (1) называется фундаментальной, если все ее столбцы являются линейно независимыми решениями системы.\n",
    "\n",
    "Матрица $C$, для которой справедливо $\\Phi(t + T) = \\Phi(t)C, \\forall t \\geqslant 0$, является основной для фундаментальной матрицы $\\Phi(t)$.\n",
    "\n",
    "Спектральный радиус матрицы $A$ - это максимальное по модулю собственное число матрицы $A$. $p(A) = \\max{|\\lambda_i|}, i=1..n$"
   ]
  },
  {
   "cell_type": "markdown",
   "metadata": {},
   "source": [
    "## Постановка задачи\n",
    "\n",
    "Дано дифференциальное уравнение:\n",
    "$x'' + a(p,t)x = 0, a(p,t) = p + b(t), b(t+T) = b(t)$\n",
    "где p - параметр.\n",
    "\n",
    "Данное уравнение сводится к системе двух уравнений I-го порядка:\n",
    "\n",
    "$\n",
    "\\begin{cases}\n",
    "    u_1'=u_2 \\\\\n",
    "    u_2'=-a(p,t)u_1 \\\\\n",
    "\\end{cases}\n",
    "$\n",
    "\n",
    "Здесь $u_1(t) = x(t), u_2(t) = x'(t)$\n",
    "\n",
    "Необходимо провести исследование устойчивости однородного линейного уравнения."
   ]
  },
  {
   "cell_type": "markdown",
   "metadata": {},
   "source": [
    "## Выполнение работы"
   ]
  },
  {
   "cell_type": "markdown",
   "metadata": {},
   "source": [
    "Вариант 26. Дана функция $b(t) = cos^2(sin(t))$ с периодом $T =\\pi$."
   ]
  },
  {
   "cell_type": "code",
   "execution_count": 49,
   "metadata": {},
   "outputs": [
    {
     "name": "stdout",
     "output_type": "stream",
     "text": [
      "Получаем интервалы неустойчивости: \n",
      "( 0.20000000000000004 , 0.6000000000000002 ) и ( 3.350000000000001 , 3.450000000000001 )\n"
     ]
    }
   ],
   "source": [
    "import numpy as np\n",
    "import matplotlib.pyplot as plt\n",
    "from scipy.integrate import odeint\n",
    "\n",
    "v_1 = [1,0]\n",
    "v_2 = [0,1]\n",
    "T = np.pi\n",
    "a_t = np.arange(0, T, 0.001)\n",
    "array_of_p = np.arange(0.1, 5, 0.05)\n",
    "r = []\n",
    "\n",
    "for p in array_of_p:\n",
    "    f = lambda x, t: [x[1], -(p + np.power(np.cos(np.sin(t)),2))*x[0]]\n",
    "    # в ode1, ode2 решения задачи Коши\n",
    "    ode1 = odeint(f, v_1, a_t)\n",
    "    ode2 = odeint(f, v_2, a_t)\n",
    "    # матрица С\n",
    "    C = np.matrix([ode1[-1], ode2[-1]]).transpose()\n",
    "    # нахождение спектрального радиуса\n",
    "    # взяты значения с 4 знаками после запятой, чтобы исключить малые колебания\n",
    "    radius = np.around(np.max(np.abs(np.linalg.eigvals(C))),4)\n",
    "    r.append(radius)\n",
    "    \n",
    "pintervals = []\n",
    "isIntervalStart = True\n",
    "# нахождение интервалов неустойчивости\n",
    "for i in range(len(r)):\n",
    "    if isIntervalStart == True and r[i] > 1:\n",
    "        pintervals.append(array_of_p[i-1])\n",
    "        isIntervalStart = False\n",
    "    elif isIntervalStart == False and r[i] <= 1:\n",
    "        pintervals.append(array_of_p[i])\n",
    "        isIntervalStart = True\n",
    "    \n",
    "print(\"Получаем интервалы неустойчивости: \\n(\",pintervals[0],\",\",pintervals[1],\") и (\",pintervals[2],\",\",pintervals[3],\")\")"
   ]
  },
  {
   "cell_type": "markdown",
   "metadata": {},
   "source": [
    "Таким образом система не устойчива на двух интервалах. \n",
    "\n",
    "Рассмотрим зависимость спектрального адреса $r(p)$ от параметра p на графике:"
   ]
  },
  {
   "cell_type": "code",
   "execution_count": 50,
   "metadata": {},
   "outputs": [
    {
     "data": {
      "image/png": "[encoded data removed]",
      "text/plain": [
       "<Figure size 864x864 with 1 Axes>"
      ]
     },
     "metadata": {
      "needs_background": "light"
     },
     "output_type": "display_data"
    }
   ],
   "source": [
    "plt.rcParams[\"figure.figsize\"] = (12,12)\n",
    "plt.rcParams.update({'font.size': 15})\n",
    "plt.xlabel(\"p\")\n",
    "plt.ylabel(\"r(p)\")\n",
    "plt.plot(array_of_p, r)\n",
    "plt.axvline(x=p_0[0], color='red', linestyle='dashed')\n",
    "plt.axvline(x=p_0[1], color='red', linestyle='dashed')\n",
    "plt.axvline(x=p_0[2], color='m', linestyle='dashed')\n",
    "plt.axvline(x=p_0[3], color='m', linestyle='dashed')\n",
    "plt.show()"
   ]
  },
  {
   "cell_type": "markdown",
   "metadata": {},
   "source": [
    "Следовательно на интервалах $[0.1, 0.2], [0.6, 3.35]$ и $[3.45,5]$ система устойчива, а на $(0.2,0.6)$ и $(3.35,3.45)$ не устойчива."
   ]
  },
  {
   "cell_type": "markdown",
   "metadata": {},
   "source": [
    "## Выводы\n",
    "\n",
    "Исследована устойчивость однородного линейного уравнения с периодическими коэффициентами. Была построена основная матрица, затем найден спектральный радиус для различных значений параметра p. Система оказалось не устойчива на двух интервалах: возле нуля длиной 0.4 и возле 3.4 длиной 0.1."
   ]
  }
 ],
 "metadata": {
  "kernelspec": {
   "display_name": "Python 3 (ipykernel)",
   "language": "python",
   "name": "python3"
  },
  "language_info": {
   "codemirror_mode": {
    "name": "ipython",
    "version": 3
   },
   "file_extension": ".py",
   "mimetype": "text/x-python",
   "name": "python",
   "nbconvert_exporter": "python",
   "pygments_lexer": "ipython3",
   "version": "3.8.11"
  }
 },
 "nbformat": 4,
 "nbformat_minor": 4
}
