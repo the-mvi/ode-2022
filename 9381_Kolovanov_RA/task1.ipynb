{
 "cells": [
  {
   "cell_type": "markdown",
   "id": "62cecc68",
   "metadata": {},
   "source": [
    "# Практическая работа №1: Краевая задача для уравнения II-го порядка.\n",
    "\n",
    "Выполнил студент гр. 9381 Колованов Родион, вариант 6."
   ]
  },
  {
   "cell_type": "markdown",
   "id": "141f3767",
   "metadata": {},
   "source": [
    "## Цель работы\n",
    "\n",
    "Научиться применять дифференциальные уравнения в различных областях, решать краевую задачу для уравнения II-го порядка путём многократного решения задачи Коши."
   ]
  },
  {
   "cell_type": "markdown",
   "id": "3d81671c",
   "metadata": {},
   "source": [
    "## Основные теоретические положения\n",
    "\n",
    "Обыкновенные дифференциальные уравнения (ОДУ) — это уравнения, зависящие от одной независимой переменной, имеющие вид\n",
    "\n",
    "$$ f(x, y, y', y'', \\dots, y^{(n)}) = 0, $$ где $x$ - независимая переменная.\n",
    "\n",
    "Общим решением ОДУ является множество таких функций $y$, что $ f(x, y, y', y'', \\dots, y^{(n)}) = 0 $ для $\\forall{x}$.\n",
    "\n",
    "Задача Коши подразумевает поиск частного решения из числа общих, удовлетворяющих некоторым условиям. Общий вид задачи Коши:\n",
    "\n",
    "\\begin{cases}\n",
    "    f(x, y, y', y'', \\dots, y^{(n)}) = 0 \\\\\n",
    "    y(x_0) = y_0 \\\\\n",
    "    y'(x_0) = y_1 \\\\\n",
    "    y''(x_0) = y_2 \\\\\n",
    "    \\dots \\\\\n",
    "    y^{(n-1)}(x_0) = y_{n-1}\n",
    "\\end{cases}"
   ]
  },
  {
   "cell_type": "markdown",
   "id": "6e421541",
   "metadata": {},
   "source": [
    "## Постановка задачи\n",
    "\n",
    "Дано дифференциальное уравнение:\n",
    "\n",
    "$$ y'' = f(x, y), \\;\\; a < x < b \\;\\; (1) $$\n",
    "\n",
    "и граничные условия\n",
    "\n",
    "$$ y(a) = y_a \\;\\; y(b) = y_b \\;\\; (2) $$\n",
    "\n",
    "Требуется найти решение задачи $(1)$ - $(2)$ и построить его график.\n",
    "\n",
    "\n",
    "Рассмотрим задачу Коши для уравнения $(1)$ с начальными условиями\n",
    "\n",
    "$$ y(a) = y_a \\;\\; y'(a) = h \\;\\; (3) $$\n",
    "\n",
    "План решения основан на многократном решении задачи Коши $(1)$, $(3)$.\n",
    "Значение решения задачи Коши при $x = b$ является функцией от $h$.\n",
    "Задача сводится к отысканию такого значения переменной $h$, при котором выполнено условие на правом конце отрезка, т.е. должно выполняться\n",
    "\n",
    "$$ y(b, h) = y_b \\;\\; (4) $$\n",
    "\n",
    "Это уравнение с одним неизвестным $h$. Для его решения можно применить стандартный метод половинного\n",
    "деления."
   ]
  },
  {
   "cell_type": "markdown",
   "id": "63e206d5",
   "metadata": {},
   "source": [
    "## Схема решения\n",
    "\n",
    "1. Задаем наугад число $h_0$, решаем задачу Коши. Далее вычисляем $y(b, h_0)$.\n",
    "Если оказалось, что $y(b, h_0) = y_b$, то мы решили краевую задачу. Если же нет, то переходим на следующий шаг.\n",
    "\n",
    "\n",
    "2. Пусть, например, $y(b, h_0) > y_b$. Выберем шаг $\\Delta{h}$ и решаем несколько раз задачу Коши при $h_1 = h_0 + \\Delta{h}$.\n",
    "Если снова получили $y(b, h_1) > y_b$, причём $y(b, h_0) > y(b, h_1) > y_b$, решаем задачу Коши при $h_2 = h_1 + \\Delta{h}$ и т.д.\n",
    "Процесс повторяется пока не получим неравенство $y(b, h_m) < y_b$.\n",
    "Это означает, что искомое значение попало в «вилку», т.е. $h \\in (h_{m−1}; h_m)$.\n",
    "Шаг $\\Delta{h}$ не должен быть слишком маленьким, иначе процесс сильно затянется.\n",
    "Знак шага также не известен заранее, может оказаться, что нужно не увеличивать наклон, а уменьшать.\n",
    "\n",
    "\n",
    "3. Далее применяется стандартный процесс половинного деления к уравнению (4).\n",
    "\n",
    "\n",
    "4. Процесс останавливаем, когда выполнится неравенство $|y(b, h_m) − y(b, h_{m−1})| < 0.001$.\n",
    "\n",
    "\n",
    "5. Возможен случай, когда ни одна интегральная кривая не проходит через точку $(b, y_b)$, т.е. задача не имеет решения.\n",
    "Поэтому нужно ограничить число шагов. Процесс останавливается при $m > M$, где $M$ – заданное число (например, 100)."
   ]
  },
  {
   "cell_type": "markdown",
   "id": "3782dee1",
   "metadata": {},
   "source": [
    "## Выполнение работы\n",
    "\n",
    "### Вариант 6\n",
    "\n",
    "$$ a = 0, \\;\\; b = 2, \\;\\; y_a = 3, \\;\\; y_b = -3 $$\n",
    "\n",
    "$$ y'' = f(x, y) = 2^x (x - y) $$\n",
    "\n",
    "Сведем задачу к следующей системе:\n",
    "\n",
    "\\begin{cases}\n",
    "    y'' = f(x, y) = 2^x (x - y) \\\\\n",
    "    y(a) = y_a \\\\\n",
    "    y'(a) = h \\\\\n",
    "\\end{cases}\n",
    "\n",
    "$$ y' = g(x, y) $$\n",
    "\n",
    "\\begin{cases}\n",
    "    y' = g(x, y) \\\\\n",
    "    g' = f(x, y) = 2^x (x - y) \\\\\n",
    "    y(a) = y_a \\\\\n",
    "    y'(a) = h \\\\\n",
    "\\end{cases}"
   ]
  },
  {
   "cell_type": "markdown",
   "id": "44a70023",
   "metadata": {},
   "source": [
    "Подключим необходимые библиотеки:"
   ]
  },
  {
   "cell_type": "code",
   "execution_count": 212,
   "id": "3dded3e5",
   "metadata": {},
   "outputs": [],
   "source": [
    "from scipy import integrate\n",
    "from matplotlib.pyplot import grid, legend, plot, xlabel\n",
    "from numpy import linspace\n",
    "\n",
    "%matplotlib inline"
   ]
  },
  {
   "cell_type": "markdown",
   "id": "6e455e83",
   "metadata": {},
   "source": [
    "Объявим переменные $a$, $b$, $y_a$, $y_b$ и функцию $y'' = f(x, y)$:"
   ]
  },
  {
   "cell_type": "code",
   "execution_count": 213,
   "id": "3da62b81",
   "metadata": {},
   "outputs": [],
   "source": [
    "a = 0\n",
    "b = 2\n",
    "y_a = 3\n",
    "y_b = -3\n",
    "\n",
    "def f(x, y_x):\n",
    "    return (2 ** x) * (x - y_x)"
   ]
  },
  {
   "cell_type": "markdown",
   "id": "00b606ab",
   "metadata": {},
   "source": [
    "Задаем наугад число $h_0$: $h_0 = 0$. Вычислим $y(b, h_0)$ и проверим условие $y(b, h_0) = y_b = -3$:"
   ]
  },
  {
   "cell_type": "code",
   "execution_count": 214,
   "id": "dfc479f7",
   "metadata": {},
   "outputs": [
    {
     "name": "stdout",
     "output_type": "stream",
     "text": [
      "y(b=2,h=0) = -0.15288183786667225\n"
     ]
    }
   ],
   "source": [
    "h = 0\n",
    "n = 201\n",
    "X = linspace(a, b, n)\n",
    "\n",
    "def de_system_func(x, values):\n",
    "    y_x, dy_x = values\n",
    "    dy = dy_x\n",
    "    ddy = (2 ** x) * (x - y_x)\n",
    "    return dy, ddy\n",
    "\n",
    "results = integrate.solve_ivp(de_system_func, (a, b), (y_a, h), t_eval=X)\n",
    "Y = results.y[0]\n",
    "y_bh = Y[-1]\n",
    "\n",
    "print(\"y(b={},h={}) = {}\".format(b, h, y_bh))"
   ]
  },
  {
   "cell_type": "markdown",
   "id": "87678a8e",
   "metadata": {},
   "source": [
    "Как видно, $y(b, h_0) = -0.15288183786667225 > y_b = -3$. Не повезло, краевая задача не была решена. В этом случае будем изменять $h$ на $\\Delta{h}$ до тех пор, пока $y(b, h_m)$ не станет меньше $y_b = -3$:"
   ]
  },
  {
   "cell_type": "code",
   "execution_count": 215,
   "id": "9dd373ef",
   "metadata": {},
   "outputs": [
    {
     "name": "stdout",
     "output_type": "stream",
     "text": [
      "h принадлежит [-18; -17]\n"
     ]
    }
   ],
   "source": [
    "dh = -1\n",
    "steps = 1000\n",
    "\n",
    "for step in range(steps):\n",
    "    h_right = h\n",
    "    h += dh\n",
    "    h_left = h\n",
    "\n",
    "    results = integrate.solve_ivp(de_system_func, (a, b), (y_a, h), t_eval=X)\n",
    "\n",
    "    Y = results.y[0]\n",
    "    y_bh = Y[-1]\n",
    "\n",
    "    if y_bh < y_b:\n",
    "        break\n",
    "\n",
    "print(\"h принадлежит [{}; {}]\".format(h_left, h_right))"
   ]
  },
  {
   "cell_type": "markdown",
   "id": "06f49b25",
   "metadata": {},
   "source": [
    "Далее при помощи метода половинного деления найдем значение $h$, при котором выполняется равенство $y(b, h_0) = y_b$ с некоторой точностью $(|y(b, h_m) − y(b, h_{m−1})| < 0.001)$:"
   ]
  },
  {
   "cell_type": "code",
   "execution_count": 216,
   "id": "6e4e04df",
   "metadata": {},
   "outputs": [
    {
     "name": "stdout",
     "output_type": "stream",
     "text": [
      "h = -17.3984375: f(b, h) = -3.0004121634269856\n"
     ]
    }
   ],
   "source": [
    "results_left = integrate.solve_ivp(de_system_func, (a, b), (y_a, h_left), t_eval=X)\n",
    "results_right = integrate.solve_ivp(de_system_func, (a, b), (y_a, h_right), t_eval=X)\n",
    "\n",
    "for step in range(steps):\n",
    "    h_mid = h_left + abs(h_right - h_left) / 2\n",
    "    results_mid = integrate.solve_ivp(de_system_func, (a, b), (y_a, h_mid), t_eval=X)\n",
    "    y_bh = results_mid.y[0][-1]\n",
    "    y_bh_left = results_left.y[0][-1]\n",
    "\n",
    "    if (y_bh_left - y_b) * (y_bh - y_b) < 0:\n",
    "        h_right = h_mid\n",
    "        results_right = results_mid\n",
    "    else:\n",
    "        h_left = h_mid\n",
    "        results_left = results_mid\n",
    "    \n",
    "    if abs(results_left.y[0][-1] - results_right.y[0][-1]) < 0.001:\n",
    "        break\n",
    "\n",
    "print(\"h = {}: f(b, h) = {}\".format(h_left, results_left.y[0][-1]))"
   ]
  },
  {
   "cell_type": "markdown",
   "id": "75613211",
   "metadata": {},
   "source": [
    "Отобразим график полученных функций $y$, $y'$ и $y''$:"
   ]
  },
  {
   "cell_type": "code",
   "execution_count": 217,
   "id": "b5b10e26",
   "metadata": {},
   "outputs": [
    {
     "data": {
      "text/plain": [
       "<matplotlib.legend.Legend at 0x1f4e2259e50>"
      ]
     },
     "execution_count": 217,
     "metadata": {},
     "output_type": "execute_result"
    },
    {
     "data": {
      "image/png": "[encoded data removed]",
      "text/plain": [
       "<Figure size 432x288 with 1 Axes>"
      ]
     },
     "metadata": {
      "needs_background": "light"
     },
     "output_type": "display_data"
    }
   ],
   "source": [
    "h = h_left\n",
    "results = results_left\n",
    "\n",
    "Y = results.y[0]\n",
    "dY = results.y[1]\n",
    "ddY = [f(X[i], Y[i]) for i in range(len(X))]\n",
    "\n",
    "plot(X, Y, label=\"y\")\n",
    "plot(X, dY, label=\"y'\")\n",
    "plot(X, ddY, label=\"y''\")\n",
    "xlabel(\"x\")\n",
    "grid(True)\n",
    "legend()"
   ]
  },
  {
   "cell_type": "markdown",
   "id": "ee5f8877",
   "metadata": {},
   "source": [
    "## Выводы\n",
    "\n",
    "В ходе практической работы была решена краевая задача для уравнения 2-ого порядка с использованием методов численного интегрирования с определенной точностью.\n",
    "\n",
    "Были получены следующие результаты:\n",
    "- $ h = -17.3984375 $\n",
    "- $ f(b, h) = -3.0004121634269856 $\n",
    "\n",
    "Значение $h$ было найдено с точностью $|y(b, h_m) − y(b, h_{m−1})| < 0.001$."
   ]
  }
 ],
 "metadata": {
  "kernelspec": {
   "display_name": "Python 3",
   "language": "python",
   "name": "python3"
  },
  "language_info": {
   "codemirror_mode": {
    "name": "ipython",
    "version": 3
   },
   "file_extension": ".py",
   "mimetype": "text/x-python",
   "name": "python",
   "nbconvert_exporter": "python",
   "pygments_lexer": "ipython3",
   "version": "3.8.8"
  }
 },
 "nbformat": 4,
 "nbformat_minor": 5
}
