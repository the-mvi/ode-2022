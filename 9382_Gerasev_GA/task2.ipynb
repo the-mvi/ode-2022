{
  "metadata": {
    "language_info": {
      "codemirror_mode": {
        "name": "python",
        "version": 3
      },
      "file_extension": ".py",
      "mimetype": "text/x-python",
      "name": "python",
      "nbconvert_exporter": "python",
      "pygments_lexer": "ipython3",
      "version": "3.8"
    },
    "kernelspec": {
      "name": "python",
      "display_name": "Pyolite",
      "language": "python"
    }
  },
  "nbformat_minor": 4,
  "nbformat": 4,
  "cells": [
    {
      "cell_type": "markdown",
      "source": "## Практическая работа №2: Исследование однородного линейного уравнения с периодическими коэффициентами.",
      "metadata": {}
    },
    {
      "cell_type": "markdown",
      "source": "Выполнил студент гр. 9382 Герасев Георгий, вариант 3.",
      "metadata": {}
    },
    {
      "cell_type": "markdown",
      "source": "## Цель работы",
      "metadata": {}
    },
    {
      "cell_type": "markdown",
      "source": "Изучение устойчивости однородного линейного уравнения с периодическими коэффициентами при 𝑡 → +∞.",
      "metadata": {}
    },
    {
      "cell_type": "markdown",
      "source": "## Основные теоретические положения",
      "metadata": {}
    },
    {
      "cell_type": "markdown",
      "source": "Линейная однородная система c периодическими коэффициентами - это\n$$ X' = A(t)X, A(t + T) = A(t), t >= 0$$\n$Ф(t)$ - фундаментальная матрица системы, то есть ее столбцы – линейно независимые решения уравнения. В матричной записи $ Ф' = A(t)Ф$. \n\nЕсли $X(t)$ - решение линейной автономной системы, то $X(t + τ)$, где $τ$ - любое число, является решением этой системы.\n\nМатрица С, удовлетворяющая условию $$Ф(t + T) = Ф(t)C, ∀t >= 0,$$ называется основной для фундаментальной матрицы $Ф(t)$.\nСпектральным радиусом матрицы А называется максимум модуля ее собственных чисел.\n$$ ρ(A) = max_{0<=j<=n}|λ_j|$$",
      "metadata": {}
    },
    {
      "cell_type": "markdown",
      "source": "## Постановка задачи",
      "metadata": {}
    },
    {
      "cell_type": "markdown",
      "source": "Дано дифференциальное уравнение:\n$$𝑥′′ + 𝑎(𝑝, 𝑡)𝑥 = 0, 𝑎(𝑝, 𝑡) = 𝑝 + 𝑏(𝑡), 𝑏(𝑡 + 𝑇) = 𝑏(𝑡),$$\nгде $𝑝$ – параметр.\n\nДанное уравнение сводится к системе двух уравнений I-го порядка:\n$$\\begin{equation*}\n \\begin{cases}\n   𝑢′_1 = 𝑢_2,\n   \\\\\n  𝑢′_2 = −𝑎(𝑝, 𝑡)𝑢_1;\n \\end{cases}\n\\end{equation*}$$\nЗдесь $$𝑢_1(𝑡) = 𝑥(𝑡), 𝑢_2(𝑡) = 𝑥′(𝑡).$$\nНеобходимо провести исследование устойчивости однородного линейного уравнения. Дальнейшие рассуждения применимы к любой линейной\nпериодической системе, а не только к системе вида (1).",
      "metadata": {}
    },
    {
      "cell_type": "markdown",
      "source": "## Выполнение работы",
      "metadata": {}
    },
    {
      "cell_type": "markdown",
      "source": "$$exp(cos (t))$$\nАлгоритм проходит по заданному массиву значений параметра p от 0.01 до 5 с шагом 0.01. Для каждого значения p находится значение фундаментальной матрицы, служащей для получения столбцов основной матрицы. Находится спектральный радиус, как максимум модуля собственных чисел основной матрицы.\n\nСтроится график зависимости по значениям спектральных радиусов, из которого с достаточной точностью можно определить точку p0, которая разделяет зоны устойчивости и неустойчивости системы.",
      "metadata": {}
    },
    {
      "cell_type": "code",
      "source": "import matplotlib.pyplot as plt\nimport math\nfrom scipy.integrate import odeint\nimport numpy as np\n\nV1 = [1, 0]\nV2 = [0, 1]\npPartition = np.arange(0.01, 5, 0.01)\nT = math.pi\ntPartition = np.arange(0, T, 0.01)\n\n\ndef b(t):\n    return np.exp(np.cos(t))\n\n\ndef a(p, t):\n    return p + b(t)\n\n\ndef rList():\n    r = []\n    for p in pPartition:\n        lmbd = lambda x, t: [x[1], -a(p, t) * x[0]]\n        U1 = odeint(lmbd, V1, tPartition)\n        U2 = odeint(lmbd, V2, tPartition)\n        C = np.array([U1[-1], U2[-1]])\n        r.append(np.max(np.abs(np.linalg.eigvals(C))))\n    return r\n\ndef p0FromR(r):\n    for i in range(len(r) -1, 0, -1):\n        if r[i] > 1:\n            p0 = pPartition[i+1]\n            break\n    return p0\n\n\ndef show(p0, r):\n    plt.plot([p0, p0], [0.95, 1.05], color=\"red\", label=\"p0\")\n    plt.plot(pPartition, r, color=\"black\")\n    plt.show()\n\n\nr = rList()\np0 = p0FromR(r)\nprint(f\"p0 = {p0}\")\nshow(p0, r)\n",
      "metadata": {
        "trusted": true
      },
      "execution_count": 4,
      "outputs": [
        {
          "name": "stdout",
          "text": "p0 = 4.25\n",
          "output_type": "stream"
        },
        {
          "output_type": "display_data",
          "data": {
            "text/plain": "<pyolite.display.Image at 0x437bc50>",
            "image/png": "[encoded data removed]"
          },
          "metadata": {}
        }
      ]
    },
    {
      "cell_type": "markdown",
      "source": "## Выводы",
      "metadata": {}
    },
    {
      "cell_type": "markdown",
      "source": "В ходе данной лабораторной работы было изучено поведение решений системы линейных уравнений с периодическими коэффициентами при t-> inf. Была найдена p0 = 4.25 - граница между зонами устойчивости и неустойчивости.",
      "metadata": {}
    },
    {
      "cell_type": "code",
      "source": "",
      "metadata": {},
      "execution_count": null,
      "outputs": []
    }
  ]
}