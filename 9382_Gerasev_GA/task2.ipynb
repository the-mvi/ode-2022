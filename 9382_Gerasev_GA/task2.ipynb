{
  "metadata": {
    "colab": {
      "name": "Task2.ipynb",
      "provenance": [],
      "authorship_tag": "ABX9TyMTVCjn4Vc8FdZFqwALA8Aa"
    },
    "kernelspec": {
      "name": "python",
      "display_name": "Pyolite",
      "language": "python"
    },
    "language_info": {
      "codemirror_mode": {
        "name": "python",
        "version": 3
      },
      "file_extension": ".py",
      "mimetype": "text/x-python",
      "name": "python",
      "nbconvert_exporter": "python",
      "pygments_lexer": "ipython3",
      "version": "3.8"
    }
  },
  "nbformat_minor": 4,
  "nbformat": 4,
  "cells": [
    {
      "cell_type": "markdown",
      "source": "# Практическая работа №2: Исследование однородного линейного уравнения с периодическими коэффициентами.\n\nCтудент гр. 9382 Герасев Георгий, вариант 20.\n\n## Цель работы\n\nИзучение устойчивости однородного линейного уравнения с периодическими коэффициентами при $t \\rightarrow +\\infty$.\n\n## Основные теоретические положения\n\nСистемой однородных линейных дифференциальных уравнений с периодическими коэффициентами называется система однородных линейных ОДУ следующего вида:\n\n$$ X' = A(t) X, \\;\\; A(t + T) = A(t), \\;\\; t \\ge 0 \\;\\;\\;\\;\\;\\;\\;\\; (0) $$\n$$ X' = (x_1', \\dots, x_n')^T, \\;\\; X = (x_1, \\dots, x_n)^T, \\;\\; A(t) = || a_{ij}(t) ||, \\;\\; a_{ij}(t + T) = a_{ij}(t)$$\n\nЧисло $T > 0$ называют периодом коэффициентов системы $(0)$.\n\nФундаментальной матрицей системы $(0)$ называется такая матрица $\\Phi(t)$, что ее стобцы являются линейно независимыми решениями системы $(0)$. В матричном виде: $\\Phi' = A(t)\\Phi$.\n\nОсновной матрицей для фундаментальной матрицы $\\Phi(t)$ называется такая матрица $C$, что $\\Phi(t + T) = \\Phi(t)C, \\; \\forall t \\ge 0$.\n\nСпектральным радиусом матрицы $C$ называется число $r(C) = \\max\\limits_{i}|\\lambda_i|$, где $\\lambda_i$ - собственные числа матрицы $C$.\n\n## Постановка задачи\n\nДано дифференциальное уравнение:\n\n$$ x'' + a(p,t)x = 0, \\;\\; a(p,t) = p + b(t), \\;\\; b(t + T) = b(t), $$\n\nгде $p$ - параметр.\n\nДанное уравнение сводится к системе двух уравнений I-го порядка:\n\n$$\n\\begin{cases}\n    u'_1 = u_2, \\\\\n    u'_2 = -a(p,t)u_1;\n\\end{cases}\n\\;\\;\\;\\;\\;\\;\\;\\;\\;\\;\\;\\;\\;\\;\\;\\;\\;\\;\\; (1)\n$$\n\nЗдесь $u_1(t) = x(t), \\; u_2(t) = x'(t)$.\n\nНеобходимо провести исследование устойчивости однородного линейного уравнения. Дальнейшие рассуждения применимы к любой линейной периодической системе, а не только к системе вида $(1)$.\n\n## Схема решения\n\n1. Задаем массив значений параметра $p$. Например, $p$ меняется от $0.1$ до $5$ с шагом $0.05$. Для каждого значения $p$ проделаем следующие действия:\n\n2. Вычисляем значение фундаментальной матрицы системы $(1)$ при $t = T$ с помощью любой программы численного решения задачи\nКоши.\nДля этого решаем две задачи Коши с начальными векторами $V_1 = (1, 0)^T$ и $V_2 = (0, 1)^T$ на отрезке $[0, T]$. Пусть вектор-функции $U(t, V_1), \\; U(t, V_2)$ – решения этих задач. Они являются столбцами фундаментальной матрицы $\\Phi(t)$, удовлетворяющей условию $\\Phi(0) = E$. Основную матрицу $C$ для $\\Phi(t)$ получаем из формулы $C = \\Phi(T)$.\nСтолбцы матрицы $C$ это векторы $U(T, V_1), U(T, V_2)$;\n\n3. Вычисляем собственные числа матрицы 𝐶 и ее спектральный радиус, т.е.\n$$ r(p) = \\max\\limits_{j = 1,2}|\\lambda_j|.$$\nВ результате имеем массив значений $r(p)$;\n\n4. Вывод об устойчивости или неустойчивости делается в зависимости от значения $r(p)$.\n\nРекомендуется построить график этой зависимости, из которого с достаточной точностью можно определить точку 𝑝0, которая разделяет зоны устойчивости и неустойчивости, в которых $r \\le 1$ и $r \\gt 1$. Более точно\nвычисляется методом половинного деления.\n\nМатрицу $C$ можно найти только приближенно, решая численно две задачи Коши.",
      "metadata": {
        "id": "WDEH9nGxnsoo"
      }
    },
    {
      "cell_type": "markdown",
      "source": "## Выполнение работы\n\n\nФункция $b(t)$ задана следующим выражением:\n\n$$ b(t) = tg(|cos3t|)\\:,\\:  T=\\frac{2\\pi}{3} $$ ",
      "metadata": {
        "id": "SCiDtOzRoIU4"
      }
    },
    {
      "cell_type": "markdown",
      "source": "1.",
      "metadata": {
        "id": "_vMPgcFNQKVp"
      }
    },
    {
      "cell_type": "code",
      "source": "from scipy import integrate\nimport numpy as np\nimport matplotlib.pyplot as plt\nimport math\n\np = np.arange(0.1 , 10, 0.001)\np0 = -1\nT = (2*math.pi)/3\nt = np.arange(0, T, 0.001)\nran =[]\nv1 = [1, 0]\nv2 = [0, 1]\n\n\ndef b(t):\n    return np.tan(abs(np.cos(3*t)))\n\ndef a(p,t):\n    return p + b(t)\n\ndef tmp(u, t):\n    return [u[1],-a(i,t)*u[0]] \n",
      "metadata": {
        "id": "B-cGf9pnEXSA",
        "executionInfo": {
          "status": "ok",
          "timestamp": 1652643548932,
          "user_tz": -180,
          "elapsed": 282,
          "user": {
            "displayName": "Milana :3",
            "userId": "08911466862504645127"
          }
        },
        "trusted": true
      },
      "execution_count": 1,
      "outputs": []
    },
    {
      "cell_type": "markdown",
      "source": "2.",
      "metadata": {
        "id": "lTLtA8_E7rzC"
      }
    },
    {
      "cell_type": "code",
      "source": "for i in p:\n    sol1 = integrate.odeint(tmp, v1, t)\n    sol2 = integrate.odeint(tmp, v2, t)\n    C = np.array([sol1[-1], sol2[-1]])\n    ran.append(max(abs(np.linalg.eigvals(C))))  ",
      "metadata": {
        "id": "ERucMwEs9j4q",
        "executionInfo": {
          "status": "ok",
          "timestamp": 1652643552010,
          "user_tz": -180,
          "elapsed": 283,
          "user": {
            "displayName": "Milana :3",
            "userId": "08911466862504645127"
          }
        },
        "trusted": true
      },
      "execution_count": null,
      "outputs": []
    },
    {
      "cell_type": "markdown",
      "source": "3.",
      "metadata": {
        "id": "j9zvTrc0AyjD"
      }
    },
    {
      "cell_type": "code",
      "source": "for i in range(1, len(ran)):\n    if abs(ran[-i] - 1) > 0.0001:\n        p0 = p[1 - i]\n        break",
      "metadata": {
        "id": "hRuMLknhA0Q_",
        "executionInfo": {
          "status": "ok",
          "timestamp": 1652643554120,
          "user_tz": -180,
          "elapsed": 4,
          "user": {
            "displayName": "Milana :3",
            "userId": "08911466862504645127"
          }
        },
        "trusted": true
      },
      "execution_count": null,
      "outputs": []
    },
    {
      "cell_type": "markdown",
      "source": "4.",
      "metadata": {
        "id": "DnJG-rEOBxO7"
      }
    },
    {
      "cell_type": "code",
      "source": "print(p0)\nplt.plot([p0, p0], [0.999, 2.1], color=\"orange\", label=\"p0\")\nplt.plot(p, ran, label=\"r(p)\")\nplt.legend()\nplt.show()\n\n\n\n",
      "metadata": {
        "colab": {
          "base_uri": "https://localhost:8080/",
          "height": 283
        },
        "id": "AsAozkh-BytQ",
        "executionInfo": {
          "status": "ok",
          "timestamp": 1652643651475,
          "user_tz": -180,
          "elapsed": 283,
          "user": {
            "displayName": "Milana :3",
            "userId": "08911466862504645127"
          }
        },
        "outputId": "1d787c58-48b3-4373-92b4-d70cde047346",
        "trusted": true
      },
      "execution_count": null,
      "outputs": []
    },
    {
      "cell_type": "markdown",
      "source": "##Вывод\nБыло проведено исследование однородного линейного уравнения с периодическими коэффициентами. Была определена граница между зонами устойчивости и неустойчивости.",
      "metadata": {
        "id": "Ua2BI5UmPPtC"
      }
    },
    {
      "cell_type": "code",
      "source": "",
      "metadata": {},
      "execution_count": null,
      "outputs": []
    }
  ]
}