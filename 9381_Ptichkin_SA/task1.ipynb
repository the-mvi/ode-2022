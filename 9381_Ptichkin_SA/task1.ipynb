{
 "cells": [
  {
   "cell_type": "markdown",
   "metadata": {},
   "source": [
    "# Практическая работа №1: Краевая задача для уравнения II порядка.\n",
    "\n",
    "Выполнил студент гр. 9381 Птичкин Сергей, вариант 12."
   ]
  },
  {
   "cell_type": "markdown",
   "metadata": {},
   "source": [
    "## Цель работы\n",
    "\n",
    "Научиться применять дифференциальные уравнения в различных областях, решать краевую задачу для уравнения II-го порядка путём многократного решения задачи Коши."
   ]
  },
  {
   "cell_type": "markdown",
   "metadata": {},
   "source": [
    "## Основные теоретические положения\n",
    " \n",
    " Обыкновенные дифференциальные уравнения (ОДУ) — это уравнения, зависящие от одной независимой переменной, имеющие вид\n",
    " \n",
    " $$ f(x, y, y', y'', \\dots, y^{(n)}) = 0, $$ где $x$ - независимая переменная.\n",
    " \n",
    " Общим решением ОДУ является множество таких функций $y$, что $ f(x, y, y', y'', \\dots, y^{(n)}) = 0 $ для $\\forall{x}$.\n",
    " \n",
    " Задача Коши подразумевает поиск частного решения из числа общих, удовлетворяющих некоторым условиям. Общий вид задачи Коши:\n",
    " \n",
    " \\begin{cases}\n",
    "     f(x, y, y', y'', \\dots, y^{(n)}) = 0 \\\\\n",
    "     y(x_0) = y_0 \\\\\n",
    "     y'(x_0) = y_1 \\\\\n",
    "     y''(x_0) = y_2 \\\\\n",
    "     \\dots \\\\\n",
    "     y^{(n-1)}(x_0) = y_{n-1}\n",
    " \\end{cases}"
   ]
  },
  {
   "cell_type": "markdown",
   "metadata": {},
   "source": [
    "## Постановка задачи\n",
    " \n",
    " Дано дифференциальное уравнение:\n",
    " \n",
    " $$ y'' = f(x, y), \\;\\; a < x < b \\;\\; (1) $$\n",
    " \n",
    " и граничные условия\n",
    " \n",
    " $$ y(a) = y_a \\;\\; y(b) = y_b \\;\\; (2) $$\n",
    " \n",
    " Требуется найти решение задачи $(1)$ - $(2)$ и построить его график.\n",
    " \n",
    " \n",
    " Рассмотрим задачу Коши для уравнения $(1)$ с начальными условиями\n",
    " \n",
    " $$ y(a) = y_a \\;\\; y'(a) = h \\;\\; (3) $$\n",
    " \n",
    " План решения основан на многократном решении задачи Коши $(1)$, $(3)$.\n",
    " Значение решения задачи Коши при $x = b$ является функцией от $h$.\n",
    " Задача сводится к отысканию такого значения переменной $h$, при котором выполнено условие на правом конце отрезка, т.е. должно выполняться\n",
    " \n",
    " $$ y(b, h) = y_b \\;\\; (4) $$\n",
    " \n",
    " Это уравнение с одним неизвестным $h$. Для его решения можно применить стандартный метод половинного\n",
    " деления."
   ]
  },
  {
   "cell_type": "markdown",
   "metadata": {},
   "source": [
    "## Схема решения\n",
    " \n",
    " 1. Задаем наугад число $h_0$, решаем задачу Коши. Далее вычисляем $y(b, h_0)$.\n",
    " Если оказалось, что $y(b, h_0) = y_b$, то мы решили краевую задачу. Если же нет, то переходим на следующий шаг.\n",
    " \n",
    " \n",
    " 2. Пусть, например, $y(b, h_0) > y_b$. Выберем шаг $\\Delta{h}$ и решаем несколько раз задачу Коши при $h_1 = h_0 + \\Delta{h}$.\n",
    " Если снова получили $y(b, h_1) > y_b$, причём $y(b, h_0) > y(b, h_1) > y_b$, решаем задачу Коши при $h_2 = h_1 + \\Delta{h}$ и т.д.\n",
    " Процесс повторяется пока не получим неравенство $y(b, h_m) < y_b$.\n",
    " Это означает, что искомое значение попало в «вилку», т.е. $h \\in (h_{m−1}; h_m)$.\n",
    " Шаг $\\Delta{h}$ не должен быть слишком маленьким, иначе процесс сильно затянется.\n",
    " Знак шага также не известен заранее, может оказаться, что нужно не увеличивать наклон, а уменьшать.\n",
    " \n",
    " \n",
    " 3. Далее применяется стандартный процесс половинного деления к уравнению (4).\n",
    " \n",
    " \n",
    " 4. Процесс останавливаем, когда выполнится неравенство $|y(b, h_m) − y(b, h_{m−1})| < 0.001$.\n",
    " \n",
    " \n",
    " 5. Возможен случай, когда ни одна интегральная кривая не проходит через точку $(b, y_b)$, т.е. задача не имеет решения.\n",
    " Поэтому нужно ограничить число шагов. Процесс останавливается при $m > M$, где $M$ – заданное число (например, 100)."
   ]
  },
  {
   "cell_type": "markdown",
   "metadata": {},
   "source": [
    "## Выполнение работы\n",
    "\n",
    "### Вариант 12\n",
    " \n",
    " $ a = 0, \\;\\; b = 2, \\;\\; y_a = 4, \\;\\; y_b = 1 $\n",
    " \n",
    " $ y'' = f(x, y) = {y \\over {x^2  +1}} $\n",
    " \n",
    " Сведем задачу к следующей системе:\n",
    "\n",
    " $\\begin{cases}\n",
    "     y'' = f(x, y) = {y \\over {x^2  +1}} \\\\\n",
    "     y(a) = y_a \\\\\n",
    "     y'(a) = h \\\\\n",
    " \\end{cases}$\n",
    " \n",
    " $ y' = g(x, y) $\n",
    " \n",
    " $\\begin{cases}\n",
    "     y' = g(x, y) \\\\\n",
    "     g' = f(x, y) = {y \\over {x^2  +1}} \\\\\n",
    "     y(a) = y_a \\\\\n",
    "     y'(a) = h \\\\\n",
    " \\end{cases}$\n",
    " \n",
    " Решим задачу Коши для начальной точки h = 0:"
   ]
  },
  {
   "cell_type": "code",
   "execution_count": 103,
   "metadata": {},
   "outputs": [
    {
     "name": "stdout",
     "output_type": "stream",
     "text": [
      "y(b,h) =  10.738146717931073\n"
     ]
    }
   ],
   "source": [
    "from scipy.integrate import solve_ivp\n",
    "import numpy as np\n",
    "import matplotlib.pyplot as plt\n",
    "import math\n",
    "\n",
    "a = 0\n",
    "b = 2\n",
    "y_a = 4\n",
    "y_b = 1\n",
    "h = 0\n",
    "\n",
    "def func(x, y):\n",
    "    return y/(x**2 + 1)\n",
    "\n",
    "def dif_sys(x, val):\n",
    "    y_x, dy_x = val\n",
    "    dy = dy_x\n",
    "    ddy = func(x, y_x)\n",
    "    return dy, ddy\n",
    "\n",
    "n = 100\n",
    "X = np.linspace(a, b, n)\n",
    "res = solve_ivp(dif_sys, (a, b), (y_a, h), t_eval=X)\n",
    "Y = res.y[0]\n",
    "y_bh = Y[-1]\n",
    "print(\"y(b,h) = \", y_bh)"
   ]
  },
  {
   "cell_type": "markdown",
   "metadata": {},
   "source": [
    "$y(b, h) > y(b)$, задача не решена, значит берём отрицательный шаг dh и решаем задачу Коши, пока $y(b,h)$ не станет меньше $y(b)$:"
   ]
  },
  {
   "cell_type": "code",
   "execution_count": 104,
   "metadata": {},
   "outputs": [
    {
     "name": "stdout",
     "output_type": "stream",
     "text": [
      "h принадлежит [ -4 ;  -3 ]\n"
     ]
    }
   ],
   "source": [
    "dh = -1\n",
    "\n",
    "while y_b < y_bh:\n",
    "    h += dh\n",
    "    res = solve_ivp(dif_sys, (a, b), (y_a, h), t_eval=X)\n",
    "    Y = res.y[0]\n",
    "    y_bh = Y[-1]\n",
    "\n",
    "print(\"h принадлежит [\", h, \"; \", h-dh, \"]\")"
   ]
  },
  {
   "cell_type": "markdown",
   "metadata": {},
   "source": [
    "Методом половинного деления найдём $ h $, такой что $|y(b, h_{m}) - y(b, h_{m-1})| < 0.001$:"
   ]
  },
  {
   "cell_type": "code",
   "execution_count": 105,
   "metadata": {},
   "outputs": [
    {
     "name": "stdout",
     "output_type": "stream",
     "text": [
      "h =  -3.482421875\n",
      "f(b,h) =  0.9996563136104004\n"
     ]
    }
   ],
   "source": [
    "steps = 100\n",
    "h_l = h\n",
    "h_r = h-dh\n",
    "\n",
    "res_l = solve_ivp(dif_sys, (a, b), (y_a, h_l), t_eval=X)\n",
    "res_r = solve_ivp(dif_sys, (a, b), (y_a, h_r), t_eval=X)\n",
    "\n",
    "for step in range(steps):\n",
    "    h_mid = h_l + abs(h_r - h_l) / 2\n",
    "    res_mid = solve_ivp(dif_sys, (a, b), (y_a, h_mid), t_eval=X)\n",
    "    y_bh = res_mid.y[0][-1]\n",
    "\n",
    "    if y_bh > y_b:\n",
    "        h_r = h_mid\n",
    "        res_r = res_mid\n",
    "    else:\n",
    "        h_l = h_mid\n",
    "        res_l = res_mid\n",
    "    \n",
    "    if abs(res_l.y[0][-1] - res_r.y[0][-1]) < 0.001:\n",
    "        break\n",
    "print(\"h = \", h_l)\n",
    "print(\"f(b,h) = \", res_l.y[0][-1])"
   ]
  },
  {
   "cell_type": "markdown",
   "metadata": {},
   "source": [
    "Построим график полученного решения:"
   ]
  },
  {
   "cell_type": "code",
   "execution_count": 106,
   "metadata": {},
   "outputs": [
    {
     "data": {
      "image/png": "[encoded data removed]",
      "text/plain": [
       "<Figure size 432x288 with 1 Axes>"
      ]
     },
     "metadata": {
      "needs_background": "light"
     },
     "output_type": "display_data"
    }
   ],
   "source": [
    "Y = res_l.y[0]\n",
    "plt.plot(X, Y)\n",
    "plt.xlabel(\"x\")\n",
    "plt.grid(True)"
   ]
  },
  {
   "cell_type": "markdown",
   "metadata": {},
   "source": [
    "## Выводы\n",
    "\n",
    "Таким образом, была решена краевая задача II-го порядка путём многократного решения задачи Коши. \n",
    "\n",
    "Полученные результаты: \n",
    "\n",
    "$h = -3.482421875$\n",
    "\n",
    "$f(b, h) = 0.9996563136104004$"
   ]
  },
  {
   "cell_type": "code",
   "execution_count": 2,
   "metadata": {},
   "outputs": [
    {
     "name": "stdout",
     "output_type": "stream",
     "text": [
      "\n"
     ]
    }
   ],
   "source": []
  }
 ],
 "metadata": {
  "kernelspec": {
   "display_name": "Python 3",
   "language": "python",
   "name": "python3"
  },
  "language_info": {
   "codemirror_mode": {
    "name": "ipython",
    "version": 3
   },
   "file_extension": ".py",
   "mimetype": "text/x-python",
   "name": "python",
   "nbconvert_exporter": "python",
   "pygments_lexer": "ipython3",
   "version": "3.7.10"
  }
 },
 "nbformat": 4,
 "nbformat_minor": 4
}
