{
 "cells": [
  {
   "cell_type": "markdown",
   "metadata": {},
   "source": [
    "# Практическая работа №1: Краевая задача для уравнения II-го порядка\n",
    "\n",
    "Выполнил студент гр. 9381 Худойбердыев Юсуф, вариант 16."
   ]
  },
  {
   "cell_type": "markdown",
   "metadata": {},
   "source": [
    "## Цель работы\n",
    "\n",
    "Научиться применять дифференциальные уравнения в различных областях, решать краевую задачу для уравнения II-го порядка путём многократного решения задачи Коши."
   ]
  },
  {
   "cell_type": "markdown",
   "metadata": {},
   "source": [
    "## Основные теоретические положения\n",
    "\n",
    "Обыкновенные дифференциальные уравнения (ОДУ) — это уравнения, зависящие от одной независимой переменной, имеющие вид\n",
    "\n",
    "$$ f(x, y, y', y'', \\dots, y^{(n)}) = 0, $$ где $x$ - независимая переменная.\n",
    "\n",
    "Общим решением ОДУ является множество таких функций $y$, что $ f(x, y, y', y'', \\dots, y^{(n)}) = 0 $ для $\\forall{x}$.\n",
    "\n",
    "Задача Коши подразумевает поиск частного решения из числа общих, удовлетворяющих некоторым условиям. Общий вид задачи Коши:\n",
    "\n",
    "\\begin{cases}\n",
    "    f(x, y, y', y'', \\dots, y^{(n)}) = 0 \\\\\n",
    "    y(x_0) = y_0 \\\\\n",
    "    y'(x_0) = y_1 \\\\\n",
    "    y''(x_0) = y_2 \\\\\n",
    "    \\dots \\\\\n",
    "    y^{(n-1)}(x_0) = y_{n-1}\n",
    "\\end{cases}\n",
    "\n",
    "В рамках данной работы рассматривается дифференциальное уравнение второго порядка:\n",
    "\n",
    "### $\\displaystyle{y''=f(x,y)}$\n",
    "\n",
    "Данное уравнение можно свести к системе уравнений первого порядка:\n",
    "\n",
    "### $\\begin{cases}\n",
    "    y' = v \\\\\n",
    "    v' = f(x,y) \\\\\n",
    "\\end{cases}$ $\\displaystyle{\\Longrightarrow}$ $\\begin{cases}\n",
    "    \\frac{dy}{dx} = v \\\\\n",
    "    \\frac{dv}{dx} = f(x,y) \\\\\n",
    "\\end{cases}$ $\\displaystyle{\\Longrightarrow}$ $\\displaystyle{\\frac{d}{dx}}\\left(\n",
    "    \\begin{array}{c}\n",
    "      y \\\\\n",
    "      v\n",
    "    \\end{array}\n",
    "  \\right) = \\left(\n",
    "    \\begin{array}{c}\n",
    "      v \\\\\n",
    "      f(x,y)\n",
    "    \\end{array}\n",
    "  \\right)$\n",
    "  \n",
    "Таким образом имеем массив решений $\\left(\n",
    "    \\begin{array}{c}\n",
    "      y \\\\\n",
    "      v\n",
    "    \\end{array}\n",
    "  \\right)$ и массив функций $\\left(\n",
    "    \\begin{array}{c}\n",
    "      v \\\\\n",
    "      f(x,y)\n",
    "    \\end{array}\n",
    "  \\right)$ ,состоящие из двух элементов (массив функций можно представить как функцию, принимающую вектор значений и возвращающую соответствующий вектор результатов)."
   ]
  },
  {
   "cell_type": "markdown",
   "metadata": {},
   "source": [
    "## Постановка задачи\n",
    "\n",
    "###### Дано дифференциальное уравнение:\n",
    "### $\\displaystyle{y''=f(x, y), a<x<b}$      (1)\n",
    "###### и граничные условия:\n",
    "### $\\displaystyle{y(a)=y_a,y(b)=y_b}$      (2)\n",
    "###### Требуется найти решение задачи (1)-(2) и построить его график.\n",
    "###### Рассмотрим задачу Коши для уравнения (1) с начальными условиями:\n",
    "### $\\displaystyle{y(a) = y_a, y'(a) = h}$    (3)\n",
    "###### План решения основан на многократном решении задачи Коши (1), (3). Значение решения задачи Коши при $\\displaystyle{x=b}$ является функцией от $\\displaystyle{h}$. Задача сводится к отысканию такого значения переменной $\\displaystyle{h}$, при котором выполнено условие на правом конце отрезка, т.е. должно выполняться:\n",
    "### $\\displaystyle{y(b,h)=y_b}$    (4)\n",
    "\n",
    "###### Это уравнение с одним неизвестным $\\displaystyle{h}$. Для его решения можно применить стандартный метод половинного деления."
   ]
  },
  {
   "cell_type": "markdown",
   "metadata": {},
   "source": [
    "## Схема решения\n",
    "\n",
    "1. Задаем наугад число $h_0$, решаем задачу Коши. Далее вычисляем $y(b, h_0)$.\n",
    "Если оказалось, что $y(b, h_0) = y_b$, то мы решили краевую задачу. Иначе рассматривается частный случай: $y(b, h_0) > y_b$.\n",
    "\n",
    "\n",
    "2. Выберем шаг $\\Delta{h}$ и решаем несколько раз задачу Коши при $h_1 = h_0 + \\Delta{h}$.\n",
    "Если снова получили $y(b, h_1) > y_b$, причём $y(b, h_0) > y(b, h_1) > y_b$, решаем задачу Коши при $h_2 = h_1 + \\Delta{h}$ и т.д.\n",
    "Процесс повторяется пока не получим неравенство $y(b, h_m) < y_b$.\n",
    "Это означает, что искомое значение попало в «вилку», т.е. $h \\in (h_{m−1}; h_m)$.\n",
    "Шаг $\\Delta{h}$ не должен быть слишком маленьким, иначе процесс сильно затянется.\n",
    "Знак шага также не известен заранее, может оказаться, что нужно не увеличивать наклон, а уменьшать.\n",
    "\n",
    "\n",
    "3. Далее применяется стандартный процесс половинного деления к уравнению (4).\n",
    "\n",
    "\n",
    "4. Процесс останавливаем, когда выполнится неравенство $|y(b, h_m) − y(b, h_{m−1})| < 0.001$.\n",
    "\n",
    "\n",
    "5. Возможен случай, когда ни одна интегральная кривая не проходит через точку $(b, y_b)$, т.е. задача не имеет решения.\n",
    "Поэтому нужно ограничить число шагов. Процесс останавливается при $m > M$, где $M$ – заданное число (например, 100)."
   ]
  },
  {
   "cell_type": "markdown",
   "metadata": {},
   "source": [
    "## Выполнение работы\n",
    "\n",
    "1. Условия:\n",
    "\n",
    "$f(x,y)=2^x+3^y$\n",
    "\n",
    "$a = 0, b = 2$\n",
    "\n",
    "$y_a = 1, y_b = -2$\n",
    "\n",
    "2. Подготовка к работе:\n",
    "\n",
    "*Задача Коши:*\n",
    "\n",
    "$\\begin{cases}\n",
    "    y'' - 2^x - 2^y = 0 \\\\\n",
    "    y(0) = 1 \\\\\n",
    "    y'(0) = h\n",
    "\\end{cases}$\n",
    "\n",
    "*Уравнение второго порядка представим в виде системы уравнений первого порядка (для использования функции odeint() нужна система):*\n",
    "\n",
    "$\\begin{cases}\n",
    "    y' = v \\\\\n",
    "    v' = 2^x + 2^y \\\\\n",
    "\\end{cases}$\n",
    "\n",
    "*Задаем число $ h_{0}$:*\n",
    "\n",
    "$h_{0} = 0$\n"
   ]
  },
  {
   "cell_type": "markdown",
   "metadata": {},
   "source": [
    "3. Подключение необходимых библиотек:"
   ]
  },
  {
   "cell_type": "code",
   "execution_count": 6,
   "metadata": {},
   "outputs": [],
   "source": [
    "from pylab import *\n",
    "from scipy.integrate import *"
   ]
  },
  {
   "cell_type": "markdown",
   "metadata": {},
   "source": [
    "4. Определение функции отображения результата (найденного значения $h$ и решения краевой задачи при найденном $h$ вместе с графиком):"
   ]
  },
  {
   "cell_type": "code",
   "execution_count": 7,
   "metadata": {},
   "outputs": [],
   "source": [
    "def displayResult(h, x, solve, y_b):\n",
    "    plot(x, solve, lw=1.9, c='red')\n",
    "    xlabel('x')\n",
    "    ylabel('y')\n",
    "    grid()\n",
    "    print(\"При h = {}, y(b, h) = {} ~=~ {} = y_b с точностью 0.001\".format(h, solve[-1], y_b))"
   ]
  },
  {
   "cell_type": "markdown",
   "metadata": {},
   "source": [
    "5. Определение функции - правой части дифференциального уравнения второго порядка, т. е. функции $f(x, y)$, где вместо $y$ - вектор системы решений y:"
   ]
  },
  {
   "cell_type": "code",
   "execution_count": 8,
   "metadata": {},
   "outputs": [],
   "source": [
    "def f(v, x):\n",
    "    y = v[0]\n",
    "    return [v[1], 2**x + 3**y]"
   ]
  },
  {
   "cell_type": "markdown",
   "metadata": {},
   "source": [
    "6. Объявление и определение исходных данных:"
   ]
  },
  {
   "cell_type": "code",
   "execution_count": 9,
   "metadata": {},
   "outputs": [],
   "source": [
    "a, b = 0, 2 # Граничные значения х\n",
    "y_a, y_b = 1, -2 # Граничные значения у\n",
    "h0, dh = 0, 0.5 # Начальные h0 и шаг\n",
    "M = 100 # Количество итераций на подьем и спуск для поиска решения"
   ]
  },
  {
   "cell_type": "markdown",
   "metadata": {},
   "source": [
    "7. Решение краевой задачи (алгоритм):"
   ]
  },
  {
   "cell_type": "code",
   "execution_count": 11,
   "metadata": {},
   "outputs": [
    {
     "name": "stderr",
     "output_type": "stream",
     "text": [
      "C:\\ProgramData\\Anaconda3\\lib\\site-packages\\scipy\\integrate\\odepack.py:247: ODEintWarning: Excess work done on this call (perhaps wrong Dfun type). Run with full_output = 1 to get quantitative information.\n",
      "  warnings.warn(warning_msg, ODEintWarning)\n"
     ]
    },
    {
     "name": "stdout",
     "output_type": "stream",
     "text": [
      "y(b, h0) = 7.291118556459266e-304 > -2 = y_b\n",
      "Прошли на 100 итераций вправо, знак по-прежнему не изменился:\n",
      "y(b, h) = 7.291118556459266e-304 > -2 = y_b\n",
      "Нашли вилку: h in [-3.5, -4.0]\n",
      "При h = -3.909912109375, y(b, h) = -1.99939861444939 ~=~ -2 = y_b с точностью 0.001\n"
     ]
    },
    {
     "data": {
      "image/png": "[encoded data removed]",
      "text/plain": [
       "<Figure size 432x288 with 1 Axes>"
      ]
     },
     "metadata": {
      "needs_background": "light"
     },
     "output_type": "display_data"
    }
   ],
   "source": [
    "x = linspace(a, b, 10000) # Генерация дискретного промежутка x[a, b]\n",
    "\n",
    "solve = odeint(f, [y_a, h0], x)[: ,0] # Решение задачи Коши относительно h0\n",
    "y_b_h = solve[-1] # Решение задачи коши в точке b\n",
    "\n",
    "if abs(y_b_h - y_b) >= 0.001: # Если при h0 краевая задача еще не решена\n",
    "    \n",
    "    if y_b < y_b_h: # Оптимизация: выбор подъема или спуска в зависимости от приближения y_b_h к y_b или оттдаления\n",
    "        print(\"y(b, h0) = {} > {} = y_b\".format(y_b_h, y_b))\n",
    "        h1 = h0 + dh\n",
    "        solve = odeint(f, [y_a, h1], x)[: ,0]\n",
    "        y_b_h1 = solve[-1]\n",
    "        if y_b_h1 > y_b_h:\n",
    "            dh = -dh\n",
    "    else:\n",
    "        print(\"y(b, h0) = {} < {} = y_b\".format(y_b_h, y_b))\n",
    "        h1 = h0 + dh\n",
    "        solve = odeint(f, [y_a, h1], x)[: ,0]\n",
    "        y_b_h1 = solve[-1]\n",
    "        if y_b_h1 < y_b_h:\n",
    "            dh = -dh\n",
    "    \n",
    "    sign_0 = sign(y_b - y_b_h) # Вычисление знака относительности решения при h0 и требуемого y_b\n",
    "    h_left, h_right = None, None\n",
    "    for direct in (1, -1): # Производим обход в два направления: сначала спуск, потом подъем (или наоборот)\n",
    "        h = h0\n",
    "        dh *= direct\n",
    "        for i in range(M): # Итерации (ограниченны числом М)\n",
    "            h += dh # Увеличение h на величину шага\n",
    "            solve = odeint(f, [y_a, h], x)[: ,0] # Очередное новое решение задачи Коши\n",
    "            y_b_h = solve[-1] # В точке b\n",
    "            if sign(y_b - y_b_h) != sign_0: # Как только знак относительности решения при h0 и требуемого y_b поменяется\n",
    "                h_left = h - dh # Нашли вилку, останавливаем обход\n",
    "                h_right = h\n",
    "                print(\"Нашли вилку: h in [{}, {}]\".format(h_left, h_right))\n",
    "                break\n",
    "        if h_left != None: # Выходим из всех циклов\n",
    "            break\n",
    "        \n",
    "        print(\"Прошли на {} итераций {}, знак по-прежнему не изменился:\".format(M, {-1: \"влево\", 1: \"вправо\",}[sign(dh)]))\n",
    "        if sign_0 > 0:\n",
    "            print(\"y(b, h) = {} < {} = y_b\".format(y_b_h, y_b))\n",
    "        else:\n",
    "            print(\"y(b, h) = {} > {} = y_b\".format(y_b_h, y_b))\n",
    "    \n",
    "    if h_left == None: # Если вилка не была найдена, решений нет\n",
    "        print(\"\\n\\033[1mНет решений\\n\\033[0m\")\n",
    "    else: # Иначе методом половинного деления находим корень с точностью до 0.001\n",
    "        solveLeft = odeint(f, [y_a, h_left], x)[: ,0] # Находим решение для левой границы отрезка\n",
    "        solveRight = solve # Решение для правой границы отрезка\n",
    "        \n",
    "        while abs(solveRight[-1] - solveLeft[-1]) >= 0.001: # Пока длиннаотрезка не принизит точность\n",
    "            \n",
    "            mid = (h_left + h_right) / 2 # считаем среднюю точку отрезка\n",
    "            solveMid = odeint(f, [y_a, mid], x)[: ,0] # Решение для средней точки\n",
    "            \n",
    "            if sign(y_b - solveMid[-1]) == sign_0: # Проверяем, поменялся ли знак решения в точке b для средней точки\n",
    "                h_left = mid # Если нет, то он поменяется во второй половине отрезка => пододвигаем левую границу к середине\n",
    "                solveLeft = solveMid\n",
    "            else: # Если да, то решение уже миновало (в первой половине отрезка) => пододвигаем правую границу к середине\n",
    "                h_right = mid\n",
    "                solveRight = solveMid\n",
    "    \n",
    "        displayResult(h_left, x, solveLeft, y_b)\n",
    "\n",
    "else:\n",
    "    print(\"y(b, h0) = {} ~=~ {} = y_b с точностью 0.001\".format(y_b_h, y_b))\n",
    "    displayResult(h0, x, solve, y_b)"
   ]
  },
  {
   "cell_type": "markdown",
   "metadata": {},
   "source": [
    "## Анализ результатов\n",
    "Для прогона программы были выбраны данные: небольшое число итераций **(M = 100)** и небольшой шаг **(dh = 0.5)**. В результате работы программы было получено решение краевой задачи. При $h = -3.909912109375$, $y(b, h) = -1.99939861444939 \\approx -2 = y_b$ с точностью 0.001"
   ]
  },
  {
   "cell_type": "markdown",
   "metadata": {},
   "source": [
    "## Выводы\n",
    "\n",
    "**В ходе выполнения практической работы была решена краевая задача для уравнения 2-ого порядка путём многократного решения задачи Коши с использованием методов численного интегрирования с определенной точностью; Были приобретены навыки в применении дифференциальных уравнений в различных областях.**"
   ]
  }
 ],
 "metadata": {
  "kernelspec": {
   "display_name": "Python 3",
   "language": "python",
   "name": "python3"
  },
  "language_info": {
   "codemirror_mode": {
    "name": "ipython",
    "version": 3
   },
   "file_extension": ".py",
   "mimetype": "text/x-python",
   "name": "python",
   "nbconvert_exporter": "python",
   "pygments_lexer": "ipython3",
   "version": "3.8.5"
  }
 },
 "nbformat": 4,
 "nbformat_minor": 4
}
