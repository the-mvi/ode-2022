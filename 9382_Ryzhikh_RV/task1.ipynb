{
 "cells": [
  {
   "cell_type": "markdown",
   "id": "10876403",
   "metadata": {},
   "source": [
    "# Практическая работа №1: Краевая задача для уравнения II-го порядка\n",
    "\n",
    "Выполнил студент гр. 9382 Рыжих Роман, вариант 32."
   ]
  },
  {
   "cell_type": "markdown",
   "id": "1fea7d6f",
   "metadata": {},
   "source": [
    "## Цель работы\n",
    "\n",
    "Научиться применять дифференциальные уравнения в различных областях, решать краевую задачу для уравнения II-го порядка путём многократного решения задачи Коши."
   ]
  },
  {
   "cell_type": "markdown",
   "id": "abd08903",
   "metadata": {},
   "source": [
    "## Основные теоретические положения\n",
    "\n",
    "### Задача Коши\n",
    "Система n ОДУ первого порядка:\n",
    "$\n",
    "\\begin{cases}\n",
    "    y'_1=f_1(x,y_1,...,y_n) \\\\\n",
    "    \\dots \\\\\n",
    "    y'_n=f_n(x,y_1,...,y_n) \\\\\n",
    "    y_1(x_0)=y_{01} \\\\\n",
    "    \\dots \\\\\n",
    "    y_n(x_0)=y_{0n} \\\\\n",
    "\\end{cases}\n",
    "$\n",
    "\n",
    "ОДУ n-го порядка:\n",
    "$\n",
    "\\begin{cases}\n",
    "    y^{(n)}=f(x,y,...,y^{(n-1)}) \\\\\n",
    "    y(x_0)=y_{01} \\\\\n",
    "    \\dots \\\\\n",
    "    y^{(n-1)}(x_0)=y_{0n} \\\\\n",
    "\\end{cases}\n",
    "$\n",
    "\n",
    "Решение задачи Коши состоит в нахождении решения (интеграла) дифференциального уравнения, удовлетворяющим начальным условиям.\n",
    "\n",
    "### Краевая задача \n",
    "Задача о нахождении решения заданного дифференциального уравнения удовлетворяющего краевым условиям в концах интервала."
   ]
  },
  {
   "cell_type": "markdown",
   "id": "910f9b07",
   "metadata": {},
   "source": [
    "## Постановка задачи\n",
    "\n",
    "Дано дифференциальное уравнение:\n",
    "\n",
    "$y''= f(x, y), a < x < b$ (1)\n",
    "\n",
    "и граничные условия\n",
    "\n",
    "$y(a) = y_a, y(b) = y_b.$ (2)\n",
    "\n",
    "Требуется найти решение задачи (1)-(2) и построить его график.\n",
    "\n",
    "Рассмотрим задачу Коши для уравнения (1) с начальными условиями\n",
    "\n",
    "$y(a) = y_a, y'(a) = h$ (3)\n",
    "\n",
    "План решения основан на многократном решении задачи Коши (1), (3).\n",
    "Значение решения задачи Коши при x = b является функцией от h.\n",
    "\n",
    "Задача сводится к отысканию такого значения переменной h, при котором выполнено условие на правом конце отрезка, т.е. должно выполняться\n",
    "\n",
    "$y(b, h) = y_b$ (4)\n",
    "\n",
    "Это уравнение с одним неизвестным h.\n",
    "Для его решения можно применить стандартный метод половинного деления.\n"
   ]
  },
  {
   "cell_type": "markdown",
   "id": "a5d270f4",
   "metadata": {},
   "source": [
    "## Выполнение работы"
   ]
  },
  {
   "cell_type": "markdown",
   "id": "865c4a8c",
   "metadata": {},
   "source": [
    "$f(x,y) = \\sqrt{xy+2}$\n",
    "\n",
    "a = 0\n",
    "\n",
    "b = 2\n",
    "\n",
    "$y_a = 3$\n",
    "\n",
    "$y_b = 3$\n",
    "\n",
    "Общий вид задачи Коши:\n",
    "\n",
    "$\n",
    "\\begin{cases}\n",
    "    y''=f(x,y) \\\\\n",
    "    y(a)=3 \\\\\n",
    "    y'(a)=h \\\\\n",
    "\\end{cases}\n",
    "$\n",
    "\n",
    "Сведём дифференциальное уравнение к равносильной системе:\n",
    "\n",
    "$\n",
    "\\begin{cases}\n",
    "    y'= g \\\\\n",
    "    g'= \\sqrt{xy+2} \\\\\n",
    "\\end{cases}\n",
    "$"
   ]
  },
  {
   "cell_type": "code",
   "execution_count": 187,
   "id": "8d16c61a",
   "metadata": {},
   "outputs": [
    {
     "name": "stdout",
     "output_type": "stream",
     "text": [
      "[[ 3.          2.99900071  2.99800283 ...  4.93182353  4.93538539\n",
      "   4.9389507 ]\n",
      " [-1.         -0.99858526 -0.99716945 ...  3.56013271  3.56357579\n",
      "   3.56702062]]\n"
     ]
    },
    {
     "data": {
      "text/plain": [
       "[<matplotlib.lines.Line2D at 0x193bde562f0>]"
      ]
     },
     "execution_count": 187,
     "metadata": {},
     "output_type": "execute_result"
    },
    {
     "data": {
      "image/png": "[encoded data removed]",
      "text/plain": [
       "<Figure size 432x288 with 1 Axes>"
      ]
     },
     "metadata": {
      "needs_background": "light"
     },
     "output_type": "display_data"
    }
   ],
   "source": [
    "import numpy as np\n",
    "import matplotlib.pyplot as plt\n",
    "from scipy.integrate import solve_ivp\n",
    "from scipy.integrate import odeint\n",
    "\n",
    "def fun(t,Y):\n",
    "    return Y[1], (t*Y[0]+2)**0.5\n",
    "\n",
    "a = 0\n",
    "b = 2\n",
    "y_a = 3\n",
    "y_b = 3\n",
    "#h_0 = -1.839957198\n",
    "h_0 = -1\n",
    "\n",
    "intervals = np.arange(0, 2, 0.001)\n",
    "solve = solve_ivp(fun, (a, b), (y_a, h_0), t_eval=intervals)\n",
    "print(solve.y)\n",
    "plt.axhline(y=3, color='green', linestyle='-')\n",
    "plt.plot(intervals, solve.y[0])"
   ]
  },
  {
   "cell_type": "code",
   "execution_count": 188,
   "id": "94e553f1",
   "metadata": {},
   "outputs": [
    {
     "name": "stdout",
     "output_type": "stream",
     "text": [
      "-1.8000000000000007 -1.9000000000000008\n"
     ]
    }
   ],
   "source": [
    "delta_h = 0.1\n",
    "h_m = h_0\n",
    "h_n = h_0\n",
    "M = 500\n",
    "check = solve.y[0][-1]\n",
    "solve = solve_ivp(fun, (a, b), (y_a, h_n + delta_h), t_eval=intervals)\n",
    "if (y_b <= solve.y[0][-1] <= check) or (y_b >= solve.y[0][-1] >= check):\n",
    "    while M != 0 and solve.y[0][-1] <= y_b:\n",
    "        M -= 1\n",
    "        h_m = h_n\n",
    "        h_n = h_m + delta_h\n",
    "        solve = solve_ivp(fun, (a, b), (y_a, h_n), t_eval=intervals)\n",
    "\n",
    "else:\n",
    "    delta_h = -delta_h\n",
    "    while M != 0 and solve.y[0][-1] >= y_b:\n",
    "        M -= 1\n",
    "        h_m = h_n\n",
    "        h_n = h_m + delta_h\n",
    "        solve = solve_ivp(fun, (a, b), (y_a, h_n), t_eval=intervals)\n",
    "\n",
    "print(h_m, h_n)"
   ]
  },
  {
   "cell_type": "markdown",
   "id": "5766d165",
   "metadata": {},
   "source": [
    "Интервал, в котором находится искомая переменная h: [-1.8, -1,9]"
   ]
  },
  {
   "cell_type": "code",
   "execution_count": 189,
   "id": "5337cfa9",
   "metadata": {},
   "outputs": [
    {
     "name": "stdout",
     "output_type": "stream",
     "text": [
      "2.999374923324208\n",
      "3.00028439170405\n",
      "-1.840234375000001\n"
     ]
    }
   ],
   "source": [
    "solve_n = solve_ivp(fun, (a, b), (y_a, h_n), t_eval=intervals)\n",
    "solve_m = solve_ivp(fun, (a, b), (y_a, h_m), t_eval=intervals)\n",
    "\n",
    "while abs(solve_n.y[0][-1] - solve_m.y[0][-1]) > 0.001:\n",
    "    h = (h_m + h_n)/2\n",
    "    solve_h = solve_ivp(fun, (a, b), (y_a, h), t_eval=intervals)\n",
    "    if (solve_h.y[0][-1] <= y_b <= solve_n.y[0][-1]) or (solve_h.y[0][-1] >= y_b >= solve_n.y[0][-1]):\n",
    "        h_m = h\n",
    "        solve_m = solve_ivp(fun, (a, b), (y_a, h_m), t_eval=intervals)\n",
    "    else:\n",
    "        h_n = h\n",
    "        solve_n = solve_ivp(fun, (a, b), (y_a, h_n), t_eval=intervals)\n",
    "\n",
    "print(solve_n.y[0][-1])\n",
    "print(solve_m.y[0][-1])\n",
    "print(h)"
   ]
  },
  {
   "cell_type": "markdown",
   "id": "aed9b4f8",
   "metadata": {},
   "source": [
    "h приблизительно равно -1.840234375000001"
   ]
  },
  {
   "cell_type": "code",
   "execution_count": 190,
   "id": "2137da00",
   "metadata": {
    "scrolled": true
   },
   "outputs": [
    {
     "name": "stdout",
     "output_type": "stream",
     "text": [
      "2.999374923324208\n"
     ]
    },
    {
     "data": {
      "image/png": "[encoded data removed]",
      "text/plain": [
       "<Figure size 432x288 with 1 Axes>"
      ]
     },
     "metadata": {
      "needs_background": "light"
     },
     "output_type": "display_data"
    }
   ],
   "source": [
    "solve_final = solve_ivp(fun, (a, b), (y_a, h), t_eval=intervals)\n",
    "plt.axhline(y=3, color='green', linestyle='-')\n",
    "plt.plot(intervals, solve_final.y[0])\n",
    "print(solve_final.y[0][-1])"
   ]
  },
  {
   "cell_type": "markdown",
   "id": "7527c319",
   "metadata": {},
   "source": [
    "## Выводы\n",
    "\n",
    "Была решена краевая задача для уравнения второго порядка путем многократного решения задачи Коши. Сначала ОДУ второго порядка было сведено к системе из двух ОДУ первого порядка. Решена задача Коши при двух значений h, для которых значение на концевой точке $y(b)=3$ попадало в интервал $[y_{h_m},y_{h_n}]$. Затем методом половинного деления значение h было уточнено."
   ]
  }
 ],
 "metadata": {
  "kernelspec": {
   "display_name": "Python 3 (ipykernel)",
   "language": "python",
   "name": "python3"
  },
  "language_info": {
   "codemirror_mode": {
    "name": "ipython",
    "version": 3
   },
   "file_extension": ".py",
   "mimetype": "text/x-python",
   "name": "python",
   "nbconvert_exporter": "python",
   "pygments_lexer": "ipython3",
   "version": "3.10.0"
  }
 },
 "nbformat": 4,
 "nbformat_minor": 5
}
