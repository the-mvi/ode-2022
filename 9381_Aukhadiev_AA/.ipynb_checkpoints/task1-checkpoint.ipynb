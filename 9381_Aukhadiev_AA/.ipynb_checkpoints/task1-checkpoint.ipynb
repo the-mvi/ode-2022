{
 "cells": [
  {
   "cell_type": "markdown",
   "metadata": {},
   "source": [
    "# Практическая работа №1: Краевая задача для уравнения II-го порядка\n",
    "\n",
    "Выполнил студент гр. 9381 Аухадиев Александр, вариант 2."
   ]
  },
  {
   "cell_type": "markdown",
   "metadata": {},
   "source": [
    "## Цель работы\n",
    "\n",
    "Научиться применять дифференциальные уравнения в различных областях, решать краевую задачу для уравнения II-го порядка путём многократного решения задачи Коши."
   ]
  },
  {
   "cell_type": "markdown",
   "metadata": {},
   "source": [
    "## Основные теоретические положения\n",
    "\n",
    "Задача Коши подразумевает поиск частного решения уравнения $y = \\varphi(x)$ из числа общих, удовлетворяющих некоторым условиям. Общий вид задачи Коши:\n",
    "\n",
    "\\begin{cases}\n",
    "   f(x, y, y', y'',...,y^{(n)} = 0\\\\\n",
    "   y(x_0) = y_0\\\\\n",
    "   y'(x_0) = y_1\\\\\n",
    "   y''(x_0) = y_2\\\\\n",
    "   ...\\\\\n",
    "   y^{(n-1)}(x_0) = y_{n-1}\n",
    " \\end{cases}\n",
    " \n",
    " "
   ]
  },
  {
   "cell_type": "markdown",
   "metadata": {},
   "source": [
    "## Постановка задачи\n",
    "\n",
    "Дано дифференциальное уравнение: \n",
    "\n",
    "$y'' = f(x,y), a < x < b$  (1)\n",
    "\n",
    "и граничные условия\n",
    "\n",
    "$y(a) = y_a$, $y(b) = y_b$  (2)\n",
    "\n",
    "Требуется найти решение задачи (1)-(2) и построить его график.\n",
    "\n",
    "Рассмотрим задачу Коши для уравнения (1) с начальными условиями\n",
    "\n",
    "$y(a) = y_a$, $y'(a) = h$  (3)\n",
    "\n",
    "План решения основан на многократном решении задачи Коши (1), (3). Значение решения задачи Коши при 𝑥 = 𝑏 является функцией от ℎ. \n",
    "Задача сводится к отысканию такого значения переменной ℎ, при котором выполнено условие на правом конце отрезка, т.е. должно выполняться\n",
    "\n",
    "$y(b, h) = y_b$ (4)\n",
    "\n",
    "Это уравнение с одним неизвестным ℎ.\n",
    "Для его решения можно применить стандартный метод половинного деления."
   ]
  },
  {
   "cell_type": "markdown",
   "metadata": {},
   "source": [
    "## Выполнение работы\n",
    "\n",
    "$f(x, y) = {lnx \\over {y^2  +1}}$, $a < x < b$\n",
    "\n",
    "$y_a = 3$, $y_b = -3$\n",
    "\n",
    "$a = 0$, $b = 2$\n",
    "\n",
    "Общий вид задачи Коши:\n",
    "\n",
    "\\begin{cases}\n",
    "   y'' - {lnx \\over {y^2  +1}} = 0\\\\\n",
    "   y(0) = 3\\\\\n",
    "   y'(0) = h\\\\\n",
    " \\end{cases}\n",
    " \n",
    " Сведём дифференциальное уравнение к равносильной системе:\n",
    " \n",
    " \\begin{cases}\n",
    "   y' = g\\\\\n",
    "   g' = {lnx \\over {y^2  +1}}\\\\\n",
    " \\end{cases}"
   ]
  },
  {
   "cell_type": "code",
   "execution_count": 2,
   "metadata": {},
   "outputs": [],
   "source": [
    "import scipy.integrate as integ\n",
    "import numpy as np\n",
    "import matplotlib.pyplot as plt\n",
    "import math"
   ]
  },
  {
   "cell_type": "code",
   "execution_count": 3,
   "metadata": {},
   "outputs": [
    {
     "name": "stdout",
     "output_type": "stream",
     "text": [
      "h =  1\n",
      "y(b,h) =  4.841930389721817\n",
      "h =  -3.5\n",
      "y(b,h) =  -4.363140736585396\n",
      "h =  -2.25\n",
      "y(b,h) =  -1.6993662191075574\n",
      "h =  -3.125\n",
      "y(b,h) =  -3.555664184747986\n",
      "h =  -2.6875\n",
      "y(b,h) =  -2.626347422809205\n",
      "h =  -2.90625\n",
      "y(b,h) =  -3.0880059071928203\n",
      "h =  -2.828125\n",
      "y(b,h) =  -2.922431799373822\n",
      "h =  -2.8828125\n",
      "y(b,h) =  -3.03824454597512\n",
      "h =  -2.85546875\n",
      "y(b,h) =  -2.9802862639531265\n",
      "h =  -2.869140625\n",
      "y(b,h) =  -3.0092523666921873\n",
      "h =  -2.8623046875\n",
      "y(b,h) =  -2.994766058095277\n",
      "h =  -2.86572265625\n",
      "y(b,h) =  -3.002008397473369\n",
      "h =  -2.864501953125\n",
      "y(b,h) =  -2.9994216606422763\n"
     ]
    },
    {
     "data": {
      "text/plain": [
       "[<matplotlib.lines.Line2D at 0x7ff6edb15dc0>]"
      ]
     },
     "execution_count": 3,
     "metadata": {},
     "output_type": "execute_result"
    },
    {
     "data": {
      "image/png": "[encoded data removed]",
      "text/plain": [
       "<Figure size 432x288 with 1 Axes>"
      ]
     },
     "metadata": {
      "needs_background": "light"
     },
     "output_type": "display_data"
    }
   ],
   "source": [
    "def func(t, r):\n",
    "    y, g = r\n",
    "    fy = g                       # Система дифференциальных\n",
    "    fg = math.log(t)/(y**2 + 1)  # уравнений\n",
    "    return fy, fg\n",
    "\n",
    "def solve(h):\n",
    "    a = 0.000000001  # Нельзя использовать значение, равное нулю, так как невозможно будет использовать логарифм\n",
    "    b = 2\n",
    "    ya = 3\n",
    "    steps = 1000\n",
    "    \n",
    "    #Численное решение методом Рунге-Кутты 5(4)-го порядка\n",
    "    return integ.solve_ivp(func,(a, b), (ya, h), t_eval=np.linspace(a, b, steps), method='RK45')\n",
    "\n",
    "h = 1    #Задаём наугад h0\n",
    "M = 100  #Максимальное количество шагов\n",
    "yb = -3\n",
    "delta_h = 1\n",
    "\n",
    "sol = yb + 1  # = y(b, h), первоначальное значение - любое, отличающееся от yb больше, чем на 0.001\n",
    "solution = None\n",
    "\n",
    "while(abs(sol - yb) > 0.001) | (M <= 0):\n",
    "    solution = solve(h)\n",
    "    sol = solution.y[0][999]  # = y(b, h)\n",
    "    print(\"h = \", h)\n",
    "    print(\"y(b,h) = \", sol)\n",
    "    h1 = h  \n",
    "    h2 = h    \n",
    "    while(True):\n",
    "        \n",
    "        h1 += delta_h\n",
    "        sol1 = solve(h1).y[0][999]\n",
    "\n",
    "        h2 -= delta_h\n",
    "        sol2 = solve(h2).y[0][999]\n",
    "        \n",
    "        # Поиск подходящего h методом половинного деления\n",
    "        if (sol1 - yb)*(sol - yb) <= 0:\n",
    "            h = h1 + delta_h/2\n",
    "            break\n",
    "        \n",
    "        if (sol2 - yb)*(sol - yb) <= 0:\n",
    "            h = h2 - delta_h/2\n",
    "            break\n",
    "    \n",
    "    delta_h /= 2\n",
    "    M -= 1\n",
    "    \n",
    "plt.plot(solution.t, solution.y[0])"
   ]
  },
  {
   "cell_type": "code",
   "execution_count": 4,
   "metadata": {},
   "outputs": [
    {
     "data": {
      "text/plain": [
       "[<matplotlib.lines.Line2D at 0x7ff6eda7f610>]"
      ]
     },
     "execution_count": 4,
     "metadata": {},
     "output_type": "execute_result"
    },
    {
     "data": {
      "image/png": "[encoded data removed]",
      "text/plain": [
       "<Figure size 432x288 with 1 Axes>"
      ]
     },
     "metadata": {
      "needs_background": "light"
     },
     "output_type": "display_data"
    }
   ],
   "source": [
    "plt.plot(solution.t, solution.y[1])"
   ]
  },
  {
   "cell_type": "markdown",
   "metadata": {},
   "source": [
    "## Выводы\n",
    "\n",
    "Была решена краевая задача для уравнения II-го порядка путём многократного решения задачи Коши. Было найдено значение $h = -2.864501953125$, удовлетворяющее условию $y(b, h) = y_b$ с допустимой погрешностью 0.001, где $y(b, h) = -2.9994216606422763$"
   ]
  },
  {
   "cell_type": "code",
   "execution_count": null,
   "metadata": {},
   "outputs": [],
   "source": []
  }
 ],
 "metadata": {
  "kernelspec": {
   "display_name": "Python 3 (ipykernel)",
   "language": "python",
   "name": "python3"
  },
  "language_info": {
   "codemirror_mode": {
    "name": "ipython",
    "version": 3
   },
   "file_extension": ".py",
   "mimetype": "text/x-python",
   "name": "python",
   "nbconvert_exporter": "python",
   "pygments_lexer": "ipython3",
   "version": "3.8.10"
  }
 },
 "nbformat": 4,
 "nbformat_minor": 4
}
