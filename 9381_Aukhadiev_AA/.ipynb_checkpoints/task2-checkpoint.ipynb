{
 "cells": [
  {
   "cell_type": "markdown",
   "metadata": {},
   "source": [
    "# Практическая работа №2: Исследование однородного линейного уравнения с периодическими коэффициентами.\n",
    "Выполнил студент гр. 9381 Аухадиев Александр, вариант 2."
   ]
  },
  {
   "cell_type": "markdown",
   "metadata": {},
   "source": [
    "## Цель работы\n",
    "\n",
    "Изучение устойчивости однородного линейного уравнения с периодическими коэффициентами при $t \\rightarrow +\\infty$."
   ]
  },
  {
   "cell_type": "markdown",
   "metadata": {},
   "source": [
    "## Основные теоретические положения\n",
    "\n",
    "Системой однородных линейных дифференциальных уравнений с периодическими коэффициентами называется система однородных линейных ОДУ следующего вида:\n",
    "\n",
    "$X' = A(t)X$, $A(t+T) = A(t)$, $t \\geq 0$, где \n",
    "\n",
    "$X' = (x'_1,...,x'_n)^T$,\n",
    "\n",
    "$X = (x_1,...,x_n)^T$,\n",
    "\n",
    "$A(t) = ||a_{ij}(t)||$,\n",
    "\n",
    "$a_{ij}(t+T) = a_{ij}(t)$\n",
    "\n",
    "$T > 0$ - период коэффициентов системы\n",
    "\n",
    "Фундаментальная матрица такой системы - матрица $\\phi(t)$, у которой столбцы являются линейно независимыми решениями системы.\n",
    "\n",
    "$\\phi' = A(t)\\phi$\n",
    "\n",
    "Основная матрица для $\\phi$ - матрица С такая, что\n",
    "\n",
    "$\\phi(t+T) = \\phi(t)C, \\forall t \\geq 0$\n",
    "\n",
    "Спектральный радиус матрицы С - число $r(C)$ такое, что\n",
    "\n",
    "$r(C) = \\underset{i} {max}|\\lambda_i|$, где $i$ - собственные значения С."
   ]
  },
  {
   "cell_type": "markdown",
   "metadata": {},
   "source": [
    "## Постановка задачи\n",
    "\n",
    "Дано дифференциальное уравнение: \n",
    "\n",
    "$x'' + a(p,t)x = 0$, $a(p,t) = p + b(t)$, $b(t+T) = b(t)$, где $p$ - параметр\n",
    "\n",
    "Данное уравнение сводится к системе двух уравнений I-го порядка:\n",
    "\n",
    "$\\begin{equation*}\n",
    " \\begin{cases}\n",
    "   u'_1 = u_2,\\\\\n",
    "   u'_2 = -a(p, t)u_1;\n",
    " \\end{cases}\n",
    "\\end{equation*}$   (1)\n",
    "\n",
    "Здесь $u_1(t) = x(t)$, $u_2(t) = x'(t)$.\n",
    "\n",
    "Необходимо провести исследование устойчивости однородного линейного уравнения. Дальнейшие рассуждения применимы к любой линейной периодической системе, а не только к системе вида (1)."
   ]
  },
  {
   "cell_type": "markdown",
   "metadata": {},
   "source": [
    "## Выполнение работы\n",
    "\n",
    "Вариант 2.\n",
    "\n",
    "$b(t) = cos^2sint$"
   ]
  },
  {
   "cell_type": "code",
   "execution_count": 76,
   "metadata": {},
   "outputs": [],
   "source": [
    "import scipy.integrate as integ\n",
    "import numpy as np\n",
    "import matplotlib.pyplot as plt\n",
    "import math\n",
    "\n",
    "T = math.pi\n",
    "\n",
    "def b(t):\n",
    "    return math.cos(math.sin(t)) ** 2\n",
    "\n",
    "def a(p, t):\n",
    "    return p + b(t)"
   ]
  },
  {
   "cell_type": "markdown",
   "metadata": {},
   "source": [
    "Зададим массив значений параметра $p$: от 0.1 до 5 с шагом 0.05."
   ]
  },
  {
   "cell_type": "code",
   "execution_count": 77,
   "metadata": {},
   "outputs": [],
   "source": [
    "step = 0.05\n",
    "p_array = np.arange(0.1, 5, step)"
   ]
  },
  {
   "cell_type": "markdown",
   "metadata": {},
   "source": [
    "Вычислим значение фундаментальной матрицы системы (1) при t = T. Для этого решим две задачи Коши с начальными векторами $V_1 = (1, 0)^T$ и $V_2 = (0, 1)^T$ на отрезке $[0, T]$. Их решением являются вектор-функции $U(t, V_1)$ и $U(t, V_2)$. "
   ]
  },
  {
   "cell_type": "code",
   "execution_count": 78,
   "metadata": {},
   "outputs": [
    {
     "data": {
      "image/png": "[encoded data removed]",
      "text/plain": [
       "<Figure size 432x288 with 1 Axes>"
      ]
     },
     "metadata": {
      "needs_background": "light"
     },
     "output_type": "display_data"
    }
   ],
   "source": [
    "def F(t, u):  #Функция системы уравнений\n",
    "    return [u[1], -a(p,t)*u[0]]\n",
    "\n",
    "v1 = (1, 0)\n",
    "v2 = (0, 1)\n",
    "interval = (0, T)\n",
    "spectral_ranges = []  #спектральные радиусы\n",
    "\n",
    "for p in p_array:\n",
    "    u1 = integ.solve_ivp(F, interval, v1)\n",
    "    u2 = integ.solve_ivp(F, interval, v2)\n",
    "    C = np.array([[u1.y[0][-1], u2.y[0][-1]], [u1.y[1][-1], u2.y[1][-1]]])  #Основная матрица С\n",
    "    spectral_ranges.append(max(abs(np.linalg.eigvals(C))))                 \n",
    "    \n",
    "#График спектрального радиуса\n",
    "plt.plot(p_array, spectral_ranges)\n",
    "plt.grid(True)\n",
    "plt.show()"
   ]
  },
  {
   "cell_type": "markdown",
   "metadata": {},
   "source": [
    "Определим точку $p_0$, разделяющую зоны устойчивости и неустойчивости с точностью $\\varepsilon = 10^{-3}$, $|r(p_0) - 1| < \\varepsilon$"
   ]
  },
  {
   "cell_type": "code",
   "execution_count": 79,
   "metadata": {},
   "outputs": [
    {
     "name": "stdout",
     "output_type": "stream",
     "text": [
      "p0 = 3.450000000000001\n",
      "r(p0) = 0.9998962564505647\n"
     ]
    }
   ],
   "source": [
    "p0 = -1\n",
    "rp0 = -1\n",
    "epsilon = 0.001\n",
    "\n",
    "for i in range(1, len(spectral_ranges)):\n",
    "    if abs(spectral_ranges[-i] - 1) > epsilon:\n",
    "        p0 = p_array[1 - i]\n",
    "        rp0 = spectral_ranges[1 - i]\n",
    "        break\n",
    "        \n",
    "print(\"p0 =\", p0)\n",
    "print(\"r(p0) =\", rp0)"
   ]
  },
  {
   "cell_type": "markdown",
   "metadata": {},
   "source": [
    "Построим график спектрального радиуса основной матрицы при различных параметрах р с отмеченной на нём точкой $p_0$"
   ]
  },
  {
   "cell_type": "code",
   "execution_count": 80,
   "metadata": {},
   "outputs": [
    {
     "data": {
      "image/png": "[encoded data removed]",
      "text/plain": [
       "<Figure size 432x288 with 1 Axes>"
      ]
     },
     "metadata": {
      "needs_background": "light"
     },
     "output_type": "display_data"
    },
    {
     "data": {
      "image/png": "[encoded data removed]",
      "text/plain": [
       "<Figure size 432x288 with 1 Axes>"
      ]
     },
     "metadata": {
      "needs_background": "light"
     },
     "output_type": "display_data"
    }
   ],
   "source": [
    "plt.plot([p0, p0], [1, 1.35], color=\"black\", label=\"p0\")\n",
    "plt.plot(p_array, spectral_ranges, label=\"r(p)\")\n",
    "plt.grid(True)\n",
    "plt.legend()\n",
    "plt.show()\n",
    "\n",
    "plt.plot([p0, p0], [1, 1.04], color=\"black\", label=\"p0\")\n",
    "plt.plot(p_array[int(3.2 / step): int(3.6 / step)], spectral_ranges[int(3.2 / step): int(3.6 / step)], label=\"r(p)\")\n",
    "plt.grid(True)\n",
    "plt.legend()\n",
    "plt.show()"
   ]
  },
  {
   "cell_type": "markdown",
   "metadata": {},
   "source": [
    "Судя по графикам, граница между зонами устойчивости и неустойчивости $p_0 = 3.450000000000001$. При $p < p_0$ система неустойчива, при $p \\geq p_0$ система устойчива."
   ]
  },
  {
   "cell_type": "markdown",
   "metadata": {},
   "source": [
    "## Выводы\n",
    "\n",
    "В ходе данной практической работы была изучена устойчивость однородного линейного уравнения с периодическими коэффициентами при $t \\rightarrow +\\infty$."
   ]
  }
 ],
 "metadata": {
  "kernelspec": {
   "display_name": "Python 3 (ipykernel)",
   "language": "python",
   "name": "python3"
  },
  "language_info": {
   "codemirror_mode": {
    "name": "ipython",
    "version": 3
   },
   "file_extension": ".py",
   "mimetype": "text/x-python",
   "name": "python",
   "nbconvert_exporter": "python",
   "pygments_lexer": "ipython3",
   "version": "3.8.10"
  }
 },
 "nbformat": 4,
 "nbformat_minor": 4
}
