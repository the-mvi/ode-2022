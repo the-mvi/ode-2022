{
 "cells": [
  {
   "cell_type": "markdown",
   "metadata": {},
   "source": [
    "# Практическая работа №1: Краевая задача для уравнения II-го порядка\n",
    "\n",
    "Выполнил студент гр. 9381 Матвеев Андрей, вариант 8."
   ]
  },
  {
   "cell_type": "markdown",
   "metadata": {},
   "source": [
    "## Цель работы\n",
    "\n",
    "Научиться применять дифференциальные уравнения в различных областях, решать краевую задачу для уравнения II-го порядка путём многократного решения задачи Коши."
   ]
  },
  {
   "cell_type": "markdown",
   "metadata": {},
   "source": [
    "## Основные теоретические положения\n",
    "\n",
    "Задача Коши подразумевает собой поиск частного решения уравнения $y = \\phi(x)$ из числа общих, удовлетворяющих некоторым условиям. Общий вид задачи Коши:\n",
    "\n",
    "\\begin{cases}\n",
    "   f(x, y, y', y'',...,y^{(n)}) = 0\\\\\n",
    "   y(x_0) = y_0\\\\\n",
    "   y'(x_0) = y_1\\\\\n",
    "   y''(x_0) = y_2\\\\\n",
    "   ...\\\\\n",
    "   y^{(n-1)}(x_0) = y_{n-1}\n",
    " \\end{cases}"
   ]
  },
  {
   "cell_type": "markdown",
   "metadata": {},
   "source": [
    "## Постановка задачи\n",
    "\n",
    "Дано дифференциальное уравнение:\n",
    "\n",
    "$\n",
    "y^{''}=f(x, y), \\quad a < x < b \\quad (1)\n",
    "$\n",
    "\n",
    "и граничные условия\n",
    "\n",
    "$\n",
    "y(a)=y_a, \\quad \n",
    "y(b)=y_b \\quad (2)\n",
    "$\n",
    "\n",
    "Требуется найти решение задачи (1)-(2) и построить его график.\n",
    "\n",
    "Рассмотрим задачу Коши для уравнения (1) с начальными условиями \n",
    "\n",
    "$\n",
    "y(a)=y_a, \\quad \n",
    "y^{'}(a)=h \\quad (3)\n",
    "$\n",
    "\n",
    "План решения основан на многократном решении задачи Коши (1), (3).\n",
    "\n",
    "Значение решения задачи Коши при 𝑥 = 𝑏 является функцией от $h$.\n",
    "\n",
    "Задача сводится к отысканию такого значения переменной $h$, при котором выполнено условие на правом конце отрезка, т.е. должно выполняться \n",
    "$\n",
    "y(b, h) = y_b \\quad (4)\n",
    "$ \n",
    "\n",
    "Это уравнение с одним неизвестным $h$.\n",
    "\n",
    "Для его решения можно применить стандартный метод половинного деления."
   ]
  },
  {
   "cell_type": "markdown",
   "metadata": {},
   "source": [
    "## Выполнение работы"
   ]
  },
  {
   "cell_type": "markdown",
   "metadata": {},
   "source": [
    "## Задание.\n",
    "### Вариант 8.\n",
    "Здесь a = 0, b = 2\n",
    "\n",
    "$y^{''}=f(x, y) = sin(x + y^2)$\n",
    "\n",
    "$y_a = 3$\n",
    "\n",
    "$y_b = -3$\n",
    "\n"
   ]
  },
  {
   "cell_type": "code",
   "execution_count": 11,
   "metadata": {},
   "outputs": [],
   "source": [
    "import math\n",
    "import numpy as np\n",
    "import matplotlib.pyplot as plt\n",
    "from scipy.integrate import odeint"
   ]
  },
  {
   "cell_type": "markdown",
   "metadata": {},
   "source": [
    "1. Задаем наугад число $h_0 = 4$, решаем задачу Коши. Далее вычисляем $y(b, h_0)$."
   ]
  },
  {
   "cell_type": "code",
   "execution_count": 12,
   "metadata": {
    "scrolled": false
   },
   "outputs": [
    {
     "data": {
      "image/png": "[encoded data removed]",
      "text/plain": [
       "<Figure size 432x288 with 1 Axes>"
      ]
     },
     "metadata": {
      "needs_background": "light"
     },
     "output_type": "display_data"
    }
   ],
   "source": [
    "a = 0\n",
    "b = 2\n",
    "y_a = 3\n",
    "y_b = -3\n",
    "h_0 = 4\n",
    "steps_count = 1000\n",
    "\n",
    "x_array = np.linspace(a, b, steps_count)\n",
    "\n",
    "def f( y, t):\n",
    "    return [y[1], math.sin(t + y[0]**2)]\n",
    "\n",
    "result = odeint(f, [y_a, h_0], x_array)\n",
    "plt.plot(x_array, result[:,0]);                    \n",
    "# odeint(f(x, y),x0,<вектор x>) где y и f могут быть векторами, что позволяет решать\n",
    "# системы уравнений и уравнения порядка выше первого"
   ]
  },
  {
   "cell_type": "code",
   "execution_count": 13,
   "metadata": {},
   "outputs": [
    {
     "name": "stdout",
     "output_type": "stream",
     "text": [
      "[[ 3.          4.        ]\n",
      " [ 3.0080088   4.00077899]\n",
      " [ 3.01601907  4.00146454]\n",
      " ...\n",
      " [10.91365368  3.96617545]\n",
      " [10.92159592  3.96811749]\n",
      " [10.92954196  3.96994666]]\n"
     ]
    }
   ],
   "source": [
    "print(result)"
   ]
  },
  {
   "cell_type": "code",
   "execution_count": 14,
   "metadata": {},
   "outputs": [
    {
     "name": "stdout",
     "output_type": "stream",
     "text": [
      "y(b, h_0)= 10.929541955615406\n"
     ]
    }
   ],
   "source": [
    "print('y(b, h_0)= {}'.format(result[-1][0]))"
   ]
  },
  {
   "cell_type": "markdown",
   "metadata": {},
   "source": [
    "Отсюда видно, что $y(b, h_0) \\approx 10.93 \\quad > \\quad y_b = -3$"
   ]
  },
  {
   "cell_type": "markdown",
   "metadata": {},
   "source": [
    "2. Выберем шаг ∆ℎ и решаем несколько раз задачу Коши при $h_1 = h_0+∆ℎ$. Если снова получили $y_b < y(b, h_1)$, причём $y_b < y(b, h_1) < y(b, h_0)$, решаем задачу Коши при $h_2=h_1+∆ℎ$ и т.д. Процесс повторяется пока не получим неравенство $y(b, h_m) < y_b$."
   ]
  },
  {
   "cell_type": "code",
   "execution_count": 15,
   "metadata": {
    "scrolled": true
   },
   "outputs": [
    {
     "name": "stdout",
     "output_type": "stream",
     "text": [
      "y(b, h_9)=-2.6395976224761917, h_m-1=-3.2\n",
      "y(b, h_10)=-4.322945483774759   <   y_b=-3, h_m=-4.0\n"
     ]
    },
    {
     "data": {
      "image/png": "[encoded data removed]",
      "text/plain": [
       "<Figure size 432x288 with 1 Axes>"
      ]
     },
     "metadata": {
      "needs_background": "light"
     },
     "output_type": "display_data"
    }
   ],
   "source": [
    "delta_h = -0.8\n",
    "h = h_0\n",
    "count = 0\n",
    "\n",
    "hm_1 = 0\n",
    "y_b_hm_1 = 0\n",
    "\n",
    "hm = 0\n",
    "y_b_hm = 0\n",
    "\n",
    "\n",
    "\n",
    "while(result[-1][0] > y_b):\n",
    "    y_b_hm_1 = result[-1][0] # значение y на предыдущем шаге\n",
    "    hm_1 = h\n",
    "    \n",
    "    h += delta_h\n",
    "    result = odeint(f, [y_a, h], x_array)\n",
    "    \n",
    "    y_b_hm = result[-1][0] # значение y на текущем шаге\n",
    "    hm = h\n",
    "    \n",
    "    count+=1\n",
    "\n",
    "print('y(b, h_{})={}, h_m-1={}'.format(count-1, y_b_hm_1, hm_1))\n",
    "print('y(b, h_{})={}   <   y_b={}, h_m={}'.format(count, y_b_hm, y_b, hm))\n",
    "plt.plot(x_array, result[:,0]);    "
   ]
  },
  {
   "cell_type": "markdown",
   "metadata": {},
   "source": [
    "$y(b, h_9)=-2.6395976224761917$\n",
    "\n",
    "$h_{m-1}=-3.2$\n",
    "\n",
    "$y(b, h_10)=-4.322945483774759   <   y_b=-3$ \n",
    "\n",
    "$h_m=-4.0$"
   ]
  },
  {
   "cell_type": "markdown",
   "metadata": {},
   "source": [
    "3-4. Далее применяется стандартный процесс половинного деления к уравнению $y(b, h) = y_b$. Останавливаем процесс, когда выполнится неравенство $|y(b, h_m) - y(b, h_{m-1})| < 0.001$"
   ]
  },
  {
   "cell_type": "code",
   "execution_count": 16,
   "metadata": {
    "scrolled": false
   },
   "outputs": [
    {
     "name": "stdout",
     "output_type": "stream",
     "text": [
      "-3.6\t\t-3.47948\t\t0\n",
      "-3.4\t\t-3.05326\t\t1\n",
      "-3.3\t\t-2.84435\t\t2\n",
      "-3.35\t\t-2.94811\t\t3\n",
      "-3.375\t\t-3.00051\t\t4\n",
      "-3.3625\t\t-2.97427\t\t5\n",
      "-3.36875\t\t-2.98738\t\t6\n",
      "-3.37188\t\t-2.99394\t\t7\n",
      "-3.37344\t\t-2.99723\t\t8\n",
      "-3.37422\t\t-2.99887\t\t9\n",
      "-3.37461\t\t-2.99969\t\t10\n",
      "\n",
      "Интервал h: (-3.375, -3.374609)\n",
      "Интервал y(b, h): (-3.000511, -2.999689)\n"
     ]
    }
   ],
   "source": [
    "# Метод половинного деления\n",
    "\n",
    "E = 0.001\n",
    "\n",
    "h_min = min(hm, hm_1)\n",
    "h_max = max(hm, hm_1)\n",
    "\n",
    "M = 100 # максимальное число шагов\n",
    "count_M = 0\n",
    "\n",
    "\n",
    "f_cur = odeint(f, [y_a, hm], x_array)[-1][0]\n",
    "f_prev = odeint(f, [y_a, hm_1], x_array)[-1][0]\n",
    "\n",
    "f_min = None\n",
    "f_max = None\n",
    "\n",
    "f_min_val = min(f_cur, f_prev)\n",
    "f_max_val = max(f_cur, f_prev)\n",
    "\n",
    "avg_f = None\n",
    "avg_f_val = None\n",
    "avg_h = None\n",
    "    \n",
    "\n",
    "while(abs(f_max_val-f_min_val) >= E and count_M <= M):\n",
    "    avg_h = h_min + (h_max - h_min)/2\n",
    "    avg_f =  odeint(f, [y_a, avg_h], x_array)\n",
    "    avg_f_val = avg_f[-1][0]\n",
    "    print('{}\\t\\t{}\\t\\t{}'.format(round(avg_h, 5), round(avg_f_val,5), count_M))\n",
    "    \n",
    "    if(avg_f_val < y_b):\n",
    "        h_min = avg_h\n",
    "        f_min = avg_f\n",
    "        f_min_val = avg_f[-1][0]\n",
    "    else:\n",
    "        h_max = avg_h\n",
    "        f_max = avg_f\n",
    "        f_max_val = avg_f[-1][0]\n",
    "        \n",
    "    count_M+=1\n",
    "    \n",
    "\n",
    "\n",
    "print('\\nИнтервал h: ({}, {})'.format(round(h_min, 6), round(h_max,6)))\n",
    "print('Интервал y(b, h): ({}, {})'.format(round(f_min_val, 6), round(f_max_val, 6)))\n"
   ]
  },
  {
   "cell_type": "markdown",
   "metadata": {},
   "source": [
    "Шаг          |        y(b, h)            |     № итерации\n",
    "-------------|---------------------------|---------------------------\n",
    "-3.6\t\t|-3.47948\t|\t0\n",
    "-3.4\t|\t-3.05326\t|\t1\n",
    "-3.3\t|\t-2.84435\t|\t2\n",
    "-3.35\t|\t-2.94811\t|\t3\n",
    "-3.375\t|\t-3.00051\t|\t4\n",
    "-3.3625\t|\t-2.97427\t\t|5\n",
    "-3.36875\t|\t-2.98738\t|\t6\n",
    "-3.37188\t|\t-2.99394\t|\t7\n",
    "-3.37344\t|\t-2.99723\t|\t8\n",
    "-3.37422\t|\t-2.99887\t|\t9\n",
    "-3.37461\t|\t-2.99969\t|\t10\n",
    "\n",
    "\n",
    "#### Интервал h: (-3.375, -3.374609)\n",
    "\n",
    "#### Интервал y(b, h): (-3.000511, -2.999689)"
   ]
  },
  {
   "cell_type": "code",
   "execution_count": 17,
   "metadata": {},
   "outputs": [
    {
     "data": {
      "text/plain": [
       "[<matplotlib.lines.Line2D at 0x7fc88c24e850>]"
      ]
     },
     "execution_count": 17,
     "metadata": {},
     "output_type": "execute_result"
    },
    {
     "data": {
      "image/png": "[encoded data removed]",
      "text/plain": [
       "<Figure size 432x288 with 1 Axes>"
      ]
     },
     "metadata": {
      "needs_background": "light"
     },
     "output_type": "display_data"
    }
   ],
   "source": [
    "plt.plot(x_array, avg_f[:,0])"
   ]
  },
  {
   "cell_type": "code",
   "execution_count": 18,
   "metadata": {},
   "outputs": [
    {
     "data": {
      "text/plain": [
       "[<matplotlib.lines.Line2D at 0x7fc88c1bf490>]"
      ]
     },
     "execution_count": 18,
     "metadata": {},
     "output_type": "execute_result"
    },
    {
     "data": {
      "image/png": "[encoded data removed]",
      "text/plain": [
       "<Figure size 432x288 with 1 Axes>"
      ]
     },
     "metadata": {
      "needs_background": "light"
     },
     "output_type": "display_data"
    }
   ],
   "source": [
    "plt.plot(x_array, avg_f[:,1])"
   ]
  },
  {
   "cell_type": "markdown",
   "metadata": {},
   "source": [
    "## Выводы\n",
    "\n",
    "Решена краевая задача для уравнения 2-го порядка, основанная на многократном решении задачи Коши. Задача Коши была решена несколько раз до тех пор, пока не было получено неравенство $y(b, h) < y_b$. Таким образом, был найден интервал $(h_{10}, h_9)$, который был обработан методом половинного деления. Достигнута необходимая точность 0,001.  \n",
    "\n",
    "Интервал h: (-3.375, -3.374609)\n",
    "\n",
    "Интервал y(b, h): (-3.000511, -2.999689)"
   ]
  }
 ],
 "metadata": {
  "kernelspec": {
   "display_name": "Python 3 (ipykernel)",
   "language": "python",
   "name": "python3"
  },
  "language_info": {
   "codemirror_mode": {
    "name": "ipython",
    "version": 3
   },
   "file_extension": ".py",
   "mimetype": "text/x-python",
   "name": "python",
   "nbconvert_exporter": "python",
   "pygments_lexer": "ipython3",
   "version": "3.8.10"
  }
 },
 "nbformat": 4,
 "nbformat_minor": 4
}
