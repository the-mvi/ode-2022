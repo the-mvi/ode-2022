{
 "cells": [
  {
   "cell_type": "markdown",
   "metadata": {},
   "source": [
    "# Практическая работа №2: Исследование однородного линейного уравнения с периодическими коэффициентами\n",
    "\n",
    "Выполнил студент гр. 9381 Матвеев, вариант 8."
   ]
  },
  {
   "cell_type": "markdown",
   "metadata": {},
   "source": [
    "## Цель работы\n",
    "\n",
    "Изучение устойчивости однородного линейного уравнения с периодическими коэффициентами при $t \\rightarrow + \\infty$"
   ]
  },
  {
   "cell_type": "markdown",
   "metadata": {},
   "source": [
    "## Основные теоретические положения\n",
    "\n"
   ]
  },
  {
   "cell_type": "markdown",
   "metadata": {},
   "source": [
    "Линейная однородная система с периодическими коэфицентами - система однородных ОЛДУ вида:\n",
    "\n",
    "$X'=A(t)X\\;\\;\\;$, $A(t+T)=A(t)\\;\\;,t \\geq 0 \\;\\;\\;\\;\\;\\;\\;\\;\\;\\;\\;\\;\\;\\;\\;\\;$\n",
    "\n",
    "Пусть $\\Phi(t)$ - фундаментальная матрица системы $X'=A(t)X\\;\\;\\;$, $A(t+T)=A(t)\\;\\;,t \\geq 0 \\;\\;$, т.е. её столбцы - линейно независимые решения уравнения. \n",
    "\n",
    "#### Определение\n",
    "\n",
    "Матрица С, удовлетворяющая условию $\\Phi(t+T)=\\Phi(t)C,\\;\\;\\;\\;$ $ \\forall t \\geq 0, \\;\\;\\;\\;$\n",
    "называется основной для фундаментальной матрицы $\\Phi(t)$.\n",
    "\n",
    "Cдвиг на период в аргументе фундаментальной матрицы равносилен умножению ее на\n",
    "основную матрицу.\n",
    "\n",
    "#### Определение \n",
    "Спектральным радиусом матрицы называется максимум модуля ее собственных чисел \n",
    "\n",
    "Обозначение:\n",
    "\n",
    "$\\rho(A)=max|\\lambda_j|\\;\\;\\;\\;0 \\leq j \\leq n$\n"
   ]
  },
  {
   "cell_type": "markdown",
   "metadata": {},
   "source": [
    "## Постановка задачи\n",
    "\n",
    "Дано дифференциальное уравнение:\n",
    "\n",
    "$x'' + a(p,t)x = 0,\\;\\;\\;\\;\\;\\;\\;\\;$  $a(p,t)=p+b(t),\\;\\;\\;\\;\\;\\;\\;\\;$ $b(t+T)=b(t)$,\n",
    "\n",
    "где $p$ - параметр.\n",
    "\n",
    "Данное уравнение сводится к системе двух уравнений I-го порядка:\n",
    "\n",
    "$\n",
    "\\begin{cases}\n",
    "   u'_1 = u_2, \\\\\n",
    "   u'_2 = -a(p,t)u_1;\n",
    "\\end{cases}\n",
    " \\;\\;\\;\\;\\;\\;\\;\\;\\;\\;\\;\\;\\;\\;\\;\\;\\;\\;\\;\\;\\;\\;\\;\\;\\;\\;\\;\\;\\;\\;\\;\\;\\;\\;\\;\\;\\;\\;\\;\\;\\;\\;\\;\\;\\;\\;\\;\\;\\;\\;\\;\\;\\;\\;\\;\\;\\;\\;\\;\\;\\;\\;\\;\\;\\;\\;\\;\\;\\;\\;\\;\\;\\;\\;\\;\\; (1)\n",
    "$\n",
    "\n",
    "Здесь $u_1(t) = x(t), \\; u_2(t) = x'(t)$.\n",
    "\n",
    "Необходимо провести исследование устойчивости однородного линейного уравнения. Дальнейшие рассуждения применимы к любой линейной\n",
    "периодической системе, а не только к системе вида (1)."
   ]
  },
  {
   "cell_type": "markdown",
   "metadata": {},
   "source": [
    "## Схема решения\n",
    "\n",
    "1. Задаем массив значений параметра $p$. Например, $p$  меняется от 0.1 до 5 с шагом 0.05. Для каждого значения $p$ проделаем следующие действия (в теле цикла).\n",
    "\n",
    "2. Вычисляем значение фундаментальной матрицы системы (1) при $t = T$ с помощью любой программы численного решения задачи Коши. Для этого решаем две задачи Коши с начальными векторами $V_1=(1,0)^T$ и $V_2=(0,1)^T$ на отрезке $[0, T]$. Пусть вектор-функции $U(t, V_1)$, $U(t, V_2)$ - решения таких задач. Они являются столбцами фундаментальной матрицы $\\Phi(t)$, удовлетворяющей условию $\\Phi(0)=E$. Основную матрицу для $C$ для $Ф(t)$ получаем из формулы $C = \\Phi(T)$. Столбцы матрицы $C$ это векторы $U(T, V_1)$, $U(T, V_2)$.\n",
    "\n",
    "3. Вычисляем собственные числа матрицы 𝐶 и ее спектральный радиус, т.е.\n",
    "$$ r(p) = \\max\\limits_{j = 1,2}|\\lambda_j|.$$\n",
    "В результате имеем массив значений $r(p)$;\n",
    "\n",
    "4. Вывод об устойчивости или неустойчивости делается в зависимости от значения $r(p)$.\n",
    "Рекомендуется построить график этой зависимости, из которого с достаточной точностью можно определить точку $p_0$, которая разделяет зоны устойчивости и неустойчивости, в которых $r \\le 1$ и $r \\gt 1$. Более точно\n",
    "вычисляется методом половинного деления.\n",
    "\n",
    "Матрицу $C$ можно найти только приближенно, решая численно две задачи Коши."
   ]
  },
  {
   "cell_type": "markdown",
   "metadata": {},
   "source": [
    "## Выполнение работы\n",
    "\n",
    "## Вариант 8\n",
    "Функция $b(t) = \\sqrt{2+cos(3t)}$"
   ]
  },
  {
   "cell_type": "markdown",
   "metadata": {},
   "source": [
    "1. Задаем массив значений параметра $p$. \n",
    "\n",
    "График функции $b(t)$ при $t \\in [0, 2T]$ приведен ниже:"
   ]
  },
  {
   "cell_type": "code",
   "execution_count": 84,
   "metadata": {
    "scrolled": false
   },
   "outputs": [
    {
     "data": {
      "text/plain": [
       "[<matplotlib.lines.Line2D at 0x7f7c960443a0>]"
      ]
     },
     "execution_count": 84,
     "metadata": {},
     "output_type": "execute_result"
    },
    {
     "data": {
      "image/png": "[encoded data removed]",
      "text/plain": [
       "<Figure size 432x288 with 1 Axes>"
      ]
     },
     "metadata": {
      "needs_background": "light"
     },
     "output_type": "display_data"
    }
   ],
   "source": [
    "import numpy as np\n",
    "from scipy.integrate import odeint\n",
    "import matplotlib.pyplot as plt\n",
    "\n",
    "\n",
    "step = 0.005\n",
    "pFrom = 0\n",
    "pTo = 15\n",
    "# 1) задаём массив значений параметра p\n",
    "pValues = np.arange(pFrom, pTo, step)\n",
    "\n",
    "# возмём период равным 2*pi/3\n",
    "T = 2*np.pi/3\n",
    "tVector = np.arange(0, 2*T,  step)\n",
    "\n",
    "\n",
    "# описание функций b и a соответственно\n",
    "def b(t):\n",
    "    return np.sqrt(2+np.cos(3*t))\n",
    "\n",
    "def a(p, t):\n",
    "    return p + b(t)\n",
    "\n",
    "bVector = [b(t) for t in tVector]\n",
    "\n",
    "plt.xlabel(\"t\")\n",
    "plt.ylabel(\"b (t)\")\n",
    "plt.grid(True)\n",
    "plt.plot(tVector, bVector)\n"
   ]
  },
  {
   "cell_type": "markdown",
   "metadata": {},
   "source": [
    "2. Вычисляем значение фундаментальной матрицы системы (1) при $t = T$ с помощью программы численного решения задачи Коши\n",
    "\n",
    "3. Вычисляем собственные числа матрицы 𝐶 и ее спектральный радиус."
   ]
  },
  {
   "cell_type": "code",
   "execution_count": 85,
   "metadata": {},
   "outputs": [],
   "source": [
    "v1 = [1, 0]\n",
    "v2 = [0, 1]\n",
    "\n",
    "# эта функция представляет собой систему уравнений (1)\n",
    "def UTV(uDerVector, t):\n",
    "    return [\n",
    "            uDerVector[1], \n",
    "            -a(p, t)*uDerVector[0]\n",
    "    ]\n",
    "    \n",
    "tVector = np.arange(0, T,  step)\n",
    "eigValsC = []\n",
    "specRad = 0\n",
    "specRadVector = []\n",
    "for p in pValues:\n",
    "    # 2) Вычисляем значение фундаментальной матрицы системы (1)\n",
    "        #Решаем 2 задачи Коши с начальными векторами v1 и v2 на отрезке [0, T]\n",
    "    utv1 = odeint(UTV, v1, tVector) # столбцы фундаментальной матрицы Ф(0), удовл. усл. Ф(0)=E\n",
    "    utv2 = odeint(UTV, v2, tVector)\n",
    "    C = np.array([ # столбцы матрицы C = Ф(T) - векторы u(T, v1), u(T, v2)\n",
    "        [utv1[-1][0],  utv2[-1][0]],\n",
    "        [utv1[-1][1],  utv2[-1][1]]]\n",
    "    )\n",
    "#     print(C)\n",
    "    eigValsC = np.linalg.eigvals(C)# Вычисляем собственные числа матрицы 𝐶 и ее спектральный радиус\n",
    "#     print(eigValsC)\n",
    "    specRad = max(abs(eigValsC))\n",
    "#     print(specRad)\n",
    "    specRadVector.append(specRad) # массив значений r(p)\n",
    "    \n",
    "\n",
    "    "
   ]
  },
  {
   "cell_type": "markdown",
   "metadata": {},
   "source": [
    "4. Сделаем вывод об устойчивости или неустойчивости (он делается в зависимости от значения $r(p)$).\n",
    "\n",
    "4.1. Построим график этой зависимости, из которого с достаточной точностью можно определить точку $p_0$, которая разделяет зоны устойчивости и неустойчивости, в которых $r \\leq 1$ и $r > 1$. Но сначала построим график спектрального радиуса для всех значений параметра p из массива pValues."
   ]
  },
  {
   "cell_type": "code",
   "execution_count": 90,
   "metadata": {
    "scrolled": true
   },
   "outputs": [
    {
     "data": {
      "text/plain": [
       "[<matplotlib.lines.Line2D at 0x7f7c95f580d0>]"
      ]
     },
     "execution_count": 90,
     "metadata": {},
     "output_type": "execute_result"
    },
    {
     "data": {
      "image/png": "[encoded data removed]",
      "text/plain": [
       "<Figure size 432x288 with 1 Axes>"
      ]
     },
     "metadata": {
      "needs_background": "light"
     },
     "output_type": "display_data"
    }
   ],
   "source": [
    "plt.xlabel('p\\nГрафик спектрального радиуса при разных p')\n",
    "plt.ylabel('r(p)')\n",
    "plt.grid(True)\n",
    "plt.plot(pValues, specRadVector)"
   ]
  },
  {
   "cell_type": "markdown",
   "metadata": {},
   "source": [
    "Пусть точка $p_0$ - это следующая точка после той, где $r(p) > 1$ В ПОСЛЕДНИЙ раз. Т.е. начиная с $p_0$ $r(p) \\leq 1$. Найдём $p_0$ с точностью $10^{-3}$."
   ]
  },
  {
   "cell_type": "code",
   "execution_count": 91,
   "metadata": {},
   "outputs": [
    {
     "name": "stdout",
     "output_type": "stream",
     "text": [
      "before_p_0 = 7.665, r(before_p_0) = 1.00165\n",
      "p_0 = 7.67, r(p_0) = 1.0\n"
     ]
    }
   ],
   "source": [
    "# Проще всего её найти, запустив цикл обхода в обратном порядке.\n",
    "pair = [0, 0] \n",
    "prev = [0, 0]\n",
    "for i in range(len(pValues)-1, -1, -1):\n",
    "    if(abs(specRadVector[i]-1) > 0.001):\n",
    "        pair = [pValues[i+1], specRadVector[i+1]]\n",
    "        prev = [pValues[i], specRadVector[i]]\n",
    "        break\n",
    "\n",
    "print('before_p_0 = {}, r(before_p_0) = {}'.format(round(prev[0], 5), round(prev[1], 5)))\n",
    "print('p_0 = {}, r(p_0) = {}'.format(round(pair[0],5), round(pair[1], 5)))"
   ]
  },
  {
   "cell_type": "markdown",
   "metadata": {},
   "source": [
    "Отметим на графике спектрального радиуса основной матрицы точку $p_0$."
   ]
  },
  {
   "cell_type": "code",
   "execution_count": 92,
   "metadata": {},
   "outputs": [
    {
     "data": {
      "text/plain": [
       "<matplotlib.legend.Legend at 0x7f7c95e96fd0>"
      ]
     },
     "execution_count": 92,
     "metadata": {},
     "output_type": "execute_result"
    },
    {
     "data": {
      "image/png": "[encoded data removed]",
      "text/plain": [
       "<Figure size 1152x576 with 1 Axes>"
      ]
     },
     "metadata": {
      "needs_background": "light"
     },
     "output_type": "display_data"
    }
   ],
   "source": [
    "plt.figure(figsize=(16, 8))\n",
    "plt.xlabel('p\\nГрафик спектрального радиуса при разных p', fontsize= 14)\n",
    "plt.ylabel('r(p)', fontsize=14)\n",
    "plt.grid(True)\n",
    "plt.plot(pValues, specRadVector)\n",
    "plt.plot([pair[0], pair[0]], [1, 1.14], color=\"darkgreen\", label=\"p_0\")\n",
    "plt.legend()"
   ]
  },
  {
   "cell_type": "code",
   "execution_count": 93,
   "metadata": {},
   "outputs": [
    {
     "name": "stdout",
     "output_type": "stream",
     "text": [
      "Список интервалов неустойчивости:\n",
      "[[0.685, 1.05], [7.635, 7.67]]\n"
     ]
    }
   ],
   "source": [
    "# Найдем приблизительно интервалы неустойчивости.\n",
    "pushIt = [0, 0]\n",
    "nonStableInts = []\n",
    "for i in range(0,len(pValues)-1):\n",
    "    if((abs(specRadVector[i]-1) > 0.001) and (abs(specRadVector[i+1]-1) > 0.001) and pushIt[0] == 0):\n",
    "        if(i > 0):\n",
    "            pushIt[0] = round(pValues[i-1], 5)\n",
    "        else:\n",
    "            pushIt[0] = round(pValues[0], 5)\n",
    "    if((abs(specRadVector[i]-1) > 0.001) and (abs(specRadVector[i+1]-1) < 0.001) and pushIt[1] == 0):\n",
    "        pushIt[1] = round(pValues[i+1], 5)\n",
    "        nonStableInts.append(pushIt)\n",
    "        pushIt = [0, 0]\n",
    "print(\"Список интервалов неустойчивости:\\n{}\".format(nonStableInts))"
   ]
  },
  {
   "cell_type": "markdown",
   "metadata": {},
   "source": [
    "Из графика видно, что на отрезке $0 \\leq p \\leq 8$ есть интервалы, на которых $r(p) > 1$. При таких значениях $p$ по крайней мере часть решений системы не ограничена и система неустойчива. \n",
    "\n",
    "Первый интервал неустойчивости примерно (0,685; 1.05). За ним идёт отрезок, примерно $[1.05, 7.635]$, на котором $r(p) = 1$. При таких значениях все решения системы ограничены  и система устойчива. Далее снова интервал неустойчивости примерно (7.635, 7.67) и,наконец, при $p = p_0 \\geq 7.67$ (примерно) идёт зона устойчивости.\n",
    "\n",
    "\n",
    "\n",
    "\n",
    "Начиная с $p_0 = 7.67 ,\\;\\;\\;\\;\\; r(p)  \\leq 1$ c точностью $10^{-3}$. "
   ]
  },
  {
   "cell_type": "markdown",
   "metadata": {},
   "source": [
    "## Выводы\n",
    "\n",
    "В ходе работы изучена устойчивость однородного линейного уравнения с периодическими коэффициентами при $t\\rightarrow + \\infty$.  Проведено исследование устойчивости однородного линейного уравнения, которое показало, что с точностью $10^{-3}$ граница зоны устойчивости и неустойчивости равна $p_0 = 7.67$, а именно, начиная с $p = p_0 \\geq 7.67$ идёт зона устойчивости. Это означает, что при $p < 7.67$ система неустойчива, а при $p \\geq 7.67$ - устойчива (с точностью $10^{-3}$).\n"
   ]
  }
 ],
 "metadata": {
  "kernelspec": {
   "display_name": "Python 3 (ipykernel)",
   "language": "python",
   "name": "python3"
  },
  "language_info": {
   "codemirror_mode": {
    "name": "ipython",
    "version": 3
   },
   "file_extension": ".py",
   "mimetype": "text/x-python",
   "name": "python",
   "nbconvert_exporter": "python",
   "pygments_lexer": "ipython3",
   "version": "3.8.10"
  }
 },
 "nbformat": 4,
 "nbformat_minor": 4
}
