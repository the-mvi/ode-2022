{
 "cells": [
  {
   "cell_type": "markdown",
   "metadata": {},
   "source": [
    "# Практическая работа №2: Исследование однородного линейного уравнения с периодическими коэффициентами\n",
    "\n",
    "Выполнил студент гр. 9381 Худойбердыев Юсуф, вариант 16."
   ]
  },
  {
   "cell_type": "markdown",
   "metadata": {},
   "source": [
    "## Цель работы\n",
    "\n",
    "Изучение устойчивости однородного линейного уравнения с периодическими коэффициентами при $t \\longrightarrow +\\infty$."
   ]
  },
  {
   "cell_type": "markdown",
   "metadata": {},
   "source": [
    "## Основные теоретические положения\n",
    "\n",
    "### _Определение 1_\n",
    "\n",
    "Cистема линейных дифференциальных уравнений следующего вида:\n",
    "\n",
    "#### $$X' = A(t)X,$$\n",
    "где\n",
    "#### $$X' = \\left(\\begin{array}{c}\n",
    "      x_1' \\\\\n",
    "      \\dots \\\\\n",
    "      x_n'\n",
    "    \\end{array}\\right), \\;\\; X = \\left(\\begin{array}{c}\n",
    "      x_1 \\\\\n",
    "      \\dots \\\\\n",
    "      x_n\n",
    "    \\end{array}\\right), \\;\\; A(t) = \n",
    " \\begin{pmatrix}\n",
    "  a_{1,1}(t) & a_{1,2}(t) & \\cdots & a_{1,n}(t) \\\\\n",
    "  a_{2,1}(t) & a_{2,2}(t) & \\cdots & a_{2,n}(t) \\\\\n",
    "  \\vdots  & \\vdots  & \\ddots & \\vdots  \\\\\n",
    "  a_{n,1}(t) & a_{n,2}(t) & \\cdots & a_{n,n}(t) \n",
    " \\end{pmatrix} \\; такая, что: \\; a_{i,j}(t + T) = a_{i,j}(t) \\; \\forall t \\ge 0$$\n",
    "\n",
    "называется системой однородных линейных дифференциальных уравнений с периодическими коэффициентами.\n",
    "\n",
    "Здесь $T > 0$ - период коэффициентов системы $a_{i,j}$\n",
    "\n",
    "### _Определение 2_\n",
    "\n",
    "Фундаментальной матрицей системы из _определения 1_ называется такая матрица $\\Phi(t)$, что ее стобцы являются линейно независимой комбинацией решений системы $X' = A(t)X$.\n",
    "\n",
    "### _Определение 3_\n",
    "\n",
    "Основной матрицей для фундаментальной матрицы $\\Phi(t)$ из _определения 2_ называется такая матрица $C$, что\n",
    "\n",
    "#### $$\\Phi(t + T) = \\Phi(t)C, \\; \\forall t \\ge 0$$.\n",
    "\n",
    "### _Определение 4_\n",
    "\n",
    "Спектральным радиусом матрицы $C$ из _определения 3_ называется число:\n",
    "\n",
    "#### $$r(C) = \\max\\limits_{i}|\\lambda_i|,$$\n",
    "\n",
    "где $\\lambda_i$ - собственные числа матрицы $C$."
   ]
  },
  {
   "cell_type": "markdown",
   "metadata": {},
   "source": [
    "## Постановка задачи\n",
    "\n",
    "Дано дифференциальное уравнение:\n",
    "\n",
    "$$ x'' + a(p,t)x = 0, \\;\\; a(p,t) = p + b(t), \\;\\; b(t + T) = b(t), $$\n",
    "\n",
    "где $p$ - параметр.\n",
    "\n",
    "Данное уравнение сводится к системе двух уравнений I-го порядка:\n",
    "\n",
    "$$\n",
    "\\begin{cases}\n",
    "    u'_1 = u_2, \\\\\n",
    "    u'_2 = -a(p,t)u_1;\n",
    "\\end{cases}\n",
    "\\;\\;\\;\\;\\;\\;\\;\\;\\;\\;\\;\\;\\;\\;\\;\\;\\;\\;\\; (1)\n",
    "$$\n",
    "\n",
    "Здесь $u_1(t) = x(t), \\; u_2(t) = x'(t)$.\n",
    "\n",
    "Необходимо провести исследование устойчивости однородного линейного уравнения. Дальнейшие рассуждения применимы к любой линейной периодической системе, а не только к системе вида $(1)$."
   ]
  },
  {
   "cell_type": "markdown",
   "metadata": {},
   "source": [
    "## Схема решения\n",
    "\n",
    "_1. Задаем массив значений параметра $p$. Например, $p$ меняется от $0.1$ до $5$ с шагом $0.05$. Для каждого значения $p$ проделаем следующие действия ( в теле цикла)._\n",
    "\n",
    "_2. Вычисляем значение фундаментальной матрицы системы $(1)$ при $t = T$ с помощью любой программы численного решения задачи\n",
    "Коши.\n",
    "Для этого решаем две задачи Коши с начальными векторами $V_1 = (1, 0)^T$ и $V_2 = (0, 1)^T$ на отрезке $[0, T]$. Пусть вектор-функции $U(t, V_1), \\; U(t, V_2)$ – решения этих задач. Они являются столбцами фундаментальной матрицы $\\Phi(t)$, удовлетворяющей условию $\\Phi(0) = E$. Основную матрицу $C$ для $\\Phi(t)$ получаем из формулы $C = \\Phi(T)$.\n",
    "Столбцы матрицы $C$ это векторы $U(T, V_1), U(T, V_2)$;_\n",
    "\n",
    "_3. Вычисляем собственные числа матрицы 𝐶 и ее спектральный радиус, т.е.\n",
    "$$ r(p) = \\max\\limits_{j = 1,2}|\\lambda_j|.$$\n",
    "В результате имеем массив значений $r(p)$;_\n",
    "\n",
    "_4. Вывод об устойчивости или неустойчивости делается в зависимости от значения $r(p)$._\n",
    "\n",
    "_Рекомендуется построить график этой зависимости, из которого с достаточной точностью можно определить точку 𝑝0, которая разделяет зоны устойчивости и неустойчивости, в которых $r \\le 1$ и $r \\gt 1$. Более точно\n",
    "вычисляется методом половинного деления._\n",
    "\n",
    "_Матрицу $C$ можно найти только приближенно, решая численно две задачи Коши._"
   ]
  },
  {
   "cell_type": "markdown",
   "metadata": {},
   "source": [
    "# Выполнение работы\n",
    "\n",
    "1. Подготовка к работе:\n",
    "\n",
    "*$\\displaystyle{b(t) = \\frac{1}{2 + sin\\;2t}}$*\n",
    "\n",
    "*Дана периодическая функция: $a(p,t) = p + b(t) = p + \\frac{1}{2 + sin\\;2t}$*\n",
    "\n",
    "*Дано дифференциальное уравнение: $x'' + (p + \\frac{1}{2 + sin\\;2t})x = 0$*\n",
    "\n",
    "*Уравнение второго порядка представим в виде системы уравнений первого порядка:*\n",
    "\n",
    "$\\begin{cases}\n",
    "    u_1' = u_2 \\\\\n",
    "    u_2' = -(p + \\frac{1}{2 + sin\\;2t})u_1 \\\\\n",
    "\\end{cases}$"
   ]
  },
  {
   "cell_type": "markdown",
   "metadata": {},
   "source": [
    "2. Подключение необходимых библиотек:"
   ]
  },
  {
   "cell_type": "code",
   "execution_count": 35,
   "metadata": {},
   "outputs": [],
   "source": [
    "import pylab as pl\n",
    "import scipy.integrate as si\n",
    "import numpy as np\n",
    "import matplotlib.pyplot as plt\n",
    "import math"
   ]
  },
  {
   "cell_type": "markdown",
   "metadata": {},
   "source": [
    "3. Определение функции - правой части дифференциального уравнения второго порядка:"
   ]
  },
  {
   "cell_type": "code",
   "execution_count": 36,
   "metadata": {},
   "outputs": [],
   "source": [
    "def a(t):\n",
    "    return p + 1/(2 + math.sin(2*t))\n",
    "\n",
    "def f(u, t):\n",
    "    x = u[0]\n",
    "    return [u[1], -a(t)*x]"
   ]
  },
  {
   "cell_type": "markdown",
   "metadata": {},
   "source": [
    "4. Объявление и определение исходных данных:"
   ]
  },
  {
   "cell_type": "code",
   "execution_count": 37,
   "metadata": {},
   "outputs": [],
   "source": [
    "T = math.pi # Период\n",
    "v_1 = [1, 0] # Начальные\n",
    "v_2 = [0, 1] # вектора\n",
    "t = pl.linspace(0, T, 10000) # Генерация дискретного промежутка x[0, T]\n",
    "P, R = [], [] # Массивы значений параметра p и спкектрального радиуса r(p) для соответствующего p"
   ]
  },
  {
   "cell_type": "markdown",
   "metadata": {},
   "source": [
    "5. Основной цикл заполнения массива с решением задач Коши, составлением матрицы $C$ из векторов решения и поиском их собственных чисел и спектрального радиуса:"
   ]
  },
  {
   "cell_type": "code",
   "execution_count": 38,
   "metadata": {},
   "outputs": [],
   "source": [
    "for p in np.arange(0.1, 5.05, 0.05):\n",
    "    P.append(p)\n",
    "    U_1 = si.odeint(f, v_1, t)\n",
    "    U_2 = si.odeint(f, v_2, t)\n",
    "    C = np.transpose(np.array([U_1[-1], U_2[-1]]))\n",
    "    R.append(max(abs(np.linalg.eig(C)[0])))"
   ]
  },
  {
   "cell_type": "markdown",
   "metadata": {},
   "source": [
    "6. Построение графика спектрального радиуса $r(p)$:"
   ]
  },
  {
   "cell_type": "code",
   "execution_count": 33,
   "metadata": {},
   "outputs": [
    {
     "data": {
      "image/png": "[encoded data removed]",
      "text/plain": [
       "<Figure size 432x288 with 1 Axes>"
      ]
     },
     "metadata": {
      "needs_background": "light"
     },
     "output_type": "display_data"
    }
   ],
   "source": [
    "plt.plot(P, R)\n",
    "plt.grid(True)\n",
    "plt.show()"
   ]
  },
  {
   "cell_type": "markdown",
   "metadata": {},
   "source": [
    "7. Из полученного графика можем определить точку $p_0$, разделяющую зоны устойчивости и неустойчивости с точностью $\\varepsilon=10^{-3}$. Воспользуемся для этого методом половинного деления.\n",
    "\n",
    "$|r(p_0)-1|<\\varepsilon$"
   ]
  },
  {
   "cell_type": "code",
   "execution_count": 34,
   "metadata": {},
   "outputs": [
    {
     "name": "stdout",
     "output_type": "stream",
     "text": [
      "p0 = 3.5000000000000013, r(p0) = 1.0000000274923717\n"
     ]
    },
    {
     "data": {
      "image/png": "[encoded data removed]",
      "text/plain": [
       "<Figure size 1440x720 with 1 Axes>"
      ]
     },
     "metadata": {
      "needs_background": "light"
     },
     "output_type": "display_data"
    }
   ],
   "source": [
    "p_0 = -1\n",
    "r_p0 = -1\n",
    "\n",
    "for i in range(1, len(R)):\n",
    "    if abs(R[-i] - 1) > 0.001:\n",
    "        p_0 = P[-i + 1]\n",
    "        r_p0 = R[-i + 1]\n",
    "        break\n",
    "\n",
    "print(\"p0 = {}, r(p0) = {}\".format(p_0, r_p0))\n",
    "\n",
    "plt.figure(figsize=(20, 10))\n",
    "plt.plot(P, R, color=\"red\", label=\"r(p)\")\n",
    "plt.grid(True)\n",
    "plt.plot([p_0, p_0], [1, 2], color=\"green\", label=\"p0\")\n",
    "plt.legend()\n",
    "plt.show()"
   ]
  },
  {
   "cell_type": "markdown",
   "metadata": {},
   "source": [
    "## Анализ результатов\n",
    "_Граница между зонами устойчивости и неустойчивости найдена и равна $p_0 \\approx 3,5$. При значениях $p < 3,5$ наблюдаются области со значением $r(p) > 1$. При таких значениях $p$ по крайней мере часть решений системы не ограничена и система не устойчива. При значениях $p >= 3,5$ не наблюдаются области со значением $r(p) > 1$. При таких значениях все решения системы ограничены и система устойчива._"
   ]
  },
  {
   "cell_type": "markdown",
   "metadata": {},
   "source": [
    "## Выводы\n",
    "\n",
    "**В ходе выполнения практической работы была изучена устойчивость однородного линейного уравнения с периодическими коэффициентами при $t \\longrightarrow +\\infty$;** _Найдена граница зоны устойчивости и неустойчивости $p_0 = 3,5$ При $p < 3,5$ система является неустойчивой. При $p >= 3,5$ система является устойчивой._"
   ]
  },
  {
   "cell_type": "code",
   "execution_count": null,
   "metadata": {},
   "outputs": [],
   "source": []
  }
 ],
 "metadata": {
  "kernelspec": {
   "display_name": "Python 3",
   "language": "python",
   "name": "python3"
  },
  "language_info": {
   "codemirror_mode": {
    "name": "ipython",
    "version": 3
   },
   "file_extension": ".py",
   "mimetype": "text/x-python",
   "name": "python",
   "nbconvert_exporter": "python",
   "pygments_lexer": "ipython3",
   "version": "3.8.5"
  }
 },
 "nbformat": 4,
 "nbformat_minor": 4
}
