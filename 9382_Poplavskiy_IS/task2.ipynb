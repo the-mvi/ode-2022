{
 "cells": [
  {
   "cell_type": "markdown",
   "id": "7840f420",
   "metadata": {},
   "source": [
    "### Практическая работа №2: Исследование однородного линейного уравнения с периодическими коэффициентами"
   ]
  },
  {
   "cell_type": "markdown",
   "id": "7d62fc59",
   "metadata": {},
   "source": [
    "Выполнил студент гр. 9382 Поплавский Иван, вариант 29"
   ]
  },
  {
   "cell_type": "markdown",
   "id": "218961c9",
   "metadata": {},
   "source": [
    "### Цель работы\n",
    "\n",
    "Изучение устойчивости однородного линейного уравнения с периодическими коэффициентами при $t -> + \\infty$. "
   ]
  },
  {
   "cell_type": "markdown",
   "id": "8cb75017",
   "metadata": {},
   "source": [
    "### Основные теоретические положения\n",
    "\n",
    "Линейная однородная система с периодическими коэффициентами - это система ОЛДУ следующего вида:\n",
    "\n",
    "$$X' = A(t)X,\\ A(t + T) = A(t), t \\ge 0$$ \n",
    "\n",
    "Матрица $\\Phi(t) = \\{\\phi_{ij}, i, j = 1, 2, ..., n \\}$ называется фундаментальной матрицей системы , если все её столбцы являются линейно независимыми решениями этой системы.\n",
    "\n",
    "Матрица $C$, удовлетворяющая условию $\\Phi(t + T) = \\Phi(t)C, \\forall t \\ge 0$, называется основной для фундаментальной матрицы $\\Phi(t)$.\n",
    "\n",
    "Спектральным радиусом матрицы $A$ называется максимум модуля её собственных чисел: $\\rho(A) = max|\\lambda_j|, 0 \\le j \\le n$"
   ]
  },
  {
   "cell_type": "markdown",
   "id": "b94d49da",
   "metadata": {},
   "source": [
    "### Постановка задачи\n",
    "\n",
    "Дано дифференциальное уравнение:\n",
    "\n",
    "$$ x'' + a(p,t)x = 0, \\;\\; a(p,t) = p + b(t), \\;\\; b(t + T) = b(t), $$\n",
    "\n",
    "где $p$ - параметр.\n",
    "\n",
    "Данное уравнение сводится к системе двух уравнений I-го порядка:\n",
    "\n",
    "$$\n",
    "\\begin{cases}\n",
    "    u'_1 = u_2, \\\\\n",
    "    u'_2 = -a(p,t)u_1;\n",
    "\\end{cases}\n",
    "\\;\\;\\;\\;\\;\\;\\;\\;\\;\\;\\;\\;\\;\\;\\;\\;\\;\\;\\; (1)\n",
    "$$\n",
    "\n",
    "Здесь $u_1(t) = x(t), \\; u_2(t) = x'(t)$.\n",
    "\n",
    "Необходимо провести исследование устойчивости однородного линейного уравнения. Дальнейшие рассуждения применимы к любой линейной периодической системе, а не только к системе вида $(1)$."
   ]
  },
  {
   "cell_type": "markdown",
   "id": "4f74936d",
   "metadata": {},
   "source": [
    "### Выполнение работы \n",
    "\n",
    "$$Вариант 29: 1/(2 + sin 2t)$$"
   ]
  },
  {
   "cell_type": "markdown",
   "id": "18008a0f",
   "metadata": {},
   "source": [
    "При решении алгоритм проходит массив значений параметра p из промежутка [0, 10] с шагом 0.001 по всем значениям. Для каждого параметра p будет найден спектральный радиус основной матрицы, как наибольшее по модулю собственное число основной матрицы."
   ]
  },
  {
   "cell_type": "code",
   "execution_count": 79,
   "id": "cfeb2e34",
   "metadata": {},
   "outputs": [],
   "source": [
    "import matplotlib.pyplot as plt\n",
    "import numpy as np\n",
    "from scipy.integrate import solve_ivp\n",
    "%matplotlib inline\n",
    "\n",
    "def func(p, t):\n",
    "    return p + 1/(2 + np.sin(2 * t))\n",
    "\n",
    "p_val = np.arange(0, 10, 0.001)\n",
    "\n",
    "interval = (0, pi)\n",
    "v_1 = (1, 0)\n",
    "v_2 = (0, 1)\n",
    "sr = []\n",
    "\n",
    "for p in p_val:\n",
    "    # Cначала находится фундаментальная матрица, потом находится основная матриц и ее спектральный радиус\n",
    "    de_system_func = lambda t, val: [val[1], -func(p, t) * val[0]]\n",
    "    # Столбцы фундаментальной матрицы\n",
    "    u1 = solve_ivp(de_system_func, interval, v_1)\n",
    "    u2 = solve_ivp(de_system_func, interval, v_2)\n",
    "    # Основная матрица\n",
    "    c = array([[u1.y[0][-1], u2.y[0][-1]],\n",
    "               [u1.y[1][-1], u2.y[1][-1]]])\n",
    "    # Спектральный радиус\n",
    "    sr.append(max(abs(np.linalg.eigvals(c))))\n",
    "\n",
    "# Определение точки p0\n",
    "for i in range(1, len(sr)):\n",
    "    if sr_values[-i] > 1:\n",
    "        p0 = p_values[-i + 1]\n",
    "        break"
   ]
  },
  {
   "cell_type": "code",
   "execution_count": 80,
   "id": "04169faa",
   "metadata": {},
   "outputs": [
    {
     "data": {
      "text/plain": [
       "[<matplotlib.lines.Line2D at 0x7f8a7647d220>]"
      ]
     },
     "execution_count": 80,
     "metadata": {},
     "output_type": "execute_result"
    },
    {
     "data": {
      "image/png": "[encoded data removed]",
      "text/plain": [
       "<Figure size 432x288 with 1 Axes>"
      ]
     },
     "metadata": {
      "needs_background": "light"
     },
     "output_type": "display_data"
    }
   ],
   "source": [
    "plt.xlabel(\"p\")\n",
    "plt.ylabel(\"sr\")\n",
    "plt.plot([p0, p0], [1, 2])\n",
    "plt.plot(p_values, sr)"
   ]
  },
  {
   "cell_type": "code",
   "execution_count": 81,
   "id": "e8678119",
   "metadata": {},
   "outputs": [
    {
     "name": "stdout",
     "output_type": "stream",
     "text": [
      "p0=8.43\n"
     ]
    }
   ],
   "source": [
    "print(f\"{p0=}\")"
   ]
  },
  {
   "cell_type": "code",
   "execution_count": 82,
   "id": "d92d859a",
   "metadata": {},
   "outputs": [
    {
     "data": {
      "text/plain": [
       "[<matplotlib.lines.Line2D at 0x7f8a764420d0>]"
      ]
     },
     "execution_count": 82,
     "metadata": {},
     "output_type": "execute_result"
    },
    {
     "data": {
      "image/png": "[encoded data removed]",
      "text/plain": [
       "<Figure size 432x288 with 1 Axes>"
      ]
     },
     "metadata": {
      "needs_background": "light"
     },
     "output_type": "display_data"
    }
   ],
   "source": [
    "plt.xlabel(\"p\")\n",
    "plt.ylabel(\"sr\")\n",
    "plt.xlim(8.3, 8.5)\n",
    "plt.ylim(0.999, 1.008)\n",
    "plt.plot([p0, p0], [1, 2])\n",
    "plt.plot(p_values, sr)"
   ]
  },
  {
   "cell_type": "markdown",
   "id": "7aeae09c",
   "metadata": {},
   "source": [
    "В ходе работы ОЛДУ с периодическими коэффициентами исследовано на устойчивость. Найдена граница между зонами устойчивости и неустойчивости p0 = 8.43, при большем значии система является устойчивой, при меньшим система является неустойчивой"
   ]
  }
 ],
 "metadata": {
  "kernelspec": {
   "display_name": "Python 3 (ipykernel)",
   "language": "python",
   "name": "python3"
  },
  "language_info": {
   "codemirror_mode": {
    "name": "ipython",
    "version": 3
   },
   "file_extension": ".py",
   "mimetype": "text/x-python",
   "name": "python",
   "nbconvert_exporter": "python",
   "pygments_lexer": "ipython3",
   "version": "3.9.7"
  }
 },
 "nbformat": 4,
 "nbformat_minor": 5
}
