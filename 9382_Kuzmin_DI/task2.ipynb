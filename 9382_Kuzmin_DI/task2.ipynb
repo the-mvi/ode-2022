{
 "cells": [
  {
   "cell_type": "markdown",
   "metadata": {},
   "source": [
    "# Практическая работа №2: Исследование однородного линейного уравнения с периодическими коэффициентами\n",
    "\n",
    "Выполнил студент гр. 9382 Кузьмин Дмитрий, вариант 27."
   ]
  },
  {
   "cell_type": "markdown",
   "metadata": {},
   "source": [
    "## Цель работы\n",
    "\n",
    "Исследование однородного линейного уравнения с периодическими коэффициентами."
   ]
  },
  {
   "cell_type": "markdown",
   "metadata": {},
   "source": [
    "## Основные теоретические положения\n",
    "Линейная однородная система с периодическими коэффициентами имеет вид\n",
    "\n",
    "$X' = A(t)X, A(t + T) = A(t), t \\geq 0$       (1)\n",
    "\n",
    "$\\Phi(t)$ - фундаментальная матрица системы (1), если ее столбцы - линейно независимые решения уравнения (1)\n",
    "\n",
    "Матрица $C$ называется основной для фундаментальной матрицы $\\Phi$, если $\\Phi(t + T) = \\Phi(t)C, \\forall t \\geq 0$\n",
    "\n",
    "Спектральным радиусом матрицы A называется максимум модуля ее собственных чисел\n",
    "\n",
    "$p(A) = max_{0 \\leq j \\leq n}|\\lambda_j|$\n"
   ]
  },
  {
   "cell_type": "markdown",
   "metadata": {},
   "source": [
    "## Постановка задачи\n",
    "Дано дифференциальное уравнение:\n",
    "\n",
    "$x^{''} + a(p,t)x = 0$, $a(p,t) = p + b(t)$, $b(t + T) = b(t)$\n",
    "\n",
    "где $p$ - параметр\n",
    "\n",
    "Данное уравнение сводится к системе двух уравнений 1-го порядка (1):\n",
    "\n",
    "$\\begin{cases}\n",
    "      u'_1 = u_2 \\\\\n",
    "      u'_2 = -a(p, t)u_1\n",
    "    \\end{cases}$\n",
    "\n",
    "Здесь $u_1(t) = x(t)$, $u_2(t) = x'(t)$\n",
    "\n",
    "$b(t) = exp(cos(t))$\n",
    "\n",
    "Необходимо провести исследование устойчивости однородного линейного уравнения. Дальнейшие рассуждения применимы к любой линейной\n",
    "периодической системе, а не только к системе вида (1).\n"
   ]
  },
  {
   "cell_type": "markdown",
   "metadata": {},
   "source": [
    "## Выполнение работы"
   ]
  },
  {
   "cell_type": "code",
   "execution_count": 1,
   "metadata": {},
   "outputs": [],
   "source": [
    "from scipy.integrate import odeint\n",
    "import numpy as np\n",
    "import matplotlib.pyplot as plt\n",
    "%matplotlib inline"
   ]
  },
  {
   "cell_type": "markdown",
   "metadata": {},
   "source": [
    "Зафиксируем константы"
   ]
  },
  {
   "cell_type": "code",
   "execution_count": 2,
   "metadata": {},
   "outputs": [],
   "source": [
    "p_array = np.arange(0.1, 5, 0.05)\n",
    "v1 = (1, 0)\n",
    "v2 = (0, 1)\n",
    "T = 2\n",
    "interval = [0, T]"
   ]
  },
  {
   "cell_type": "markdown",
   "metadata": {},
   "source": [
    "Реализуем функцию $r(p)$\n",
    "\n",
    "1. Внутри определим в зависимости от $p$ функцию, относительно которой решается задача К оши\n",
    "2. Численно решим две задачи Коши для наборов условий $V_1 = (1, 0)^T$ и $V_2 = (0, 1)^T$\n",
    "3. На основе полученных решений сформируем основную матрицу\n",
    "4. Вычислим собственные числа и найдем спектральный радиус, как максимум из модулей этих чисел\n",
    "5. Полученный спектральный радиус будет значение $r(p)$"
   ]
  },
  {
   "cell_type": "code",
   "execution_count": 7,
   "metadata": {},
   "outputs": [],
   "source": [
    "def r_fun(p):\n",
    "    \n",
    "    # система\n",
    "    def dudt(U, t):\n",
    "        return [U[1], -(p + np.exp(np.cos(t))) * U[0]]\n",
    "    \n",
    "    # U(t, V1) и U(t, V2)\n",
    "    uv1 = odeint(dudt, v1, interval)\n",
    "    uv2 = odeint(dudt, v2, interval)\n",
    "    \n",
    "    # основная матрица\n",
    "    C = np.matrix([uv1[-1], uv2[-1]]).transpose()\n",
    "    \n",
    "    # собственные числа\n",
    "    eigen_values = np.linalg.eigvals(C)\n",
    "    \n",
    "    # спектральный радиус\n",
    "    r = max(np.abs(eigen_values))\n",
    "    return r "
   ]
  },
  {
   "cell_type": "markdown",
   "metadata": {},
   "source": [
    "Заполним массив для всех значений $p$ и постром график"
   ]
  },
  {
   "cell_type": "code",
   "execution_count": 8,
   "metadata": {},
   "outputs": [
    {
     "data": {
      "text/plain": [
       "[<matplotlib.lines.Line2D at 0x1dd344fb580>]"
      ]
     },
     "execution_count": 8,
     "metadata": {},
     "output_type": "execute_result"
    },
    {
     "data": {
      "image/png": "[encoded data removed]",
      "text/plain": [
       "<Figure size 432x288 with 1 Axes>"
      ]
     },
     "metadata": {
      "needs_background": "light"
     },
     "output_type": "display_data"
    }
   ],
   "source": [
    "r_array = np.array([r_fun(p) for p in p_array])\n",
    "plt.plot(p_array, r_array)"
   ]
  },
  {
   "cell_type": "markdown",
   "metadata": {},
   "source": [
    "Получен график зависимости $r(p)$ \n",
    "\n",
    "Система неустойчива там, где $r > 1$ и устойчива там, где $r \\leq 1$"
   ]
  },
  {
   "cell_type": "markdown",
   "metadata": {},
   "source": [
    "## Выводы\n",
    "В результате выполнения работы были изучены однородные линейные уравнения с периодическими коэффициентами, а также понятие устойчивости. Был построен график, по которому можно определить устойчивость системы"
   ]
  }
 ],
 "metadata": {
  "interpreter": {
   "hash": "593c53afe45a219a708c145d5689f1621a4661ecd141b49b6030e5d15b83e09f"
  },
  "kernelspec": {
   "display_name": "Python 3.9.2 64-bit",
   "language": "python",
   "name": "python3"
  },
  "language_info": {
   "codemirror_mode": {
    "name": "ipython",
    "version": 3
   },
   "file_extension": ".py",
   "mimetype": "text/x-python",
   "name": "python",
   "nbconvert_exporter": "python",
   "pygments_lexer": "ipython3",
   "version": "3.9.2"
  },
  "orig_nbformat": 4
 },
 "nbformat": 4,
 "nbformat_minor": 2
}
