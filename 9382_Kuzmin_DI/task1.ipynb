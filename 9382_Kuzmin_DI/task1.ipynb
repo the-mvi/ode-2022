{
 "cells": [
  {
   "cell_type": "markdown",
   "metadata": {},
   "source": [
    "# Практическая работа №1: Краевая задача для уравнения II-го порядка\n",
    "\n",
    "Выполнил студент гр. 9382 Кузьмин Дмитрий, вариант 27."
   ]
  },
  {
   "cell_type": "markdown",
   "metadata": {},
   "source": [
    "## Цель работы\n",
    "\n",
    "Научиться применять дифференциальные уравнения в различных областях, решать краевую задачу для уравнения II-го порядка путем многократного решения задачи Коши."
   ]
  },
  {
   "cell_type": "markdown",
   "metadata": {},
   "source": [
    "## Основные теоретические положения\n",
    "\n",
    "#### Задача Коши 2-го порядка\n",
    "Дано: уравнение $y'' = f(x, y, y')$ и три числа $(x_0; y_0; y_1)$.\n",
    "\n",
    "Требуется найти решение $y(x)$, определенное в окрестности точки $x_0$ и удовлетворяющее условию \n",
    "\n",
    "$\\begin{cases}\n",
    "      y(x_0) = y_0 \\\\\n",
    "      y'(x_0) = y_1\n",
    "    \\end{cases}$\n",
    "\n",
    "#### Краевая задача\n",
    "Дано: уравнение $y'' = f(x, y, y')$, $a < x < b$ и два числа $(y_a; y_b)$\n",
    "\n",
    "Требуется: найти решение уравнения выше, удовлетворяющее условиям\n",
    "\n",
    "$\\begin{cases}\n",
    "      y(a) = y_a \\\\\n",
    "      y(b) = y_b\n",
    "    \\end{cases}$"
   ]
  },
  {
   "cell_type": "markdown",
   "metadata": {},
   "source": [
    "## Постановка задачи\n",
    "\n",
    "Дано дифференциальное уравнение:\n",
    "\n",
    "$y'' = f(x, y)$, $a < x < b$ (1)\n",
    "\n",
    "и граничные условия\n",
    "\n",
    "$y(a) = y_a$, $y(b) = y_b$\n",
    "\n",
    "Требуется найти решение задачи (1)-(2) и построить его график.\n",
    "Рассмотрим задачу Коши для уравнения (1) с начальными условиями\n",
    "\n",
    "$y(a) = y_a$, $y'(a) = h$\n",
    "\n",
    "План решения основан на многократном решении задачи Коши (1), (3).\n",
    "\n",
    "Значение решения задачи Коши при $x = b$ является функцией от $h$.\n",
    "Задача сводится к отысканию такого значения переменной $h$, при котором выполнено условие на правом конце отрезка, т.е. должно выполняться\n",
    "$y(b, h) = y_b$ (4)"
   ]
  },
  {
   "cell_type": "markdown",
   "metadata": {},
   "source": [
    "### $y'' = 2^{-x}(x + y)$\n",
    "### $y_a = 2$\n",
    "### $y_b = -1$"
   ]
  },
  {
   "cell_type": "markdown",
   "metadata": {},
   "source": [
    "## Выполнение работы"
   ]
  },
  {
   "cell_type": "markdown",
   "metadata": {},
   "source": [
    "### Решение задачи Коши для $h$"
   ]
  },
  {
   "cell_type": "code",
   "execution_count": 1,
   "metadata": {},
   "outputs": [],
   "source": [
    "import numpy as np\n",
    "import matplotlib.pyplot as plt\n",
    "from scipy.integrate import odeint\n",
    "%matplotlib inline"
   ]
  },
  {
   "cell_type": "code",
   "execution_count": 17,
   "metadata": {},
   "outputs": [],
   "source": [
    "a, b, ya, yb, acc, step, max_step  = 0, 2, 2, -1, 0.001, 0.1, 100\n",
    "\n",
    "def d2y(U, x):\n",
    "    return [U[1], np.power(2, -x)*(x + U[0])]\n",
    "\n",
    "def y_bh(h):\n",
    "    conditions = [ya, h]\n",
    "    xs = [a, b]\n",
    "    ys = odeint(d2y, conditions, xs)[:, 0]\n",
    "    return ys[-1]\n",
    "\n",
    "def y_h_plot(h):\n",
    "    conditions = [ya, h]\n",
    "    xs = np.linspace(a, b, 100)\n",
    "    ys = odeint(d2y, conditions, xs)[:, 0]\n",
    "    plt.xlabel(\"x\")\n",
    "    plt.ylabel(\"y\")\n",
    "    plt.plot(xs,ys);\n"
   ]
  },
  {
   "cell_type": "code",
   "execution_count": 24,
   "metadata": {},
   "outputs": [
    {
     "name": "stdout",
     "output_type": "stream",
     "text": [
      "y(b, h0): 5.939430619694235\n",
      "y(b, h1): 6.217030760522305\n"
     ]
    },
    {
     "data": {
      "text/plain": [
       "-1"
      ]
     },
     "execution_count": 24,
     "metadata": {},
     "output_type": "execute_result"
    }
   ],
   "source": [
    "h0 = 0\n",
    "print(f'y(b, h0): {y_bh(h0)}')\n",
    "h1 = h0 + step\n",
    "print(f'y(b, h1): {y_bh(h1)}')\n",
    "direction = 1 if y_bh(h1) < y_bh(h0) else -1\n",
    "direction\n"
   ]
  },
  {
   "cell_type": "markdown",
   "metadata": {},
   "source": [
    "### Знак шага - отрицательный. Продолжим вычисления $h_m = h_{m-1} - \\Delta h$"
   ]
  },
  {
   "cell_type": "code",
   "execution_count": 19,
   "metadata": {},
   "outputs": [
    {
     "name": "stdout",
     "output_type": "stream",
     "text": [
      "-1.0005730322135045 -2.500000000000001 -2.400000000000001\n"
     ]
    }
   ],
   "source": [
    "h_prev = 0\n",
    "h = h_prev + step\n",
    "\n",
    "while y_bh(h) > yb:\n",
    "    h_prev, h = h, h + direction * step \n",
    "    \n",
    "print(y_bh(h), h, h_prev)"
   ]
  },
  {
   "cell_type": "markdown",
   "metadata": {},
   "source": [
    "#### Была найдена граница для $h: (-2.5, -2.4)$"
   ]
  },
  {
   "cell_type": "markdown",
   "metadata": {},
   "source": [
    "### Выполнение процесса половинного деления, пока не выполнится неравенство $|y(b, h_m) - y(b, h_{m-1})| < 0.001$"
   ]
  },
  {
   "cell_type": "code",
   "execution_count": 20,
   "metadata": {},
   "outputs": [
    {
     "name": "stdout",
     "output_type": "stream",
     "text": [
      "-2.499804687500001 -1.0000308444290087\n",
      "9\n"
     ]
    }
   ],
   "source": [
    "m, left, right = 0, h, h_prev\n",
    "\n",
    "while abs(y_bh(left) - y_bh(right)) > acc and m < max_step:\n",
    "    m += 1\n",
    "    mid = (left + right) / 2.0\n",
    "    if y_bh(left) * (y_bh(mid) - yb) > 0:\n",
    "        left = mid\n",
    "    else:\n",
    "        right = mid\n",
    "    \n",
    "print(mid, y_bh(mid))\n",
    "print(m)    \n"
   ]
  },
  {
   "cell_type": "markdown",
   "metadata": {},
   "source": [
    "#### Получено значение для $h: -2.4998$ за 9 шагов. "
   ]
  },
  {
   "cell_type": "markdown",
   "metadata": {},
   "source": [
    "### График решения "
   ]
  },
  {
   "cell_type": "code",
   "execution_count": 21,
   "metadata": {},
   "outputs": [
    {
     "data": {
      "image/png": "[encoded data removed]",
      "text/plain": [
       "<Figure size 432x288 with 1 Axes>"
      ]
     },
     "metadata": {
      "needs_background": "light"
     },
     "output_type": "display_data"
    }
   ],
   "source": [
    "y_h_plot(mid)"
   ]
  },
  {
   "cell_type": "markdown",
   "metadata": {},
   "source": [
    "## Выводы\n",
    "\n",
    "В результате выполнения работы были изучены принципы решения краевой задачи для уравнения II-го порядка при помощи задачи Коши"
   ]
  }
 ],
 "metadata": {
  "kernelspec": {
   "display_name": "Python 3",
   "language": "python",
   "name": "python3"
  },
  "language_info": {
   "codemirror_mode": {
    "name": "ipython",
    "version": 3
   },
   "file_extension": ".py",
   "mimetype": "text/x-python",
   "name": "python",
   "nbconvert_exporter": "python",
   "pygments_lexer": "ipython3",
   "version": "3.9.2"
  }
 },
 "nbformat": 4,
 "nbformat_minor": 4
}
