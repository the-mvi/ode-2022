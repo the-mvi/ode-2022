{
 "cells": [
  {
   "cell_type": "markdown",
   "id": "273ba353",
   "metadata": {},
   "source": [
    "# Практическая работа №2. Исследование однородного линейного уравнения с периодическими коэффициентами.\n",
    "\n",
    "Кодуков А.В. 9382 в.25\n",
    "\n",
    "## Цель работы\n",
    "\n",
    "Изучение устойчивости однородного линейного уравнения с периодиче-\n",
    "скими коэффициентами при 𝑡 → +∞.\n",
    "\n",
    "Постановка задачи\n",
    "Дано дифференциальное уравнение:\n",
    "\n",
    "𝑥′′ + 𝑎(𝑝, 𝑡)𝑥 = 0, 𝑎(𝑝, 𝑡) = 𝑝 + 𝑏(𝑡), 𝑏(𝑡 + 𝑇) = 𝑏(𝑡),\n",
    "\n",
    "где 𝑝 – параметр.\n",
    "\n",
    "Данное уравнение сводится к системе двух уравнений I-го порядка:\n",
    "\n",
    "\\begin{cases} 𝑢_1' = 𝑢_2,\\\\ 𝑢_2' = −𝑎(𝑝, 𝑡)𝑢_1; \\end{cases}\n",
    "\n",
    "\n",
    "Здесь \n",
    "$𝑢_1(𝑡) = 𝑥(𝑡), 𝑢_2(𝑡) = 𝑥′(𝑡).$\n",
    "\n",
    "Необходимо провести исследование устойчивости однородного линейного уравнения. Дальнейшие рассуждения применимы к любой линейной\n",
    "периодической системе, а не только к системе вида (1)."
   ]
  },
  {
   "cell_type": "markdown",
   "id": "87ecaa12",
   "metadata": {},
   "source": [
    "### Функция\n",
    "$f(x) = ln(2-sin(2t))$\n",
    "\n",
    "$T = \\pi$"
   ]
  },
  {
   "cell_type": "code",
   "execution_count": 47,
   "id": "0462d523",
   "metadata": {},
   "outputs": [
    {
     "data": {
      "image/png": "[encoded data removed]",
      "text/plain": [
       "<Figure size 432x288 with 1 Axes>"
      ]
     },
     "metadata": {
      "needs_background": "light"
     },
     "output_type": "display_data"
    }
   ],
   "source": [
    "from scipy import integrate \n",
    "import numpy as np\n",
    "import matplotlib.pyplot as plt\n",
    "\n",
    "def b(t):\n",
    "    return np.log(2 - math.sin(2*t))\n",
    "\n",
    "def a(p, t):\n",
    "    return p + b(t)\n",
    "\n",
    "T = np.pi\n",
    "v1 = (1, 0)\n",
    "v2 = (0, 1)\n",
    "\n",
    "def f(u, t):\n",
    "    return [u[1], -a(p, t) * u[0]]\n",
    "\n",
    "ts = np.arange(0, T, 0.01)\n",
    "ps = np.arange(0, 5, 0.05)\n",
    "res = np.zeros(len(ps))\n",
    "for i in range(len(ps)):\n",
    "    p = ps[i]\n",
    "    # столбцы фундаментальной матрицы\n",
    "    U1 = integrate.odeint(f, v1, ts)\n",
    "    U2 = integrate.odeint(f, v2, ts)\n",
    "    # сама матрица\n",
    "    C = np.array([[U1[-1][0], U2[-1][0]], [U1[-1][1], U2[-1][1]]])\n",
    "    # спектральный радиус\n",
    "    r = np.max(np.abs(np.linalg.eigvals(C)))\n",
    "    res[i] = r\n",
    "\n",
    "plt.plot(ps, res)\n",
    "plt.show()"
   ]
  },
  {
   "cell_type": "markdown",
   "id": "ce085695",
   "metadata": {},
   "source": [
    "Вычислим точку $p_0$, которая разделяет зоны устойчивости и неустойчивости, с $\\epsilon=0.01$"
   ]
  },
  {
   "cell_type": "code",
   "execution_count": 52,
   "id": "384302c6",
   "metadata": {},
   "outputs": [
    {
     "name": "stdout",
     "output_type": "stream",
     "text": [
      "3.4000000000000004\n"
     ]
    }
   ],
   "source": [
    "eps = 0.01\n",
    "p_res = ps[np.max(np.where(res > 1 + eps))]\n",
    "print(p_res)"
   ]
  },
  {
   "cell_type": "markdown",
   "id": "0cccd720",
   "metadata": {},
   "source": [
    "## Вывод\n",
    "\n",
    "В ходе работы было проведено исследование ОЛДУ с перидическими коэффициентами на устойчивость, вычислена точка, разделяющая зоны устойчивости и неустойчивости. При $p < 3.4$ система неустойчива, при $p >= 3.4$ систему можно считать устойчивой."
   ]
  }
 ],
 "metadata": {
  "kernelspec": {
   "display_name": "Python 3 (ipykernel)",
   "language": "python",
   "name": "python3"
  },
  "language_info": {
   "codemirror_mode": {
    "name": "ipython",
    "version": 3
   },
   "file_extension": ".py",
   "mimetype": "text/x-python",
   "name": "python",
   "nbconvert_exporter": "python",
   "pygments_lexer": "ipython3",
   "version": "3.9.7"
  }
 },
 "nbformat": 4,
 "nbformat_minor": 5
}
