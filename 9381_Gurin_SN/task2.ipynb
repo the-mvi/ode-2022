{
 "cells": [
  {
   "cell_type": "markdown",
   "id": "1251fb75",
   "metadata": {},
   "source": [
    "# Практическая работа № 2: Исследование однородного линейного уравнения с периодическими коэффициентами\n",
    "\n",
    "Выполнил студент гр. 9381 Гурин Семен, вариант 3\n",
    "\n",
    "## Цель работы\n",
    "\n",
    "Изучение устойчивости однородного линейного уравнения с периодическими коэффициентами при $t \\to + \\infty$.\n",
    "\n",
    "## Основные теоретические положения\n",
    "\n",
    "Системой однородных линейных дифференциальных уравнений с периодическими коэффициентами называется система однородных линейных ОДУ следующего вида:\n",
    "\n",
    "$$ X' = A(t) X, \\;\\; A(t + T) = A(t), \\;\\; t \\ge 0 \\;\\;\\;\\;\\;\\;\\;\\; (0) $$\n",
    "$$ X' = (x_1', \\dots, x_n')^T, \\;\\; X = (x_1, \\dots, x_n)^T, \\;\\; A(t) = || a_{ij}(t) ||, \\;\\; a_{ij}(t + T) = a_{ij}(t)$$\n",
    "\n",
    "Число $T > 0$ называют периодом коэффициентов системы $(0)$.\n",
    "\n",
    "Фундаментальной матрицей системы $(0)$ называется такая матрица $\\Phi(t)$, что ее стобцы являются линейно независимыми решениями системы $(0)$. В матричном виде: $\\Phi' = A(t)\\Phi$.\n",
    "\n",
    "Основной матрицей для фундаментальной матрицы $\\Phi(t)$ называется такая матрица $C$, что $\\Phi(t + T) = \\Phi(t)C, \\; \\forall t \\ge 0$.\n",
    "\n",
    "Спектральным радиусом матрицы $C$ называется число $r(C) = \\max\\limits_{i}|\\lambda_i|$, где $\\lambda_i$ - собственные числа матрицы $C$.\n",
    "\n",
    "## Постановка задачи\n",
    "\n",
    "Дано дифференциальное уравнение:\n",
    "\n",
    "$$ x'' + a(p,t)x = 0, \\;\\; a(p,t) = p + b(t), \\;\\; b(t + T) = b(t), $$\n",
    "\n",
    "где $p$ - параметр.\n",
    "\n",
    "Данное уравнение сводится к системе двух уравнений I-го порядка:\n",
    "\n",
    "$$\n",
    "\\begin{cases}\n",
    "    u'_1 = u_2, \\\\\n",
    "    u'_2 = -a(p,t)u_1;\n",
    "\\end{cases}\n",
    "\\;\\;\\;\\;\\;\\;\\;\\;\\;\\;\\;\\;\\;\\;\\;\\;\\;\\;\\; (1)\n",
    "$$\n",
    "\n",
    "Здесь $u_1(t) = x(t), \\; u_2(t) = x'(t)$.\n",
    "\n",
    "Необходимо провести исследование устойчивости однородного линейного уравнения. Дальнейшие рассуждения применимы к любой линейной периодической системе, а не только к системе вида $(1)$."
   ]
  },
  {
   "cell_type": "markdown",
   "id": "a7519cff",
   "metadata": {},
   "source": [
    "## Выполнение работы\n",
    "\n",
    "Функция $b(t)$ задана выражением $b(t)=e^{\\cos t}$"
   ]
  },
  {
   "cell_type": "code",
   "execution_count": 49,
   "id": "37bfda91",
   "metadata": {},
   "outputs": [],
   "source": [
    "from scipy.integrate import solve_ivp\n",
    "import numpy as np\n",
    "import matplotlib.pyplot as plt"
   ]
  },
  {
   "cell_type": "code",
   "execution_count": 50,
   "id": "af7b8ac2",
   "metadata": {},
   "outputs": [],
   "source": [
    "def b(t):\n",
    "    return np.exp(np.cos(t))\n",
    "\n",
    "def a(p,t):\n",
    "    return p+b(t)"
   ]
  },
  {
   "cell_type": "code",
   "execution_count": 51,
   "id": "7dd0a457",
   "metadata": {},
   "outputs": [
    {
     "data": {
      "image/png": "[encoded data removed]",
      "text/plain": [
       "<Figure size 432x288 with 1 Axes>"
      ]
     },
     "metadata": {
      "needs_background": "light"
     },
     "output_type": "display_data"
    }
   ],
   "source": [
    "b_ar = [b(t) for t in np.arange(-np.pi, np.pi, 0.001)]\n",
    "\n",
    "plt.grid(True)\n",
    "plt.plot(np.arange(-np.pi, np.pi, 0.001), b_ar, color='purple')\n",
    "plt.show()"
   ]
  },
  {
   "cell_type": "code",
   "execution_count": 52,
   "id": "35b9450f",
   "metadata": {},
   "outputs": [
    {
     "data": {
      "image/png": "[encoded data removed]",
      "text/plain": [
       "<Figure size 432x288 with 1 Axes>"
      ]
     },
     "metadata": {
      "needs_background": "light"
     },
     "output_type": "display_data"
    }
   ],
   "source": [
    "p_arr = np.arange(0, 10, 0.001)\n",
    "\n",
    "def spectral_radius(p_arr):\n",
    "    interval = np.array([0, np.pi])\n",
    "    v1 =  np.array([1, 0])\n",
    "    v2 = np.array([0, 1])\n",
    "    result = []\n",
    "\n",
    "    for p in p_arr:\n",
    "        f = lambda t, x: [x[1], -a(p, t) * x[0]]\n",
    "        u1 = solve_ivp(f, interval, v1)\n",
    "        u2 = solve_ivp(f, interval, v2)\n",
    "        c = np.array([[u1.y[0][-1], u2.y[0][-1]], [u1.y[1][-1], u2.y[1][-1]]])\n",
    "        tmp_res = max(abs(np.linalg.eigvals(c)))\n",
    "        result.append(tmp_res)\n",
    "    return result\n",
    "\n",
    "s_radius = spectral_radius(p_arr)\n",
    "plt.plot(p_arr, s_radius, color='green')\n",
    "plt.grid(True)"
   ]
  },
  {
   "cell_type": "code",
   "execution_count": 53,
   "id": "1b6ae447",
   "metadata": {},
   "outputs": [
    {
     "name": "stdout",
     "output_type": "stream",
     "text": [
      "p0 =  7.873\n"
     ]
    }
   ],
   "source": [
    "def stability(s_radius, p_arr):\n",
    "    for i in range(len(s_radius)):\n",
    "        if s_radius[-1-i] > 1:\n",
    "            p0 = p_arr[-i]\n",
    "            break\n",
    "    return p0\n",
    "\n",
    "p0 = stability(s_radius, p_arr)\n",
    "print('p0 = ',p0)"
   ]
  },
  {
   "cell_type": "code",
   "execution_count": 54,
   "id": "1d35031b",
   "metadata": {},
   "outputs": [
    {
     "data": {
      "image/png": "[encoded data removed]",
      "text/plain": [
       "<Figure size 432x288 with 1 Axes>"
      ]
     },
     "metadata": {
      "needs_background": "light"
     },
     "output_type": "display_data"
    }
   ],
   "source": [
    "plt.plot([p0, p0], [1, 1.5],color = 'red')\n",
    "plt.plot(p_arr, s_radius, color='green')\n",
    "plt.grid(True)"
   ]
  },
  {
   "cell_type": "code",
   "execution_count": 55,
   "id": "58200c84",
   "metadata": {},
   "outputs": [
    {
     "name": "stdout",
     "output_type": "stream",
     "text": [
      "p0 is correct\n"
     ]
    },
    {
     "data": {
      "image/png": "[encoded data removed]",
      "text/plain": [
       "<Figure size 432x288 with 1 Axes>"
      ]
     },
     "metadata": {
      "needs_background": "light"
     },
     "output_type": "display_data"
    }
   ],
   "source": [
    "plt.plot([p0, p0], [0.97, 1.07], color=\"red\")\n",
    "plt.plot(p_arr[-int(2.2 / 0.001):-int(1.57 / 0.001)], s_radius[-int(2.2 /  0.001):-int(1.57 / 0.001)], color ='green')\n",
    "plt.grid(True)\n",
    "print('p0 is correct')"
   ]
  },
  {
   "cell_type": "markdown",
   "id": "1bb6cac7",
   "metadata": {},
   "source": [
    "## Вывод\n",
    "\n",
    "В ходе выолнения практической работы были получены навыки проверки устойчивости однородного линейного уравнения с периодическими коэффициентами при $t \\to + \\infty$. Была найдена граница устойчивости и неустойчивости уравнения $b(t)=e^{\\cos t}$, она равна $ 7.873 $"
   ]
  }
 ],
 "metadata": {
  "kernelspec": {
   "display_name": "Python 3 (ipykernel)",
   "language": "python",
   "name": "python3"
  },
  "language_info": {
   "codemirror_mode": {
    "name": "ipython",
    "version": 3
   },
   "file_extension": ".py",
   "mimetype": "text/x-python",
   "name": "python",
   "nbconvert_exporter": "python",
   "pygments_lexer": "ipython3",
   "version": "3.9.12"
  }
 },
 "nbformat": 4,
 "nbformat_minor": 5
}
