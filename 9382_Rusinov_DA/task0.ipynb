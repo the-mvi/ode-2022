{
 "cells": [
  {
   "cell_type": "markdown",
   "metadata": {},
   "source": [
    "# Практическая работа №1: Краевая задача для уравнения II-го порядка.\n",
    "\n",
    "Выполнил студент гр. 9382 Русинов Дмитрий, вариант 31."
   ]
  },
  {
   "cell_type": "markdown",
   "metadata": {},
   "source": [
    "## Цель работы\n",
    "\n",
    "Научиться применять дифференциальные уравнения в различных областях, решать краевую задачу для уравнения II-го порядка путём многократного решения задачи Коши."
   ]
  },
  {
   "cell_type": "markdown",
   "metadata": {},
   "source": [
    "## Основные теоретические положения\n",
    "\n",
    "### Задача Коши:\n",
    "\n",
    "Система ОДУ первого порядка:\n",
    "\\begin{cases}\n",
    "    y'_1 = f(x, y_1, ..., y_n) \\\\\n",
    "    ... \\\\\n",
    "    y'_n = f(x, y_1, ..., y_n) \\\\\n",
    "    y_1(a) = y_{1a} \\\\\n",
    "    ... \\\\\n",
    "    y_n(a) = y_{na}\n",
    "\\end{cases}\\,.\n",
    "\n",
    "Решение заключается в поиске интеграла, который удовлетворяет начальным условиям.\n",
    "\n",
    "### Краевая задача:\n",
    "\n",
    "Задача, решение которой заключается в поиске интеграла дифференциального уравнения такого, что значение интеграла на краях отрезка удовлетворяет условию.\n",
    "\n",
    "### Метод половинного деления:\n",
    "\n",
    "Алгоритм, который позволяет найти корень функции. Суть алгоритма заключается в сужении области, где находится корень. Определение, есть ли в области корень происходит за счет сравнения знаков значения функции на концах области: если знаки разные, значит корень существует."
   ]
  },
  {
   "cell_type": "markdown",
   "metadata": {},
   "source": [
    "## Постановка задачи\n",
    "\n",
    "Дано дифференциальное уравнение: $y'' = f(x, y), a < x < b$ (1) и граничные условия.\n",
    "\n",
    "$y(a) = y_a, y(b) = y_b$ (2)\n",
    "\n",
    "Требуется найти решение задачи (1)-(2) и построить его график. Рассмотрим задачу Коши для уравнения (1) с начальными условиями.\n",
    "\n",
    "$y(a) = y_a, y'(a) = h$ (3)\n",
    "\n",
    "План решения основан на многократном решении задачи Коши (1), (3). Значение решения задачи Коши при $x = b$ является функцией от h.\n",
    "\n",
    "Задача сводится к отысканию такого значения переменной h, при котором выполнено условие на правом конце отрезка, т.е. должно выполняться\n",
    "\n",
    "$y(b, h) = y_b$ (4)\n",
    "\n",
    "Это уравнение с одним неизвестным h.\n",
    "Для его решения можно применить стандартный метод половинного\n",
    "деления."
   ]
  },
  {
   "cell_type": "markdown",
   "metadata": {},
   "source": [
    "## Выполнение работы"
   ]
  },
  {
   "cell_type": "code",
   "execution_count": 15,
   "metadata": {},
   "outputs": [
    {
     "name": "stdout",
     "output_type": "stream",
     "text": [
      "Результат работы половинного метода\n",
      "h\t\ty\t\tdelta\n",
      "1.000000\t 7.056099\t 10.000000\n",
      "-4.000000\t -2.211972\t 5.000000\n",
      "-1.500000\t 1.403836\t 2.500000\n",
      "-2.750000\t -0.525263\t 1.250000\n",
      "-2.125000\t 0.245246\t 0.625000\n",
      "-1.812500\t 0.747014\t 0.312500\n",
      "-1.656250\t 1.052872\t 0.156250\n",
      "-1.734375\t 0.894595\t 0.078125\n",
      "-1.695312\t 0.972349\t 0.039062\n",
      "-1.675781\t 1.012259\t 0.019531\n",
      "-1.685547\t 0.992217\t 0.009766\n",
      "-1.680664\t 1.002216\t 0.004883\n",
      "-1.683105\t 0.997211\t 0.002441\n",
      "-1.681885\t 0.999712\t 0.001221\n"
     ]
    }
   ],
   "source": [
    "import typing\n",
    "\n",
    "import matplotlib.pyplot\n",
    "import numpy as np\n",
    "import math\n",
    "\n",
    "\n",
    "def func(x: float, y: float):\n",
    "    return math.cos(x * y)\n",
    "\n",
    "\n",
    "class SecondOrderODE:\n",
    "    def __init__(self, a: float, b: float, y_a: float, f: typing.Callable):\n",
    "\n",
    "        self._a = a\n",
    "        self._b = b\n",
    "        self._y_a = y_a\n",
    "        self._f = f\n",
    "\n",
    "    def solution(self, h: float, step: float) -> typing.Tuple[list, list]:\n",
    "        x = self._a\n",
    "        y = self._y_a\n",
    "        g = h\n",
    "\n",
    "        gPoints = []\n",
    "        yPoints = []\n",
    "\n",
    "        while x < self._b:\n",
    "\n",
    "            gPoints.append(g)\n",
    "            yPoints.append(y)\n",
    "\n",
    "            k1 = self._f(x, y)\n",
    "            k2 = self._f(x + step / 2, y + step / 2 * k1)\n",
    "            k3 = self._f(x + step / 2, y + step / 2 * k2)\n",
    "            k4 = self._f(x + step, y + step * k3)\n",
    "\n",
    "            y += g * step\n",
    "            g += step / 6 * (k1 + 2 * k2 + 2 * k3 + k4)\n",
    "\n",
    "            x += step\n",
    "\n",
    "        return gPoints, yPoints\n",
    "\n",
    "\n",
    "class BisectionMethod:\n",
    "    def __init__(self, ode: SecondOrderODE, h: float, delta: float, epsilon: float):\n",
    "        self._ode = ode\n",
    "        self._h = h\n",
    "        self._delta = delta\n",
    "        self._epsilon = epsilon\n",
    "\n",
    "    def solution(self, theoryValue: float):\n",
    "\n",
    "        h = self._h\n",
    "        delta = self._delta\n",
    "        step = 1 / 100\n",
    "        _, yPoints = self._ode.solution(h, step)\n",
    "        y = yPoints[-1]\n",
    "        print(\"h\\t\\ty\\t\\tdelta\")\n",
    "        while abs(y - theoryValue) > self._epsilon:\n",
    "\n",
    "            print(\"{:4f}\\t {:4f}\\t {:4f}\".format(h, y, delta))\n",
    "\n",
    "            left = h - delta\n",
    "            right = h + delta\n",
    "\n",
    "            _, yPoints = self._ode.solution(left, step)\n",
    "            leftY = yPoints[-1]\n",
    "\n",
    "            _, yPoints = self._ode.solution(right, step)\n",
    "            rightY = yPoints[-1]\n",
    "\n",
    "            if (leftY - theoryValue) * (y - theoryValue) < 0:\n",
    "                h = left + delta / 2\n",
    "            elif (rightY - theoryValue) * (y - theoryValue) < 0:\n",
    "                h = right - delta / 2\n",
    "            else:\n",
    "                raise ValueError(\"There is not solution\")\n",
    "\n",
    "            delta /= 2\n",
    "            _, yPoints = self._ode.solution(h, step)\n",
    "            y = yPoints[-1]\n",
    "\n",
    "        print(\"{:4f}\\t {:4f}\\t {:4f}\".format(h, y, delta))\n",
    "        return h\n",
    "\n",
    "print(\"Результат работы половинного метода\")\n",
    "instance = SecondOrderODE(a=0, b=2, y_a=5, f=func)\n",
    "bm = BisectionMethod(ode=instance, h=1, delta=10, epsilon=0.001)\n",
    "result = bm.solution(theoryValue=1)\n"
   ]
  },
  {
   "cell_type": "code",
   "execution_count": 14,
   "metadata": {},
   "outputs": [
    {
     "data": {
      "image/png": "[encoded data removed]",
      "text/plain": [
       "<Figure size 432x288 with 1 Axes>"
      ]
     },
     "metadata": {
      "needs_background": "light"
     },
     "output_type": "display_data"
    }
   ],
   "source": [
    "gPoints, yPoints = instance.solution(result, 1 / 100)\n",
    "xPoints = np.linspace(0, 2, 200)\n",
    "matplotlib.pyplot.plot(xPoints, yPoints, label=\"y\")\n",
    "matplotlib.pyplot.plot(xPoints, gPoints, label=\"y'\")\n",
    "matplotlib.pyplot.legend()\n",
    "matplotlib.pyplot.show()"
   ]
  },
  {
   "cell_type": "markdown",
   "metadata": {},
   "source": [
    "## Выводы\n",
    "\n",
    "Была решена краевая задача для уравнения II-го порядка путём многократного решения задачи Коши. Задача Коши решалась численным интегрированием, а краевая задача с использованием метода половинного деления для поиска начального состояния уравнения."
   ]
  }
 ],
 "metadata": {
  "kernelspec": {
   "display_name": "Python 3 (ipykernel)",
   "language": "python",
   "name": "python3"
  },
  "language_info": {
   "codemirror_mode": {
    "name": "ipython",
    "version": 3
   },
   "file_extension": ".py",
   "mimetype": "text/x-python",
   "name": "python",
   "nbconvert_exporter": "python",
   "pygments_lexer": "ipython3",
   "version": "3.9.10"
  }
 },
 "nbformat": 4,
 "nbformat_minor": 4
}
