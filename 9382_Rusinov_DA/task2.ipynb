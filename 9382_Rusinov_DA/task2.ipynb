{
 "cells": [
  {
   "cell_type": "markdown",
   "id": "9b76351c",
   "metadata": {},
   "source": [
    "# Практическая работа №2: Исследование однородного линейного уравнения с периодическими коэффициентами\n",
    "\n",
    "Выполнил студент гр. 9382 Русинов Дмитрий, вариант 31."
   ]
  },
  {
   "cell_type": "markdown",
   "id": "bdd0dc1b",
   "metadata": {},
   "source": [
    "## Цель работы\n",
    "\n",
    "Изучение устойчивости однородного линейного уравнения с периодическими коэффициентами при $t \\to \\infty$."
   ]
  },
  {
   "cell_type": "markdown",
   "id": "ba76abbf",
   "metadata": {},
   "source": [
    "## Основные теоретические положения\n",
    "\n",
    "Линейная однородная система c периодическими коэффициентами:  \n",
    "$X' = A(t)X,\\ A(t + T) = A(t), t \\ge 0$ (1)\n",
    "\n",
    "Матрица $\\Phi(t) = \\{\\phi_{ij}, i, j = 1, 2, ..., n \\}$ называется фундаментальной матрицей системы (1), если все её столбцы являются линейно независимыми решениями этой системы.\n",
    "\n",
    "Матрица $C$, удовлетворяющая условию $\\Phi(t + T) = \\Phi(t)C, \\forall t \\ge 0$, называется основной для фундаментальной матрицы $\\Phi(t)$.\n",
    "\n",
    "Спектральным радиусом матрицы $A$ называется максимум модуля её собственных чисел: $\\rho(A) = max|\\lambda_j|, 0 \\le j \\le n$"
   ]
  },
  {
   "cell_type": "markdown",
   "id": "99a8b950",
   "metadata": {},
   "source": [
    "## Постановка задачи\n",
    "\n",
    "Дано дифференциальное уравнение:\\\n",
    "$x'' + a(p, t)x = 0, a(p, t) = p + b(t), b(t + T) = b(t)$,\\\n",
    "где $p$ – параметр.\n",
    "\n",
    "Данное уравнение сводится к системе двух уравнений $1$-го порядка:\\\n",
    "$\\begin{cases}\n",
    "    u_1' = u_2\\\\\n",
    "    u_2' = -a(p, t)u_1\n",
    " \\end{cases}$\n",
    " \n",
    "Здесь $u_1(t) = x(t), u_2(t) = x'(t)$.\n",
    "\n",
    "Необходимо провести исследование устойчивости однородного линейного уравнения."
   ]
  },
  {
   "cell_type": "markdown",
   "id": "d8460ab2",
   "metadata": {},
   "source": [
    "## Выполнение работы"
   ]
  },
  {
   "cell_type": "code",
   "execution_count": 83,
   "id": "1b86ed77",
   "metadata": {},
   "outputs": [],
   "source": [
    "import matplotlib.pyplot as plt\n",
    "import math\n",
    "from scipy.integrate import odeint\n",
    "import numpy as np"
   ]
  },
  {
   "cell_type": "markdown",
   "id": "6f9e873c",
   "metadata": {},
   "source": [
    "Алгоритм итерируется по значениям $p$ от $1$ до $1.5$ с шагом $0.0001$. Для каждого значения $p$ вычисляется фундаментальная матрица с использованием численного интегрирования с данными начальными векторами. Решение используется для вычисления основной матрицы. Наибольшее по модулю собственное число основной матрицы - это и есть её спектральный радиус. Затем по полученным значениям спектрального радиуса происходит построение графика, по которому можно наблюдать границу системы между зонами устойчивости и неустойчивости."
   ]
  },
  {
   "cell_type": "code",
   "execution_count": 84,
   "id": "352de36e",
   "metadata": {},
   "outputs": [
    {
     "data": {
      "image/png": "[encoded data removed]",
      "text/plain": [
       "<Figure size 432x288 with 1 Axes>"
      ]
     },
     "metadata": {
      "needs_background": "light"
     },
     "output_type": "display_data"
    },
    {
     "name": "stdout",
     "output_type": "stream",
     "text": [
      "p0 = 1.1662999999999817\n"
     ]
    }
   ],
   "source": [
    "v1 = [1, 0]\n",
    "v2 = [0, 1]\n",
    "\n",
    "start = 1\n",
    "end = 1.5\n",
    "interval = 0.0001\n",
    "\n",
    "pr = np.arange(start, end, interval)\n",
    "T = math.pi\n",
    "tr = np.arange(start, T, T / ((end - start) / interval) )\n",
    "result = []\n",
    "\n",
    "p0 = None\n",
    "for p in pr:\n",
    "    def system(x, t):\n",
    "        return [x[1], -(p + np.log(3 - 2 * np.sin(2 * t))) * x[0]]\n",
    "\n",
    "    C = np.array([odeint(system, v1, tr)[-1], odeint(system, v2, tr)[-1]])\n",
    "    result.append(np.max(np.abs(np.linalg.eigvals(C))))\n",
    "\n",
    "p0 = pr[ list(filter(lambda x: result[x] > 1, range(len(result))))[-1] ]\n",
    "plt.plot([p0, p0], [1, 2], color=\"red\", label=\"p0\")\n",
    "plt.plot(pr, result, color=\"black\")\n",
    "plt.show()\n",
    "\n",
    "print(\"p0 =\", p0)"
   ]
  },
  {
   "cell_type": "markdown",
   "id": "d3b394db",
   "metadata": {},
   "source": [
    "## Выводы\n",
    "\n",
    "Было проведено исследование однородного линейного уравнения с периодическими коэффициентами. Была определена граница между зонами устойчивости и неустойчивости."
   ]
  }
 ],
 "metadata": {
  "kernelspec": {
   "display_name": "Python 3 (ipykernel)",
   "language": "python",
   "name": "python3"
  },
  "language_info": {
   "codemirror_mode": {
    "name": "ipython",
    "version": 3
   },
   "file_extension": ".py",
   "mimetype": "text/x-python",
   "name": "python",
   "nbconvert_exporter": "python",
   "pygments_lexer": "ipython3",
   "version": "3.9.12"
  }
 },
 "nbformat": 4,
 "nbformat_minor": 5
}
