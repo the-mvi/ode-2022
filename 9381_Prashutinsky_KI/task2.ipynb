{
 "cells": [
  {
   "cell_type": "markdown",
   "metadata": {},
   "source": [
    "## ИДЗ №2\n",
    "\n",
    "### Цель работы.\n",
    "\n",
    "Изучение устойчивости однородного линейного уравнения с\n",
    "периодическими коэффициентами при $t -> +\\infty$"
   ]
  },
  {
   "cell_type": "markdown",
   "metadata": {},
   "source": [
    "### Теория.\n",
    "\n",
    "Дано уравнение\n",
    "\n",
    "$x''+\\alpha(p,t)x = 0, \\alpha(p,t) = p + b(t), b(t + T) = b(t), p -параметр$\n",
    "\n",
    "Сводим уравнение к системе двух уранений 1-ого порядка\n",
    "\n",
    "$u_1 (t) = x(t), u_2 (t) =x' (t)$\n",
    "\n",
    "$u_1 '= u_2$\n",
    "and\n",
    "$u_2 '= - \\alpha(p,t) u_1$ $(1)$ \n"
   ]
  },
  {
   "cell_type": "markdown",
   "metadata": {},
   "source": [
    "### Вариант 10.\n",
    "\n",
    "Функция $b(t)$: $e^{sin(t)}$\n",
    "    \n"
   ]
  },
  {
   "cell_type": "code",
   "execution_count": 1,
   "metadata": {},
   "outputs": [],
   "source": [
    "from scipy import integrate\n",
    "import numpy as np\n",
    "import matplotlib.pyplot as plt\n",
    "import math"
   ]
  },
  {
   "cell_type": "code",
   "execution_count": 2,
   "metadata": {},
   "outputs": [],
   "source": [
    "T = math.pi\n",
    "step = 0.001\n",
    "\n",
    "def b_t(t):\n",
    "    return math.exp(math.sin(t))\n",
    "def a_p_t(p,t):\n",
    "    return p + b_t(t)"
   ]
  },
  {
   "cell_type": "code",
   "execution_count": 3,
   "metadata": {},
   "outputs": [
    {
     "data": {
      "image/png": "[encoded data removed]",
      "text/plain": [
       "<Figure size 432x288 with 1 Axes>"
      ]
     },
     "metadata": {
      "needs_background": "light"
     },
     "output_type": "display_data"
    }
   ],
   "source": [
    "t_arange = np.arange(-T, T, step)\n",
    "b_arange = [b_t(t) for t in t_arange]\n",
    "\n",
    "plt.plot(t_arange, b_arange)\n",
    "plt.grid(True)\n",
    "plt.show()"
   ]
  },
  {
   "cell_type": "markdown",
   "metadata": {},
   "source": [
    "### ШАГ 1.\n",
    "\n",
    "Задаем массив значений параметра $p$. Значения от 1 до 5 с шагом 0.5 Для каждого значения $p$ проделаем цикл (пояснение цикла далее)."
   ]
  },
  {
   "cell_type": "code",
   "execution_count": 4,
   "metadata": {},
   "outputs": [],
   "source": [
    "start_p = 0\n",
    "end_p = 10\n",
    "step_p = 0.001\n",
    "\n",
    "p_values = np.arange(start_p, end_p, step_p)"
   ]
  },
  {
   "cell_type": "markdown",
   "metadata": {},
   "source": [
    "### ШАГ 2.\n",
    "\n",
    "Вычисляем значение фундаментальной матрицы системы (1) при t = T любой программы численного решения задач Коши.\n",
    "\n",
    "Для этого решаем две задачи Коши с начальными векторами $V_1 =(1 0)$ и $V_2 = (0 1)$ на отрезке $[0;T]$. Пусть вектор-функции $U(t,V_1 )$, $U(t,V_2 )$ - решения этих задач. Они являются столбцами фундаметальной матрицы $\\Phi(t)$, удовлетворяющей условию $\\Phi(0) = E$. Основную матрицу C для $\\Phi(t)$ получаем из форулы $С = \\Phi(T)$. Столбцы матрицы $C$ это векторы $U(T,V_1 )$, $U(T,V_2 )$.\n",
    "\n",
    "### ШАГ 3.\n",
    "\n",
    "Вычисляем собственные числа матрицы 𝐶 и ее спектральный радиус, т.е.\n",
    "\n",
    "$r(p) = max_{j=1,2}|\\lambda_j|$"
   ]
  },
  {
   "cell_type": "code",
   "execution_count": 5,
   "metadata": {},
   "outputs": [
    {
     "data": {
      "image/png": "[encoded data removed]",
      "text/plain": [
       "<Figure size 432x288 with 1 Axes>"
      ]
     },
     "metadata": {
      "needs_background": "light"
     },
     "output_type": "display_data"
    }
   ],
   "source": [
    "interval = (0, T)\n",
    "v_1 = (1, 0)\n",
    "v_2 = (0, 1)\n",
    "sr_values = []\n",
    "\n",
    "for p in p_values:\n",
    "    de_system_func = lambda t, values: [values[1], -a_p_t(p, t) * values[0]]\n",
    "    u1 = integrate.solve_ivp(de_system_func, interval, v_1)\n",
    "    u2 = integrate.solve_ivp(de_system_func, interval, v_2)\n",
    "    c = np.array([[u1.y[0][-1], u2.y[0][-1]],\n",
    "               [u1.y[1][-1], u2.y[1][-1]]])\n",
    "    sr = max(abs(np.linalg.eigvals(c)))\n",
    "    sr_values.append(sr)\n",
    "    \n",
    "plt.xlabel(\"p\")\n",
    "plt.ylabel(\"sr\")\n",
    "plt.plot(p_values, sr_values)\n",
    "plt.grid(True)"
   ]
  },
  {
   "cell_type": "markdown",
   "metadata": {},
   "source": [
    "### ШАГ 4.\n",
    "\n",
    "Вывод об устойчивости или неустойчивости делается в зависимости\n",
    "от значения 𝑟(𝑝).\n",
    "\n",
    "Определим точку $p_0$  с точностью $|r(p_0)|<0.001$"
   ]
  },
  {
   "cell_type": "code",
   "execution_count": 6,
   "metadata": {},
   "outputs": [
    {
     "name": "stdout",
     "output_type": "stream",
     "text": [
      "p0 = 7.05, r(p0) = 0.9999373163988348\n"
     ]
    }
   ],
   "source": [
    "p0 = None\n",
    "rp0 = None\n",
    "\n",
    "for i in range(1, len(sr_values)):\n",
    "    if abs(sr_values[-i] - 1) > 0.001:\n",
    "        p0 = p_values[-i + 1]\n",
    "        rp0 = sr_values[-i + 1]\n",
    "        break\n",
    "\n",
    "print(\"p0 = {}, r(p0) = {}\".format(p0, rp0))"
   ]
  },
  {
   "cell_type": "markdown",
   "metadata": {},
   "source": [
    "Построим график спектрального радиуса основной матрицы при различных параметрах $p$ с отмеченной на нем точкой $p_0$:"
   ]
  },
  {
   "cell_type": "code",
   "execution_count": 7,
   "metadata": {},
   "outputs": [
    {
     "data": {
      "text/plain": [
       "<matplotlib.legend.Legend at 0x205fffc4760>"
      ]
     },
     "execution_count": 7,
     "metadata": {},
     "output_type": "execute_result"
    },
    {
     "data": {
      "image/png": "[encoded data removed]",
      "text/plain": [
       "<Figure size 432x288 with 1 Axes>"
      ]
     },
     "metadata": {
      "needs_background": "light"
     },
     "output_type": "display_data"
    }
   ],
   "source": [
    "plt.xlabel(\"p\")\n",
    "plt.ylabel(\"sr\")\n",
    "plt.plot([p0, p0], [0.999, 1.55], color=\"black\", label=\"p0\")\n",
    "plt.plot(p_values, sr_values, label=\"r(p)\")\n",
    "plt.grid(True)\n",
    "plt.legend()"
   ]
  },
  {
   "cell_type": "markdown",
   "metadata": {},
   "source": [
    "Рассмотрим промежуток $[7.0,7.1]$ поближе:"
   ]
  },
  {
   "cell_type": "code",
   "execution_count": 8,
   "metadata": {
    "scrolled": false
   },
   "outputs": [
    {
     "data": {
      "text/plain": [
       "<matplotlib.legend.Legend at 0x2058805c130>"
      ]
     },
     "execution_count": 8,
     "metadata": {},
     "output_type": "execute_result"
    },
    {
     "data": {
      "image/png": "[encoded data removed]",
      "text/plain": [
       "<Figure size 432x288 with 1 Axes>"
      ]
     },
     "metadata": {
      "needs_background": "light"
     },
     "output_type": "display_data"
    }
   ],
   "source": [
    "plt.xlabel(\"p\")\n",
    "plt.ylabel(\"sr\")\n",
    "plt.plot([p0, p0], [0.999, 1.005], color=\"black\", label=\"p0\")\n",
    "plt.plot(p_values[-int(3 / step):-int(2.7 / step)], sr_values[-int(3 / step):-int(2.7 / step)])\n",
    "plt.grid(True)\n",
    "plt.legend()"
   ]
  },
  {
   "cell_type": "markdown",
   "metadata": {},
   "source": [
    "Судя по графикам, граница между зонами устойчивости и неустойчивости найдена корректно и равна $p_0 = 7.05$. При значениях наблюдаются области со значением $r(p)>1$. При таких значениях, по крайней мере, часть решений системы не ограничена."
   ]
  },
  {
   "cell_type": "markdown",
   "metadata": {},
   "source": [
    "### Выводы.\n",
    "\n",
    "В ходе практической работы было проведено изучение устойчивости системы однородных линейных ОДУ с переодическими коэффициетами при $t->\\infty$.\n",
    "\n",
    "Были получены следующие результаты:\n",
    "- Найдена граница зоны устойчивости и неустойчивости $p_0 = 7.05$\n",
    "- При $p > p_0 = 7.05$ система является устойчивой;\n",
    "- При $p < p_0 = 7.05$ система является неустойчивой;\n",
    "\n",
    "Значение $p_0$ было найдено с точностью $|r(p_0)|<0.001$"
   ]
  }
 ],
 "metadata": {
  "kernelspec": {
   "display_name": "Python 3 (ipykernel)",
   "language": "python",
   "name": "python3"
  },
  "language_info": {
   "codemirror_mode": {
    "name": "ipython",
    "version": 3
   },
   "file_extension": ".py",
   "mimetype": "text/x-python",
   "name": "python",
   "nbconvert_exporter": "python",
   "pygments_lexer": "ipython3",
   "version": "3.8.5"
  }
 },
 "nbformat": 4,
 "nbformat_minor": 4
}
