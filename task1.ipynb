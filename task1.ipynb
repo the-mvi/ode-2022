{
 "cells": [
  {
   "cell_type": "markdown",
   "id": "6f4b94d8",
   "metadata": {},
   "source": [
    "# Практическая работа №1: Краевая задача для уравнения II-го порядка.\n",
    "\n",
    "Выполнил студент гр. 9381 Щеглов Дмитрий, вариант 18."
   ]
  },
  {
   "cell_type": "markdown",
   "id": "023f030d",
   "metadata": {},
   "source": [
    "## Цель работы\n",
    "\n",
    "Научиться применять дифференциальные уравнения в различных областях, решать краевую задачу для уравнения II-го порядка путём многократного решения задачи Коши."
   ]
  },
  {
   "cell_type": "markdown",
   "id": "87c77ef0",
   "metadata": {},
   "source": [
    "## Основные теоретические положения\n",
    "\n",
    "### Задача Коши.\n",
    "\n",
    "Задача Коши подразумевает собой поиск частного решения уравнения $y = \\phi(x)$ из числа общих, удовлетворяющим некоторым условиям. Общий вид задачи Коши:\n",
    "\n",
    "$\\begin{cases}\n",
    "f(x,y,y',...,y^{(n)})\\\\\n",
    "y(x_0)=y_0\\\\\n",
    "y'(x_0)=y_1\\\\\n",
    ".\\\\\n",
    ".\\\\\n",
    ".\\\\\n",
    "y^{(n-1)}(x_0)=y_{n-1}\n",
    "\\end{cases}$\n",
    "\n"
   ]
  },
  {
   "cell_type": "markdown",
   "id": "83579335",
   "metadata": {},
   "source": [
    "## Постановка задачи\n",
    "\n",
    "Дано дифференциальное уравнение:\n",
    "\n",
    "$y'' = f(x, y), a < x < b$ (1)\n",
    "\n",
    "и граничные условия\n",
    "\n",
    "$y(a) = y_a, y(b) = y_b.$ (2)\n",
    "\n",
    "Требуется найти решение задачи (1)-(2) и построить его график.\n",
    "\n",
    "Рассмотрим задачу Коши для уравнения (1) с начальными условиями\n",
    "\n",
    "$y(a)=y_a$ $y'(a) = h.$ (3)\n",
    "\n",
    "План решения основан на многократном решении задачи Коши (1), (3).\n",
    "Значение решения задачи Коши при $x=b$ является функцией от h.\n",
    "\n",
    "Задача сводится к отысканию такого значения переменной h, при котором выполнено условие на правом конце отрезка, т.е. должно выполняться\n",
    "\n",
    "$y(b,h)=y_b$ (4)\n",
    "\n",
    "Это уравнение с одним неизвестным h.\n",
    "\n",
    "Для его решения можно применить стандартный метод половинного деления."
   ]
  },
  {
   "cell_type": "markdown",
   "id": "5bdce3e4",
   "metadata": {},
   "source": [
    "## Выполнение работы\n",
    "\n",
    "Вариант 18.\n",
    "\n",
    "$f(x,y)=ln(2*x+1)*sin(y)$\n",
    "\n",
    "$y_0 = 0, \\quad y_2 = 3$\n",
    "\n",
    "$a = 0, \\quad b = 2$\n",
    "\n",
    "Пусть $h_0 = 0$"
   ]
  },
  {
   "cell_type": "code",
   "execution_count": 55,
   "id": "4b8ebe9a",
   "metadata": {},
   "outputs": [
    {
     "name": "stdout",
     "output_type": "stream",
     "text": [
      "Выполнение половинного метода:\n",
      "h\t\t\ty(b,h)\t\t\tDelta\n",
      "1.000000\t\t 3.039961\t\t 10.000000\n",
      "-4.000000\t\t -7.957241\t\t 5.000000\n",
      "-1.500000\t\t -3.982057\t\t 2.500000\n",
      "-0.250000\t\t -0.896285\t\t 1.250000\n",
      "0.375000\t\t 1.321179\t\t 0.625000\n",
      "0.687500\t\t 2.269237\t\t 0.312500\n",
      "0.843750\t\t 2.675800\t\t 0.156250\n",
      "0.921875\t\t 2.862903\t\t 0.078125\n",
      "0.960938\t\t 2.952648\t\t 0.039062\n",
      "0.980469\t\t 2.996603\t\t 0.019531\n",
      "0.990234\t\t 3.018356\t\t 0.009766\n",
      "0.985352\t\t 3.007498\t\t 0.004883\n",
      "0.982910\t\t 3.002055\t\t 0.002441\n",
      "0.981689\t\t 2.999330\t\t 0.001221\n"
     ]
    }
   ],
   "source": [
    "import numpy as np\n",
    "import matplotlib.pyplot\n",
    "import math\n",
    "import typing\n",
    "\n",
    "\n",
    "def Func(x: float, y: float):\n",
    "    return math.log(2*x+1)*math.sin(y)\n",
    "\n",
    "\n",
    "class SecondOrder:\n",
    "    def __init__(self, a: float, b: float, y_a: float, f: typing.Callable):\n",
    "        self._a = a\n",
    "        self._b = b\n",
    "        self._y_a = y_a\n",
    "        self._f = f\n",
    "\n",
    "    def Decision(self, h: float, step: float) -> typing.Tuple[list, list]:\n",
    "        x = self._a\n",
    "        y = self._y_a\n",
    "        g = h\n",
    "\n",
    "        gPoints = []\n",
    "        yPoints = []\n",
    "\n",
    "        while x < self._b:\n",
    "            gPoints.append(g)\n",
    "            yPoints.append(y)\n",
    "            k1 = self._f(x, y)\n",
    "            k2 = self._f(x + step / 2, y + step / 2 * k1)\n",
    "            k3 = self._f(x + step / 2, y + step / 2 * k2)\n",
    "            k4 = self._f(x + step, y + step * k3)\n",
    "            y += g * step\n",
    "            g += step / 6 * (k1 + 2 * k2 + 2 * k3 + k4)\n",
    "            x += step\n",
    "\n",
    "        return gPoints, yPoints\n",
    "\n",
    "\n",
    "class HalfMethod:\n",
    "    def __init__(self, ode: SecondOrder, h: float, dt: float, epsilon: float):\n",
    "        self._ode = ode\n",
    "        self._h = h\n",
    "        self._dt = dt\n",
    "        self._epsilon = epsilon\n",
    "\n",
    "    def Decision(self, tvalue: float):\n",
    "        step = 0.01\n",
    "        h = self._h\n",
    "        dt = self._dt\n",
    "        _, yPoints = self._ode.Decision(h, step)\n",
    "        y = yPoints[-1]\n",
    "        print(\"h\\t\\t\\ty(b,h)\\t\\t\\tDelta\")\n",
    "        while abs(y - tvalue) > self._epsilon:\n",
    "            print(\"{:4f}\\t\\t {:4f}\\t\\t {:4f}\".format(h, y, dt))\n",
    "            left = h - dt\n",
    "            right = h + dt\n",
    "            _, yPoints = self._ode.Decision(left, step)\n",
    "            leftY = yPoints[-1]\n",
    "            _, yPoints = self._ode.Decision(right, step)\n",
    "            rightY = yPoints[-1]\n",
    "\n",
    "            if (leftY - tvalue) * (y - tvalue) < 0:\n",
    "                h = left + dt * 0.5\n",
    "            elif (rightY - tvalue) * (y - tvalue) < 0:\n",
    "                h = right - dt * 0.5\n",
    "            else:\n",
    "                raise ValueError(\"No decision\")\n",
    "\n",
    "            dt *= 0.5\n",
    "            _, yPoints = self._ode.Decision(h, step)\n",
    "            y = yPoints[-1]\n",
    "\n",
    "        print(\"{:4f}\\t\\t {:4f}\\t\\t {:4f}\".format(h, y, dt))\n",
    "        return h\n",
    "\n",
    "print(\"Выполнение половинного метода:\")\n",
    "instance = SecondOrder(a=0.000000001, b=2, y_a=0, f=Func)\n",
    "bm = HalfMethod(ode=instance, h=1, dt=10, epsilon=0.001)\n",
    "result = bm.Decision(tvalue=3)"
   ]
  },
  {
   "cell_type": "code",
   "execution_count": 50,
   "id": "9b08d50c",
   "metadata": {
    "scrolled": true
   },
   "outputs": [
    {
     "data": {
      "image/png": "[encoded data removed]",
      "text/plain": [
       "<Figure size 432x288 with 1 Axes>"
      ]
     },
     "metadata": {
      "needs_background": "light"
     },
     "output_type": "display_data"
    }
   ],
   "source": [
    "gPoints, yPoints = instance.Decision(result, 1 / 100)\n",
    "xPoints = np.linspace(0, 3, 200)\n",
    "matplotlib.pyplot.plot(xPoints, yPoints, label=\"y\")\n",
    "matplotlib.pyplot.plot(xPoints, gPoints, label=\"y'\")\n",
    "matplotlib.pyplot.legend()\n",
    "matplotlib.pyplot.show()"
   ]
  },
  {
   "cell_type": "markdown",
   "id": "48cbba69",
   "metadata": {},
   "source": [
    "## Выводы.\n",
    "\n",
    "В ходе выполнения практической работы была решена краевая задача для уравнения второго порядка путем многократного решения задачи Коши."
   ]
  }
 ],
 "metadata": {
  "kernelspec": {
   "display_name": "Python 3 (ipykernel)",
   "language": "python",
   "name": "python3"
  },
  "language_info": {
   "codemirror_mode": {
    "name": "ipython",
    "version": 3
   },
   "file_extension": ".py",
   "mimetype": "text/x-python",
   "name": "python",
   "nbconvert_exporter": "python",
   "pygments_lexer": "ipython3",
   "version": "3.10.2"
  }
 },
 "nbformat": 4,
 "nbformat_minor": 5
}
