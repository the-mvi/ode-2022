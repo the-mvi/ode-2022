{
 "cells": [
  {
   "cell_type": "markdown",
   "id": "2fb54fc3",
   "metadata": {},
   "source": [
    "# Практическая работа №1: Краевая задача для уравнения II-го порядка\n",
    "\n",
    "Выполнила студентка гр. 9381 Андрух Ирина, вариант 1."
   ]
  },
  {
   "cell_type": "markdown",
   "id": "8a83aafc",
   "metadata": {},
   "source": [
    "## Цель работы\n",
    "\n",
    "Научиться применять дифференциальные уравнения в различных областях, решать краевую задачу для уравнения II-го порядка путём многократного решения задачи Коши."
   ]
  },
  {
   "cell_type": "markdown",
   "id": "97c336a8",
   "metadata": {},
   "source": [
    "## Основные теоретические положения\n",
    "\n",
    "Задача Коши подразумевает поиск частного решения уравнения $y = \\varphi(x)$ из числа общих, удовлетворяющих некоторым условиям. Общий вид задачи Коши:\n",
    "    $\\begin{cases}\n",
    "      f(x, y, y', y'',...,y^{(n)} = 0\\\\\n",
    "       y(x_0) = y_0\\\\\n",
    "      y'(x_0) = y_1\\\\\n",
    "       y''(x_0) = y_2\\\\\n",
    "       ...\\\\\n",
    "       y^{(n-1)}(x_0) = y_{n-1}\n",
    "    \\end{cases}$"
   ]
  },
  {
   "cell_type": "markdown",
   "id": "08e66113",
   "metadata": {},
   "source": [
    "## Постановка задачи\n",
    "\n",
    "Дано дифференциальное уравнение: \n",
    "\n",
    "$y'' = f(x,y), a < x < b$  (1)\n",
    "\n",
    "и граничные условия\n",
    "\n",
    "$y(a) = y_a$, $y(b) = y_b$  (2)\n",
    "\n",
    "Требуется найти решение задачи (1)-(2) и построить его график.\n",
    "\n",
    "Рассмотрим задачу Коши для уравнения (1) с начальными условиями\n",
    "\n",
    "$y(a) = y_a$, $y'(a) = h$  (3)\n",
    "\n",
    "План решения основан на многократном решении задачи Коши (1), (3). Значение решения задачи Коши при 𝑥 = 𝑏 является функцией от ℎ. \n",
    "Задача сводится к отысканию такого значения переменной ℎ, при котором выполнено условие на правом конце отрезка, т.е. должно выполняться\n",
    "\n",
    "$y(b, h) = y_b$ (4)\n",
    "\n",
    "Это уравнение с одним неизвестным ℎ.\n",
    "Для его решения можно применить стандартный метод половинного деления."
   ]
  },
  {
   "cell_type": "markdown",
   "id": "97fdfd67",
   "metadata": {},
   "source": [
    "## Выполнение работы\n",
    "\n",
    "$ f(x, y) = \\sqrt(y)*(x^2+1) $ \n",
    "\n",
    "$ y'' = \\sqrt(y)*(x^2+1), \\quad a < x < b $\n",
    "\n",
    "$ a = 0, b = 2 $\n",
    "\n",
    "$ y_{a} = 4, y_{b} = 1 $\n",
    "\n",
    "$ y(0) = 4, \\quad y(2) = 1 $\n",
    "\n",
    "Задача Коши:\n",
    "\n",
    "$\\begin{cases}\n",
    "      y'' - \\sqrt(y)*(x^2+1) = 0 \\\\\n",
    "      y(0) = 4 \\\\\n",
    "      y'(0) = h\n",
    "    \\end{cases}$\n",
    "    \n",
    "$\\begin{cases}\n",
    "      y' = g\\\\\n",
    "      g' = \\sqrt(y)*(x^2+1) \\\\\n",
    "    \\end{cases}$    \n",
    "    \n",
    "**Задаем число $ h_{0}$, решаем задачу Коши. Вычисляем $ y(b, h_{0}) $**  \n",
    "\n",
    "$h_{0} = 3 $"
   ]
  },
  {
   "cell_type": "code",
   "execution_count": 28,
   "id": "881f89e1",
   "metadata": {},
   "outputs": [
    {
     "data": {
      "image/png": "[encoded data removed]",
      "text/plain": [
       "<Figure size 432x288 with 1 Axes>"
      ]
     },
     "metadata": {
      "needs_background": "light"
     },
     "output_type": "display_data"
    },
    {
     "name": "stdout",
     "output_type": "stream",
     "text": [
      "y(b, h0) = 19.42665444457002 h =  3\n"
     ]
    }
   ],
   "source": [
    "from scipy import integrate \n",
    "import numpy as np\n",
    "import matplotlib.pyplot as plt\n",
    "import math\n",
    "\n",
    "\n",
    "a = 0\n",
    "b = 2\n",
    "y_a = 4\n",
    "y_b = 1\n",
    "\n",
    "step = 0.001\n",
    "#h_0 = 3\n",
    "def dydt(Y, t):\n",
    "    return [Y[1], math.sqrt(Y[0])*(t**2+1)]\n",
    "\n",
    "h = 3\n",
    "solution = integrate.odeint(dydt, [y_a, h], np.arange(a, b, step))\n",
    "p = plt.plot(np.arange(a, b, step), solution[:, 0])\n",
    "plt.show()\n",
    "print(\"y(b, h0) =\", solution[-1, 0], \"h = \", h)\n"
   ]
  },
  {
   "cell_type": "markdown",
   "id": "69048d30",
   "metadata": {},
   "source": [
    "$y(b, h_{0}) = 19.42665444457002$\n",
    "\n",
    "$y(b, h_{0}) > y_{b}$\n",
    "\n",
    "Выберем шаг $\\Delta h = -0.05$. Решаем задачу Коши, пока $y(b, h_{1}) > y_{b} \\quad h_{1} = h + \\Delta h$"
   ]
  },
  {
   "cell_type": "code",
   "execution_count": 33,
   "id": "ab56dd4d",
   "metadata": {},
   "outputs": [
    {
     "data": {
      "image/png": "[encoded data removed]",
      "text/plain": [
       "<Figure size 432x288 with 1 Axes>"
      ]
     },
     "metadata": {
      "needs_background": "light"
     },
     "output_type": "display_data"
    },
    {
     "name": "stdout",
     "output_type": "stream",
     "text": [
      "y(b, h1) = 0.8783483112778228 h1 =  -3.7000000000000037\n"
     ]
    }
   ],
   "source": [
    "dh = -0.05\n",
    "h_u = h\n",
    "y_u = solution[-1, 0]\n",
    "while solution[-1, 0] > y_b:\n",
    "    h = h + dh\n",
    "    solution = integrate.odeint(dydt, [y_a, h], np.arange(a, b, step))\n",
    "    \n",
    "y_d = solution[-1, 0]\n",
    "h_l = h\n",
    "p = plt.plot(np.arange(a, b, step), solution[:, 0])\n",
    "plt.show()\n",
    "print(\"y(b, h1) =\", y_d, \"h1 = \", h)"
   ]
  },
  {
   "cell_type": "markdown",
   "id": "aa2f30b0",
   "metadata": {},
   "source": [
    "Получили, что $ h \\in [-3.7, 3]$\n",
    "\n",
    "Методом половинного деления найдём $ h $, тайой что $|y(b, h_{0}) - y(b, h_{1})| < 0.001$"
   ]
  },
  {
   "cell_type": "code",
   "execution_count": 34,
   "id": "d0d719f6",
   "metadata": {},
   "outputs": [
    {
     "data": {
      "image/png": "[encoded data removed]",
      "text/plain": [
       "<Figure size 432x288 with 1 Axes>"
      ]
     },
     "metadata": {
      "needs_background": "light"
     },
     "output_type": "display_data"
    },
    {
     "name": "stdout",
     "output_type": "stream",
     "text": [
      "y(b, h) = 0.8783483112778228 h =  -3.7000000000000037\n"
     ]
    }
   ],
   "source": [
    "mid = 0\n",
    "while abs(y_u - y_d) >= 0.001:\n",
    "    dh = (h_u - h_l)/2\n",
    "    h = h_l + dh\n",
    "    solution = integrate.odeint(dydt, [4,h], np.arange(a, b, step))\n",
    "    if(solution[-1,0] > y_b):\n",
    "        h_u = h\n",
    "        y_u = solution[-1,0]\n",
    "    else:\n",
    "        h_l = h\n",
    "        y_d = solution[-1,0]\n",
    "\n",
    "p = plt.plot(np.arange(a, b, step), solution[:, 0])\n",
    "plt.show()\n",
    "print(\"y(b, h) =\", solution[-1,0], \"h = \", h)   "
   ]
  },
  {
   "cell_type": "markdown",
   "id": "bef6e85f",
   "metadata": {},
   "source": [
    "## Выводы\n",
    "\n",
    "Была решена краевая задача для уравнения II-го порядка путём многократного решения задачи Коши. Было найдено значение $ h = -3.7000000000000037$ "
   ]
  },
  {
   "cell_type": "code",
   "execution_count": null,
   "id": "4b17eb64",
   "metadata": {},
   "outputs": [],
   "source": []
  }
 ],
 "metadata": {
  "kernelspec": {
   "display_name": "Python 3 (ipykernel)",
   "language": "python",
   "name": "python3"
  },
  "language_info": {
   "codemirror_mode": {
    "name": "ipython",
    "version": 3
   },
   "file_extension": ".py",
   "mimetype": "text/x-python",
   "name": "python",
   "nbconvert_exporter": "python",
   "pygments_lexer": "ipython3",
   "version": "3.9.7"
  }
 },
 "nbformat": 4,
 "nbformat_minor": 5
}
