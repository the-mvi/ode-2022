{
 "cells": [
  {
   "cell_type": "markdown",
   "metadata": {},
   "source": [
    "# Практическая работа №1: Краевая задача для уравнения II-го порядка\n",
    "\n",
    "Выполнил студент гр. 9381 Худойбердыев Юсуф, вариант 16."
   ]
  },
  {
   "cell_type": "markdown",
   "metadata": {},
   "source": [
    "## Цель работы\n",
    "\n",
    "Научиться применять дифференциальные уравнения в различных областях, решать краевую задачу для уравнения II-го порядка путём многократного решения задачи Коши."
   ]
  },
  {
   "cell_type": "markdown",
   "metadata": {},
   "source": [
    "## Основные теоретические положения\n",
    "\n",
    "Обыкновенные дифференциальные уравнения (ОДУ) — это уравнения, зависящие от одной независимой переменной, имеющие вид\n",
    "\n",
    "$$ f(x, y, y', y'', \\dots, y^{(n)}) = 0, $$.\n",
    "\n",
    "Общим решением ОДУ является множество таких функций $y$: $ f(x, y, y', y'', \\dots, y^{(n)}) = 0 $.\n",
    "\n",
    "Задача Коши подразумевает поиск частного решения. Общий вид задачи Коши:\n",
    "\n",
    "\\begin{cases}\n",
    "    f(x, y, y', y'', \\dots, y^{(n)}) = 0 \\\\\n",
    "    y(x_0) = y_0 \\\\\n",
    "    y'(x_0) = y_1 \\\\\n",
    "    y''(x_0) = y_2 \\\\\n",
    "    \\dots \\\\\n",
    "    y^{(n-1)}(x_0) = y_{n-1}\n",
    "\\end{cases}\n",
    "\n",
    "В рамках данной работы рассматривается дифференциальное уравнение второго порядка:\n",
    "\n",
    "### $\\displaystyle{y''=f(x,y)}$"
   ]
  },
  {
   "cell_type": "markdown",
   "metadata": {},
   "source": [
    "### Постановка задачи\n",
    "\n",
    "Дано дифференциальное уравнение:\n",
    "\n",
    "$\\displaystyle{y''=2^x+3^y, 0<x<2}$\n",
    "\n",
    "и граничные условия:\n",
    "\n",
    "$\\displaystyle{y(0)=1,y(2)=-2}$\n",
    "\n",
    "Требуется найти решение задачи и построить его график.\n",
    "\n",
    "Рассмотрим задачу Коши для уравнения с начальными условиями:\n",
    "\n",
    "$\\displaystyle{y(0) = 1, y'(0) = h}$\n",
    "\n",
    "План решения основан на многократном решении задачи Коши. Значение решения задачи Коши при $\\displaystyle{x=2}$ является функцией от $\\displaystyle{h}$. Задача сводится к отысканию такого значения переменной $\\displaystyle{h}$, при котором выполнено условие на правом конце отрезка, т.е. должно выполняться:\n",
    "\n",
    "$\\displaystyle{y(2,h)=-2}$\n",
    "\n",
    "Это уравнение с одним неизвестным $\\displaystyle{h}$. Для его решения можно применить стандартный метод половинного деления."
   ]
  },
  {
   "cell_type": "markdown",
   "metadata": {},
   "source": [
    "## Выполнение работы\n",
    "\n",
    "*Многократно решаем задачу Коши при различных h:*\n",
    "\n",
    "$\\begin{cases}\n",
    "    y'' = 2^x+3^y \\\\\n",
    "    y(0) = 1 \\\\\n",
    "    y'(0) = h\n",
    "\\end{cases}$\n"
   ]
  },
  {
   "cell_type": "code",
   "execution_count": 5,
   "metadata": {},
   "outputs": [
    {
     "name": "stderr",
     "output_type": "stream",
     "text": [
      "C:\\ProgramData\\Anaconda3\\lib\\site-packages\\scipy\\integrate\\odepack.py:247: ODEintWarning: Excess work done on this call (perhaps wrong Dfun type). Run with full_output = 1 to get quantitative information.\n",
      "  warnings.warn(warning_msg, ODEintWarning)\n"
     ]
    },
    {
     "name": "stdout",
     "output_type": "stream",
     "text": [
      "Вилка: h in [-3.5, -4.0]\n",
      "h = -3.909912109375\n",
      "y(b, h) = -1.9993986713988936\n"
     ]
    },
    {
     "data": {
      "image/png": "[encoded data removed]",
      "text/plain": [
       "<Figure size 432x288 with 1 Axes>"
      ]
     },
     "metadata": {
      "needs_background": "light"
     },
     "output_type": "display_data"
    }
   ],
   "source": [
    "from pylab import *\n",
    "from scipy.integrate import *\n",
    "\n",
    "def f(vec, x):\n",
    "    y, v = vec\n",
    "    return [v, 2**x + 3**y]\n",
    "\n",
    "y_a = 1\n",
    "y_b = -2\n",
    "h_0 = 0\n",
    "delta = 0.5\n",
    "\n",
    "x = linspace(0, 2, 100000)\n",
    "\n",
    "solve = odeint(f, [y_a, h_0], x)[: ,0]\n",
    "y_b_h = solve[-1]\n",
    "\n",
    "if abs(y_b_h - y_b) >= 0.001:\n",
    "    \n",
    "    sign_0 = sign(y_b - y_b_h)\n",
    "    h_left, h_right = None, None\n",
    "\n",
    "    h = h_0\n",
    "    for m in range(100):\n",
    "        h += delta\n",
    "        solve = odeint(f, [y_a, h], x)[: ,0]\n",
    "        y_b_h = solve[-1] \n",
    "        if sign(y_b - y_b_h) != sign_0: \n",
    "            h_left = h - delta\n",
    "            h_right = h\n",
    "            print(\"Вилка: h in [{}, {}]\".format(h_left, h_right))\n",
    "            break\n",
    "    if h_left == None: \n",
    "        h = h_0\n",
    "        for m in range(100):\n",
    "            h -= delta\n",
    "            solve = odeint(f, [y_a, h], x)[: ,0]\n",
    "            y_b_h = solve[-1] \n",
    "            if sign(y_b - y_b_h) != sign_0: \n",
    "                h_left = h + delta\n",
    "                h_right = h\n",
    "                print(\"Вилка: h in [{}, {}]\".format(h_left, h_right))\n",
    "                break\n",
    "    \n",
    "    if h_left == None: \n",
    "        print(\"\\n\\033[1mНет решений\\n\\033[0m\")\n",
    "    else: \n",
    "        solveLeft = odeint(f, [y_a, h_left], x)[: ,0] \n",
    "        solveRight = solve \n",
    "        \n",
    "        while abs(solveRight[-1] - solveLeft[-1]) >= 0.001: \n",
    "            \n",
    "            mid = (h_left + h_right) / 2 \n",
    "            solveMid = odeint(f, [y_a, mid], x)[: ,0] \n",
    "            \n",
    "            if sign(y_b - solveMid[-1]) == sign_0: \n",
    "                h_left = mid \n",
    "                solveLeft = solveMid\n",
    "            else: \n",
    "                h_right = mid\n",
    "                solveRight = solveMid\n",
    "    \n",
    "        plot(x, solveLeft)\n",
    "        xlabel('x')\n",
    "        ylabel('y')\n",
    "        grid()\n",
    "        print(\"h = {}\\ny(b, h) = {}\".format(h_left, solveLeft[-1]))\n",
    "\n",
    "else:\n",
    "    plot(x, solve)\n",
    "    xlabel('x')\n",
    "    ylabel('y')\n",
    "    grid()\n",
    "    print(\"h = {}\\ny(b, h) = {}\".format(h_0, solve[-1]))"
   ]
  },
  {
   "cell_type": "markdown",
   "metadata": {},
   "source": [
    "## Выводы\n",
    "\n",
    "В ходе практической работы была решена краевая задача для уравнения 2-ого порядка с использованием методов численного интегрирования с определенной точностью.\n",
    "\n",
    "Были получены следующие результаты:\n",
    "- $ h = -3.909912109375 $\n",
    "- $ f(b, h) = -1.9993986713988936 \\approx -2 = y_b$\n",
    "\n",
    "Значение $h$ было найдено с точностью до $0.001$."
   ]
  },
  {
   "cell_type": "code",
   "execution_count": null,
   "metadata": {},
   "outputs": [],
   "source": []
  }
 ],
 "metadata": {
  "kernelspec": {
   "display_name": "Python 3",
   "language": "python",
   "name": "python3"
  },
  "language_info": {
   "codemirror_mode": {
    "name": "ipython",
    "version": 3
   },
   "file_extension": ".py",
   "mimetype": "text/x-python",
   "name": "python",
   "nbconvert_exporter": "python",
   "pygments_lexer": "ipython3",
   "version": "3.8.5"
  }
 },
 "nbformat": 4,
 "nbformat_minor": 4
}
