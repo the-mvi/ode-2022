{
 "cells": [
  {
   "cell_type": "markdown",
   "id": "6f4b94d8",
   "metadata": {},
   "source": [
    "# Практическая работа №2: Исследование однородного линейного уравнения с периодическими коэффициентами.\n",
    "\n",
    "Выполнила студентка гр. 9382 Сорочина Мария, вариант 35."
   ]
  },
  {
   "cell_type": "markdown",
   "id": "023f030d",
   "metadata": {},
   "source": [
    "## Цель работы\n",
    "\n",
    "Изучение устойчивости однородного линейного уравнения с периодическими коэффициентами при t → +∞."
   ]
  },
  {
   "cell_type": "markdown",
   "id": "87c77ef0",
   "metadata": {},
   "source": [
    "## Основные теоретические положения\n",
    "\n",
    "Линейная однородная система с периодическими коэффициентами:\n",
    "\n",
    "$X'=A(t)X, \\quad A(t+T)=A(t), \\quad t \\geq 0 \\quad \\quad \\quad \\quad$     (1)\n",
    "\n",
    "$\\Phi(t)$ - ***фундаментальная матрица*** системы (1), т.е. ее столбцы – линейно независимые решения уравнения (1).\n",
    "\n",
    "Матрица $C$, удовлетворяющая условию $\\Phi(t+T)=\\Phi(t)C,$ $\\forall t \\geq 0$, называется ***основной*** для фундаментальной матрицы $\\Phi(t)$\n",
    "\n",
    "***Спектральным радиусом*** матрицы $A$ называется максимум модуля ее собственных чисел. $\\rho(A)=max|\\lambda_j|$ $0\\leq j\\leq n$"
   ]
  },
  {
   "cell_type": "markdown",
   "id": "83579335",
   "metadata": {},
   "source": [
    "## Постановка задачи\n",
    "\n",
    "Дано дифференциальное уравнение:\n",
    "\n",
    "$x′′ + a(p, t)x = 0, \\quad a(p, t) = p + b(t),\\quad b(t + T) = b(t)$,\n",
    "\n",
    "где p – параметр.\n",
    "\n",
    "Данное уравнение сводится к системе двух уравнений I-го порядка:\n",
    "\n",
    "$\\begin{cases}\n",
    "u'_1=u_2 \\quad \\quad \\quad (1)\\\\\n",
    "u'_2=-a(p,t)u_1\n",
    "\\end{cases}$\n",
    "\n",
    "\n",
    "(1)\n",
    "\n",
    "Здесь $u_1(t) = x(t)$, $u_2(t) = x′(t)$.\n",
    "\n",
    "Необходимо провести исследование устойчивости однородного линейного уравнения. Дальнейшие рассуждения применимы к любой линейной\n",
    "периодической системе, а не только к системе вида (1)."
   ]
  },
  {
   "cell_type": "markdown",
   "id": "5bdce3e4",
   "metadata": {},
   "source": [
    "## Выполнение работы\n",
    "\n",
    "$b(t)=|sin3t|$\n",
    "\n",
    "$T = \\frac{\\pi}{3}$"
   ]
  },
  {
   "cell_type": "code",
   "execution_count": 2,
   "id": "4b8ebe9a",
   "metadata": {},
   "outputs": [
    {
     "name": "stdout",
     "output_type": "stream",
     "text": [
      "8.850000000000003\n"
     ]
    },
    {
     "data": {
      "image/png": "[encoded data removed]",
      "text/plain": [
       "<Figure size 432x288 with 1 Axes>"
      ]
     },
     "metadata": {
      "needs_background": "light"
     },
     "output_type": "display_data"
    }
   ],
   "source": [
    "import numpy as np\n",
    "import math\n",
    "from scipy.integrate import odeint\n",
    "import matplotlib.pyplot as plt\n",
    "\n",
    "pArr = np.arange(0.1, 10.05, 0.05)\n",
    "T = math.pi/3\n",
    "step = T / 400\n",
    "t = np.arange(0, T, step)\n",
    "v1 = np.array([1, 0])\n",
    "v2 = np.array([0, 1])\n",
    "rArr = []\n",
    "\n",
    "for p in pArr:\n",
    "    f = lambda x, t1: [x[1], -(p + + math.fabs(math.sin(3*t1)))*x[0]]\n",
    "    U1 = odeint(f, v1, t)\n",
    "    U2 = odeint(f, v2, t)\n",
    "    C = np.array([U1[-1], U2[-1]])\n",
    "    r = np.max(np.abs(np.linalg.eigvals(C)))\n",
    "    rArr.append(r)\n",
    "    \n",
    "for i in range(len(rArr)):\n",
    "    if rArr[-1-i] > 1:\n",
    "        p0 = pArr[-i]\n",
    "        break\n",
    "        \n",
    "print(p0)\n",
    "\n",
    "plt.plot(pArr, rArr)\n",
    "plt.plot([p0, p0], [min(rArr), max(rArr)])\n",
    "plt.show()"
   ]
  },
  {
   "cell_type": "markdown",
   "id": "7e779437",
   "metadata": {},
   "source": [
    "$p_0 = 8.85$\n",
    "\n",
    "## Выводы.\n",
    "\n",
    "В ходе выполнения работы при помощи python была изучена устойчивость однородного линейного уравнения с периодическими коэффициентами."
   ]
  }
 ],
 "metadata": {
  "kernelspec": {
   "display_name": "Python 3 (ipykernel)",
   "language": "python",
   "name": "python3"
  },
  "language_info": {
   "codemirror_mode": {
    "name": "ipython",
    "version": 3
   },
   "file_extension": ".py",
   "mimetype": "text/x-python",
   "name": "python",
   "nbconvert_exporter": "python",
   "pygments_lexer": "ipython3",
   "version": "3.8.10"
  }
 },
 "nbformat": 4,
 "nbformat_minor": 5
}
