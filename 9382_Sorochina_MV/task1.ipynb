{
 "cells": [
  {
   "cell_type": "markdown",
   "id": "6f4b94d8",
   "metadata": {},
   "source": [
    "# Практическая работа №1: Краевая задача для уравнения II-го порядка.\n",
    "\n",
    "Выполнила студентка гр. 9382 Сорочина Мария, вариант 35."
   ]
  },
  {
   "cell_type": "markdown",
   "id": "023f030d",
   "metadata": {},
   "source": [
    "## Цель работы\n",
    "\n",
    "Научиться применять дифференциальные уравнения в различных областях, решать краевую задачу для уравнения II-го порядка путём многократного решения задачи Коши."
   ]
  },
  {
   "cell_type": "markdown",
   "id": "87c77ef0",
   "metadata": {},
   "source": [
    "## Основные теоретические положения\n",
    "\n",
    "### Задача Коши.\n",
    "\n",
    "Данная задача подразумевает собой поиск частного решения уравнения $y = \\phi(x)$ из числа общих, удовлетворяющим некоторым условиям. Общий вид задачи Коши:\n",
    "\n",
    "$\\begin{cases}\n",
    "f(x,y,y',...,y^{(n)})\\\\\n",
    "y(x_0)=y_0\\\\\n",
    "y'(x_0)=y_1\\\\\n",
    ".\\\\\n",
    ".\\\\\n",
    ".\\\\\n",
    "y^{(n-1)}(x_0)=y_{n-1}\n",
    "\\end{cases}$\n",
    "\n"
   ]
  },
  {
   "cell_type": "markdown",
   "id": "83579335",
   "metadata": {},
   "source": [
    "## Постановка задачи\n",
    "\n",
    "Дано дифференциальное уравнение:\n",
    "\n",
    "$y'' = f(x, y), a < x < b$ (1)\n",
    "\n",
    "и граничные условия\n",
    "\n",
    "$y(a) = y_a, y(b) = y_b.$ (2)\n",
    "\n",
    "Требуется найти решение задачи (1)-(2) и построить его график.\n",
    "\n",
    "Рассмотрим задачу Коши для уравнения (1) с начальными условиями\n",
    "\n",
    "$y(a)=y_a$ $y'(a) = h.$ (3)\n",
    "\n",
    "План решения основан на многократном решении задачи Коши (1), (3).\n",
    "Значение решения задачи Коши при $x=b$ является функцией от h.\n",
    "\n",
    "Задача сводится к отысканию такого значения переменной h, при котором выполнено условие на правом конце отрезка, т.е. должно выполняться\n",
    "\n",
    "$y(b,h)=y_b$ (4)\n",
    "\n",
    "Это уравнение с одним неизвестным h.\n",
    "\n",
    "Для его решения можно применить стандартный метод половинного\n",
    "деления."
   ]
  },
  {
   "cell_type": "markdown",
   "id": "5bdce3e4",
   "metadata": {},
   "source": [
    "## Выполнение работы\n",
    "\n",
    "$f(x,y)=ln(x+1)*y^2$\n",
    "\n",
    "$y_0 = 1, \\quad y_2 = 2$\n",
    "\n",
    "Пусть $h_0 = 0$"
   ]
  },
  {
   "cell_type": "code",
   "execution_count": 1,
   "id": "4b8ebe9a",
   "metadata": {},
   "outputs": [
    {
     "name": "stdout",
     "output_type": "stream",
     "text": [
      "y(b,0) = 2.110631590352486\n"
     ]
    },
    {
     "data": {
      "text/plain": [
       "[<matplotlib.lines.Line2D at 0x7f6b1a8b6f70>]"
      ]
     },
     "execution_count": 1,
     "metadata": {},
     "output_type": "execute_result"
    },
    {
     "data": {
      "image/png": "[encoded data removed]",
      "text/plain": [
       "<Figure size 432x288 with 1 Axes>"
      ]
     },
     "metadata": {
      "needs_background": "light"
     },
     "output_type": "display_data"
    }
   ],
   "source": [
    "import numpy as np\n",
    "from scipy.integrate import odeint\n",
    "import matplotlib.pyplot as plt\n",
    "\n",
    "a = 0\n",
    "b = 2\n",
    "ya = 1\n",
    "yb = 2\n",
    "h0 = 0\n",
    "step = 0.01\n",
    "\n",
    "def f(y, x):\n",
    "    return [y[1], np.log(x+1)*y[0]]\n",
    "\n",
    "solve = odeint(f, [ya, h0],  np.arange(a, b, step))\n",
    "print(\"y(b,0) =\", solve[-1, 0])\n",
    "plt.axhline(y=2, linestyle='--')\n",
    "plt.plot(np.arange(a, b, step), solve[:,0])"
   ]
  },
  {
   "cell_type": "markdown",
   "id": "7e779437",
   "metadata": {},
   "source": [
    "y(b,0) = 2.110631590352486\n",
    "\n",
    "$y(b,0) > y_b$"
   ]
  },
  {
   "cell_type": "code",
   "execution_count": 2,
   "id": "ad21b8b1",
   "metadata": {},
   "outputs": [
    {
     "name": "stdout",
     "output_type": "stream",
     "text": [
      "y(b, h_m) = 1.9914773080015842 , h_m = -0.04 , h_m-1 = -0.03\n"
     ]
    }
   ],
   "source": [
    "delta = -0.01\n",
    "ybh = solve[-1, 0]\n",
    "hm = h0\n",
    "\n",
    "\n",
    "while ybh > yb:\n",
    "    hm += delta\n",
    "    solve = odeint(f, [ya, hm],  np.arange(a, b, step))\n",
    "    ybh = solve[-1, 0]\n",
    "    #print(ybh)\n",
    "    \n",
    "print(\"y(b, h_m) =\", ybh, \", h_m =\", hm, \", h_m-1 =\", hm-delta)\n",
    "    "
   ]
  },
  {
   "cell_type": "markdown",
   "id": "35558220",
   "metadata": {},
   "source": [
    "y(b, h_m) = 1.9914773080015842 , h_m = -0.04 , h_m-1 = -0.03\n",
    "\n",
    "Искомое значение попало в промежуток (-0.03, -0.04 )"
   ]
  },
  {
   "cell_type": "code",
   "execution_count": 3,
   "id": "9b08d50c",
   "metadata": {
    "scrolled": true
   },
   "outputs": [
    {
     "name": "stdout",
     "output_type": "stream",
     "text": [
      "2.021265878282879 \t 2.020334985458899\n",
      "-0.0303125\n"
     ]
    }
   ],
   "source": [
    "hm1 = hm-delta\n",
    "ym = ybh\n",
    "ym1 = odeint(f, [ya, hm1],  np.arange(a, b, step))[-1,0]\n",
    "M = 100\n",
    "\n",
    "while abs(ym-ym1) > 0.001 and M > 0:\n",
    "    M -= 1\n",
    "    center = (hm + hm1) / 2\n",
    "    newY = odeint(f, [ya, center],  np.arange(a, b, step))[-1,0]\n",
    "    #print(hm1, hm, newY, ym1, ym)\n",
    "    if newY <= ym1 and newY <= yb:\n",
    "        ym1 = newY\n",
    "        hm1 = center\n",
    "    else:\n",
    "        ym = newY\n",
    "        hm = center\n",
    "        \n",
    "print(ym1, \"\\t\", ym)\n",
    "print(center)"
   ]
  },
  {
   "cell_type": "markdown",
   "id": "48cbba69",
   "metadata": {},
   "source": [
    "2.021265878282879 \t$\\quad$   2.020334985458899 \n",
    "\n",
    "h = -0.0303125\n",
    "\n",
    "\n",
    "## Выводы.\n",
    "\n",
    "В ходе выполнения работы при помощи python была решена краевая задача для уравнения второго порядка путем многократного решения задачи Коши."
   ]
  }
 ],
 "metadata": {
  "kernelspec": {
   "display_name": "Python 3 (ipykernel)",
   "language": "python",
   "name": "python3"
  },
  "language_info": {
   "codemirror_mode": {
    "name": "ipython",
    "version": 3
   },
   "file_extension": ".py",
   "mimetype": "text/x-python",
   "name": "python",
   "nbconvert_exporter": "python",
   "pygments_lexer": "ipython3",
   "version": "3.8.10"
  }
 },
 "nbformat": 4,
 "nbformat_minor": 5
}
