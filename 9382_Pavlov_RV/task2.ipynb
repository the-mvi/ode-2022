{
 "cells": [
  {
   "cell_type": "markdown",
   "id": "9b76351c",
   "metadata": {},
   "source": [
    "# Практическая работа №2: Исследование однородного линейного уравнения с периодическими коэффициентами\n",
    "\n",
    "Выполнил студент гр. 9382 Павлов Роман, вариант 28."
   ]
  },
  {
   "cell_type": "markdown",
   "id": "bdd0dc1b",
   "metadata": {},
   "source": [
    "## Цель работы\n",
    "\n",
    "Изучение устойчивости однородного линейного уравнения с периодическими коэффициентами при $t \\to \\infty$."
   ]
  },
  {
   "cell_type": "markdown",
   "id": "ba76abbf",
   "metadata": {},
   "source": [
    "## Основные теоретические положения\n",
    "\n",
    "Линейная однородная система с периодическими коэффициентами - это система ОЛДУ следующего вида:\n",
    "\n",
    "$X' = A(t)X,\\ A(t + T) = A(t), t \\ge 0$\n",
    "(1)\n",
    "\n",
    "Матрица\\\n",
    "$\\Phi(t) = \\{\\phi_{ij}, i, j = 1, 2, ..., n \\}$\\\n",
    "называется <b>фундаментальной матрицей</b> системы (1), если все её столбцы являются линейно независимыми решениями этой системы.\n",
    "\n",
    "Матрица $C$, удовлетворяющая условию\\\n",
    "$\\Phi(t + T) = \\Phi(t)C, \\forall t \\ge 0$,\\\n",
    "называется <b>основной</b> для фундаментальной матрицы $\\Phi(t)$.\n",
    "\n",
    "<b>Спектральным радиусом</b> матрицы $A$ называется максимум модуля её собственных чисел:\\\n",
    "$\\rho(A) = max|\\lambda_j|, 0 \\le j \\le n$"
   ]
  },
  {
   "cell_type": "markdown",
   "id": "99a8b950",
   "metadata": {},
   "source": [
    "## Постановка задачи\n",
    "\n",
    "Дано дифференциальное уравнение:\\\n",
    "$x'' + a(p, t)x = 0, a(p, t) = p + b(t), b(t + T) = b(t)$,\\\n",
    "где $p$ – параметр.\n",
    "\n",
    "Данное уравнение сводится к системе двух уравнений $1$-го порядка:\\\n",
    "$\\begin{cases}\n",
    "    u_1' = u_2\\\\\n",
    "    u_2' = -a(p, t)u_1\n",
    " \\end{cases}$\n",
    " \n",
    "Здесь $u_1(t) = x(t), u_2(t) = x'(t)$.\n",
    "\n",
    "Необходимо провести исследование устойчивости однородного линейного уравнения."
   ]
  },
  {
   "cell_type": "markdown",
   "id": "d8460ab2",
   "metadata": {},
   "source": [
    "## Выполнение работы"
   ]
  },
  {
   "cell_type": "code",
   "execution_count": 1,
   "id": "1b86ed77",
   "metadata": {},
   "outputs": [],
   "source": [
    "import numpy as np\n",
    "import matplotlib.pyplot as pt\n",
    "from scipy.integrate import odeint\n",
    "from math import pi, sin, cos"
   ]
  },
  {
   "cell_type": "markdown",
   "id": "6f9e873c",
   "metadata": {},
   "source": [
    "Реализованный ниже алгоритм проходит по всем значениям $p$ от $0$ до $20$ с шагом $0.05$, и для каждого такого значения находится фундаментальная матрица, из которой впоследствии будут получены столбцы основной матрицы. Наибольшее по модулю собственное число основной матрицы - это и есть её спектральный радиус.\n",
    "\n",
    "По значениям спектральных радиусов строится график, из которого видно, в какой точке находится граница между зоной устойчивости и зоной неустойчивости системы."
   ]
  },
  {
   "cell_type": "code",
   "execution_count": 2,
   "id": "352de36e",
   "metadata": {},
   "outputs": [
    {
     "name": "stdout",
     "output_type": "stream",
     "text": [
      "p0: 8.4\n"
     ]
    },
    {
     "data": {
      "image/png": "[encoded data removed]",
      "text/plain": [
       "<Figure size 1296x720 with 1 Axes>"
      ]
     },
     "metadata": {
      "needs_background": "light"
     },
     "output_type": "display_data"
    }
   ],
   "source": [
    "pRange = np.arange(0.0, 20.0, 0.05)\n",
    "pVals = []\n",
    "p0 = None\n",
    "\n",
    "v1 = [1, 0]\n",
    "v2 = [0, 1]\n",
    "\n",
    "T = pi/3\n",
    "t = np.arange(0.0, T, T/500)\n",
    "\n",
    "# Построение графика спектрального радиуса\n",
    "for p in pRange:\n",
    "    # Система уравнений\n",
    "    u_sol = lambda x, dt: [x[1], -(p + cos(sin(3*dt)))*x[0]]\n",
    "    # Столбцы фундаментальной матрицы\n",
    "    u1 = odeint(u_sol, v1, t)\n",
    "    u2 = odeint(u_sol, v2, t)\n",
    "    # Основная матрица\n",
    "    C = np.matrix([u1[-1], u2[-1]]).transpose()\n",
    "    # Спектральный радиус\n",
    "    sr = np.max(np.abs(np.linalg.eigvals(C)))\n",
    "    \n",
    "    pVals.append(sr)\n",
    "\n",
    "# Поиск точки p0\n",
    "for i in range(len(pVals)):\n",
    "    if pVals[-1-i] > 1:\n",
    "        p0 = pRange[-i]\n",
    "        break\n",
    "\n",
    "print(\"p0:\", p0)\n",
    "pVals = np.array(pVals)\n",
    "\n",
    "pt.figure(figsize=(18, 10))\n",
    "pt.plot(pRange, pVals, label=\"r(p)\")\n",
    "pt.plot([p0, p0], [1.0, 1.02], color=\"red\", label=\"p0\")\n",
    "pt.legend(prop = {\"size\": 16})\n",
    "pt.show()"
   ]
  },
  {
   "cell_type": "markdown",
   "id": "d3b394db",
   "metadata": {},
   "source": [
    "## Выводы\n",
    "\n",
    "В ходе работы ОЛДУ с периодическими коэффициентами исследовано на устойчивость. Найдена граница между зонами устойчивости и неустойчивости."
   ]
  }
 ],
 "metadata": {
  "kernelspec": {
   "display_name": "Python 3 (ipykernel)",
   "language": "python",
   "name": "python3"
  },
  "language_info": {
   "codemirror_mode": {
    "name": "ipython",
    "version": 3
   },
   "file_extension": ".py",
   "mimetype": "text/x-python",
   "name": "python",
   "nbconvert_exporter": "python",
   "pygments_lexer": "ipython3",
   "version": "3.8.10"
  }
 },
 "nbformat": 4,
 "nbformat_minor": 5
}
