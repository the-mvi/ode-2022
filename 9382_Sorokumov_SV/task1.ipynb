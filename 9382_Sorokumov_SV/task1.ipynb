{
 "cells": [
  {
   "cell_type": "markdown",
   "metadata": {},
   "source": [
    "# Практическая работа №1: Краевая задача для уравнения II-го порядка.\n",
    "\n",
    "Выполнил студент гр. 9382 Сорокумов Сергей, вариант 34."
   ]
  },
  {
   "cell_type": "markdown",
   "metadata": {},
   "source": [
    "## Цель работы\n",
    "\n",
    "Научиться применять дифференциальные уравнения в различных областях, решать краевую задачу для уравнения II-го порядка путём многократного решения задачи Коши."
   ]
  },
  {
   "cell_type": "markdown",
   "metadata": {},
   "source": [
    "## Основные теоретические положения\n",
    "\n",
    "Задaча Коши состоит в нахождении решения дифференциального уравнения, удовлетворяющего так называемым начальным условиям.\n",
    "<br>Система ОДУ n-го порядка:\n",
    "\\begin{cases}\n",
    "   y^{(n)} = f(x, y, ..., y^{(n-1)}) \\\\\n",
    "   y(x_0) = y_{01} \\\\\n",
    "   ... \\\\\n",
    "   y^{(n-1)}(x_0) = y_{0n}\n",
    " \\end{cases}\n",
    " \n",
    " \n",
    "Краевая задача — задача о нахождении решения заданного дифференциального уравнения, удовлетворяющего краевым условиям в концах интервала или на границе области."
   ]
  },
  {
   "cell_type": "markdown",
   "metadata": {},
   "source": [
    "## Постановка задачи\n",
    "\n",
    "Дано дифференциальное уравнение:\n",
    "\n",
    "$$ y''=f(x, y), \\ a<x<b \\ \\  (1)$$ \n",
    "и граничные условия\n",
    "$$y(a) = y_a, \\ y(b)=y_b  \\ \\ (2)$$\n",
    "Требуется найти решение задачи (1)-(2) и построить его график.\n",
    "<br>Рассмотрим задачу Коши для уравнения (1) с начальными условиями\n",
    "\n",
    "$$y(a) = y_a, \\ y'(a) = h \\ \\ (3)$$\n",
    "План решения основан на многократном решении задачи Коши (1), (3).\n",
    "<br>Значение решения задачи Коши при x = b является функцией от h.\n",
    "<br>Задача сводится к отысканию такого значения переменной h, при котором выполнено условие на правом конце отрезка, т.е. должно выполняться\n",
    "$$y(b,h)=y_b \\ \\ (4)$$\n",
    "Это уравнение с одним неизвестным h.\n",
    "<br>Для его решения можно применить стандартный метод половинного\n",
    "деления."
   ]
  },
  {
   "cell_type": "markdown",
   "metadata": {},
   "source": [
    "## Выполнение работы\n"
   ]
  },
  {
   "cell_type": "markdown",
   "metadata": {},
   "source": [
    "$$a=0, \\ \\ b=2 $$\n",
    "$$y'' = \\sqrt{|2+xy|}$$\n",
    "$$y(0)=3, \\ \\ y(2)=4 $$\n",
    "\n",
    "В терминах задачи коши, данныем будут выглядеть:\n",
    "$$\\begin{cases}\n",
    "   y'' = \\sqrt{|2+xy|} \\\\ \n",
    "   y(0) = 3 \\\\\n",
    "   y'(0) = h\n",
    " \\end{cases}$$"
   ]
  },
  {
   "cell_type": "code",
   "execution_count": 53,
   "metadata": {},
   "outputs": [],
   "source": [
    "import numpy as np\n",
    "import matplotlib.pyplot as plt\n",
    "from scipy.integrate import odeint\n",
    "import random"
   ]
  },
  {
   "cell_type": "code",
   "execution_count": 93,
   "metadata": {},
   "outputs": [],
   "source": [
    "a = 0\n",
    "y_a = 3\n",
    "b = 2\n",
    "y_b = 4\n",
    "eps = 0.001\n",
    "x = np.arange(a, b, eps)"
   ]
  },
  {
   "cell_type": "code",
   "execution_count": 94,
   "metadata": {},
   "outputs": [],
   "source": [
    "def d2(y, x):\n",
    "    return[y[1], np.sqrt(np.abs(2+ y[0]*x))]"
   ]
  },
  {
   "cell_type": "code",
   "execution_count": 109,
   "metadata": {},
   "outputs": [
    {
     "name": "stdout",
     "output_type": "stream",
     "text": [
      "h = 5\n",
      "y(b, h) = 18.310328323278018\n"
     ]
    },
    {
     "data": {
      "image/png": "[encoded data removed]",
      "text/plain": [
       "<Figure size 432x288 with 1 Axes>"
      ]
     },
     "metadata": {
      "needs_background": "light"
     },
     "output_type": "display_data"
    }
   ],
   "source": [
    "h = 5\n",
    "res_val = None\n",
    "res_h = None\n",
    "abs_val = np.inf\n",
    "\n",
    "tmp_val = odeint(d2, [y_a, h], x)\n",
    "if (abs_val > np.abs(tmp_val[-1, 0]-y_b)):\n",
    "    res_val = tmp_val\n",
    "    res_h = h\n",
    "    abs_val = np.abs(tmp_val[-1, 0]-y_b)\n",
    "        \n",
    "values = res_val\n",
    "\n",
    "plt.plot(x, values[:,0])\n",
    "print(f'h = {h}')\n",
    "print(f'y(b, h) = {values[-1, 0]}')"
   ]
  },
  {
   "cell_type": "markdown",
   "metadata": {},
   "source": [
    "Шаг $\\Delta{h} = -0.1$ \n",
    "<br>Решаем до тех пор пока $y_b > f(b, h_0)$"
   ]
  },
  {
   "cell_type": "code",
   "execution_count": 133,
   "metadata": {},
   "outputs": [
    {
     "name": "stdout",
     "output_type": "stream",
     "text": [
      "4\n",
      "18.310328323278018\n",
      "5\n",
      "4.5\n",
      "4.0\n",
      "3.5\n",
      "3.0\n",
      "2.5\n",
      "2.0\n",
      "1.5\n",
      "1.0\n",
      "0.5\n",
      "0.0\n",
      "-0.5\n",
      "-1.0\n",
      "h_m-1=-1.5, f(a, h_m-1) = 3.788510590637787\n",
      "h_m = -1.0, f(a, h_m) =4.938900733883821\n"
     ]
    },
    {
     "data": {
      "image/png": "[encoded data removed]",
      "text/plain": [
       "<Figure size 432x288 with 1 Axes>"
      ]
     },
     "metadata": {
      "needs_background": "light"
     },
     "output_type": "display_data"
    }
   ],
   "source": [
    "delta = -0.5\n",
    "tmp_h = h\n",
    "tmp_y = values[-1, 0]\n",
    "tmp_val = values\n",
    "print(y_b)\n",
    "print(tmp_val[-1, 0])\n",
    "while y_b < tmp_val[-1, 0]:\n",
    "    print(tmp_h)\n",
    "    tmp_h += delta\n",
    "    tmp_val = odeint(d2, [y_a, tmp_h], x)\n",
    "plt.plot(x, values[:,0])\n",
    "plt.plot(x, tmp_val[:,0])\n",
    "print(f'h_m-1={tmp_h}, f(a, h_m-1) = {tmp_val[-1, 0]}')\n",
    "print(f'h_m = {tmp_h+0.5}, f(a, h_m) ={odeint(d2, [y_a, tmp_h+0.5], x)[-1, 0]}')\n",
    "\n",
    "upH = tmp_h+0.5\n",
    "upY = odeint(d2, [y_a, tmp_h+0.5], x)[-1, 0]\n",
    "lH = tmp_h\n",
    "lY = tmp_val[-1, 0]"
   ]
  },
  {
   "cell_type": "markdown",
   "metadata": {},
   "source": [
    "Методом половинного деления к уравнению (4), остановим процесс, когда выполнится неравенство $|y(b, h_m)-y(b, h_{m-1})|< 0.001$ или количество шагов будет больше 100"
   ]
  },
  {
   "cell_type": "code",
   "execution_count": 134,
   "metadata": {},
   "outputs": [
    {
     "name": "stdout",
     "output_type": "stream",
     "text": [
      "Значение h находится в интервале [-1.5, -1.499755859375], значение функции в интервале [3.788510590637787, 3.789074857645796]\n"
     ]
    },
    {
     "data": {
      "text/plain": [
       "[<matplotlib.lines.Line2D at 0x7fdabb558430>]"
      ]
     },
     "execution_count": 134,
     "metadata": {},
     "output_type": "execute_result"
    },
    {
     "data": {
      "image/png": "[encoded data removed]",
      "text/plain": [
       "<Figure size 432x288 with 1 Axes>"
      ]
     },
     "metadata": {
      "needs_background": "light"
     },
     "output_type": "display_data"
    }
   ],
   "source": [
    "step = 0\n",
    "while np.abs(upY - lY) >= eps and step < 100:\n",
    "    step += 1\n",
    "    mH = (upH+lH)/2\n",
    "    res_val = odeint(d2, [y_a, (h+mH)/2], x)\n",
    "    if (res_val[-1, 0] > 4):\n",
    "        upH = mH\n",
    "        upY = odeint(d2, [y_a, upH], x)[-1, 0]\n",
    "    else:\n",
    "        lH = mH\n",
    "        lY = odeint(d2, [y_a, lH], x)[-1, 0]\n",
    "        \n",
    "print(f'Значение h находится в интервале {[lH, upH]}, значение функции в интервале {[lY, upY]}')\n",
    "plt.plot(x, values[:,0])\n",
    "plt.plot(x, tmp_val[:,0])\n",
    "plt.plot(x, res_val[:,0])"
   ]
  },
  {
   "cell_type": "markdown",
   "metadata": {},
   "source": [
    "## Выводы\n",
    "\n",
    "В ходе выполнения работы была решена краевая задача для уравнения II-го порядка путём многократного решения задачи Коши.\n",
    "<br>Решение задачи - 3.788510590637787"
   ]
  },
  {
   "cell_type": "code",
   "execution_count": null,
   "metadata": {},
   "outputs": [],
   "source": []
  }
 ],
 "metadata": {
  "kernelspec": {
   "display_name": "Python 3",
   "language": "python",
   "name": "python3"
  },
  "language_info": {
   "codemirror_mode": {
    "name": "ipython",
    "version": 3
   },
   "file_extension": ".py",
   "mimetype": "text/x-python",
   "name": "python",
   "nbconvert_exporter": "python",
   "pygments_lexer": "ipython3",
   "version": "3.8.5"
  }
 },
 "nbformat": 4,
 "nbformat_minor": 4
}
