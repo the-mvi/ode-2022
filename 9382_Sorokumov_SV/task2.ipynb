{
 "cells": [
  {
   "cell_type": "markdown",
   "metadata": {},
   "source": [
    "# Практическая работа №2: Исследование однородного линейного уравнения с периодическими коэффициентами.\n",
    "\n",
    "Выполнил студент гр. 9382 Сорокумов Сергей, вариант 34."
   ]
  },
  {
   "cell_type": "markdown",
   "metadata": {},
   "source": [
    "# Цель работы\n",
    "Изучение устойчивости однородного линейного уравнения с периодическими коэффициентами при 𝑡 → +∞."
   ]
  },
  {
   "cell_type": "markdown",
   "metadata": {},
   "source": [
    "# Основные теоретические положения\n",
    "\n",
    "Линейная однородная система с периодическими коэффициентами - это система ОЛДУ следующего вида:\n",
    "$$ X'=A(t)X, A(t+T)=A(t), t\\geqslant0$$\n",
    "Матрица $\\Phi(t)=\\{\\phi_{ij}, i,j=1,2,...,n\\}$ называется фундаментальной матрицей системы , если все её столбцы являются линейно независимыми решениями этой системы.\n",
    "<br>\n",
    "Матрица $C$ , удовлетворяющая условию $\\Phi(t+T)=\\Phi(t)C, \\forall t \\geqslant0$, называется основной для фундаментальной матрицы $\\Phi(t)$.\n",
    "<br>\n",
    "Спектральным радиусом матрицы $A$ называется максимум модуля её собственных чисел: $\\rho (A)=max |\\lambda_i|, 0 \\leqslant t \\leqslant n$"
   ]
  },
  {
   "cell_type": "markdown",
   "metadata": {},
   "source": [
    "# Постановка задачи\n",
    "Дано дифференциальное уравнение:\n",
    "$$x''+a(p,t)x=0, a(p,t)=p+b(t), b(t+T)=b(t),$$\n",
    "где $p$ - параметр.\n",
    "<br>\n",
    "Данное уравнение сводится к системе двух уравнений I-го порядка:\n",
    "\\begin{equation}\n",
    "    \\begin{cases}\n",
    "      u_1'=u_2,\\\\\n",
    "      u_2'=-a(p,t)u_1;\n",
    "    \\end{cases}\\,\n",
    "\\end{equation}\n",
    "Здесь $u_1(t)=x(t), u_2(t)=x'(t).$\n",
    "<br>\n",
    "Необходимо провести исследование устойчивости однородного линейного уравнения. Дальнейшие рассуждения применимы к любой линейной периодической системе, а не только к системе вида."
   ]
  },
  {
   "cell_type": "markdown",
   "metadata": {},
   "source": [
    "# Выполнение работы"
   ]
  },
  {
   "cell_type": "markdown",
   "metadata": {},
   "source": [
    "Используемые библиотеки:"
   ]
  },
  {
   "cell_type": "code",
   "execution_count": 1,
   "metadata": {},
   "outputs": [],
   "source": [
    "import numpy as np\n",
    "from scipy.integrate import odeint\n",
    "from matplotlib import pyplot as plt"
   ]
  },
  {
   "cell_type": "markdown",
   "metadata": {},
   "source": [
    " Задаем массив значений параметра $𝑝$, начальные вектора $V_1$ и $V_2$"
   ]
  },
  {
   "cell_type": "code",
   "execution_count": 2,
   "metadata": {},
   "outputs": [],
   "source": [
    "p_range = np.arange(0, 20, 0.05)\n",
    "t_range = (-1, 1)\n",
    "V1 = (1, 0)\n",
    "V2 = (0, 1)\n",
    "r = []\n",
    "p_0 = None"
   ]
  },
  {
   "cell_type": "markdown",
   "metadata": {},
   "source": [
    "Вычисляем значение фундаментальной матрицы системы  при\n",
    "$𝑡 = 𝑇$ с помощью любой программы численного решения задачи\n",
    "Коши.\n",
    "Вычисляем собственные числа матрицы $𝐶$ и ее спектральный радиус,"
   ]
  },
  {
   "cell_type": "code",
   "execution_count": 3,
   "metadata": {},
   "outputs": [
    {
     "data": {
      "text/plain": [
       "18.75"
      ]
     },
     "execution_count": 3,
     "metadata": {},
     "output_type": "execute_result"
    }
   ],
   "source": [
    "for p in p_range:\n",
    "    mat = lambda  value, t : [value[1], -(p + 2*(np.cosh(2*t)))*value[0]]\n",
    "    u1 = odeint(mat, V1, t_range)\n",
    "    u2 = odeint(mat, V2, t_range)\n",
    "    C = np.matrix([u1[-1], u2[-1]]).transpose()\n",
    "    r.append(max(abs(np.linalg.eigvals(C))))\n",
    "\n",
    "    \n",
    "for i in range(len(r)):\n",
    "    if r[-1-i] > 1:\n",
    "        p_0 = p_range[-i]\n",
    "        break\n",
    "        \n",
    "r = np.array(r)\n",
    "p_0"
   ]
  },
  {
   "cell_type": "markdown",
   "metadata": {},
   "source": [
    "Построение графика"
   ]
  },
  {
   "cell_type": "code",
   "execution_count": 4,
   "metadata": {},
   "outputs": [
    {
     "data": {
      "image/png": "[encoded data removed]",
      "text/plain": [
       "<Figure size 432x288 with 1 Axes>"
      ]
     },
     "metadata": {
      "needs_background": "light"
     },
     "output_type": "display_data"
    }
   ],
   "source": [
    "plt.plot(p_range, r, label=\"r(p)\")\n",
    "plt.plot([p_0, p_0], [0.9, 1.1], label=\"p0\")\n",
    "plt.xlim(18.7, 18.8)\n",
    "plt.legend()\n",
    "plt.show()"
   ]
  },
  {
   "cell_type": "markdown",
   "metadata": {},
   "source": [
    "В ходе выполнения практической работы ОЛДУ с периодическими коэффициентами исследовано на устойчивость. Найдена граница между зонами устойчивости и неустойчивости равная $18.75$."
   ]
  }
 ],
 "metadata": {
  "kernelspec": {
   "display_name": "Python 3",
   "language": "python",
   "name": "python3"
  },
  "language_info": {
   "codemirror_mode": {
    "name": "ipython",
    "version": 3
   },
   "file_extension": ".py",
   "mimetype": "text/x-python",
   "name": "python",
   "nbconvert_exporter": "python",
   "pygments_lexer": "ipython3",
   "version": "3.8.5"
  }
 },
 "nbformat": 4,
 "nbformat_minor": 4
}
