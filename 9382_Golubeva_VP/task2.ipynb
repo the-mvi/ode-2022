{
 "cells": [
  {
   "cell_type": "markdown",
   "id": "4d2b1a1c",
   "metadata": {},
   "source": [
    "# Дифференциальные уравнения\n",
    "## Практическая работа №2\n",
    "Выполнила: Голубева В.П., группа 9382\n",
    "### Вариант 21\n",
    "Функция $b(t)=𝑡(2 − 𝑡)$ с периодом $𝑇 = 2$\n",
    "### Тема работы\n",
    "Исследование однородного линейного уравнения с периодическими коэффициентами.\n",
    "### Цель работы\n",
    "Изучение устойчивости однородного линейного уравнения с периодическими коэффициентами при $𝑡 → +∞$.\n",
    "### Постановка задачи\n",
    "Дано дифференциальное уравнение:\n",
    "$𝑥′′ + 𝑎(𝑝, 𝑡)𝑥 = 0, 𝑎(𝑝, 𝑡) = 𝑝 + 𝑏(𝑡), 𝑏(𝑡 + 𝑇 ) = 𝑏(𝑡)$,  \n",
    "где 𝑝 – параметр.\n",
    "Данное уравнение сводится к системе двух уравнений I-го порядка:\n",
    "\n",
    "$\\\\\n",
    "𝑢′_1 = 𝑢2, \\\\\n",
    "𝑢′2 = −𝑎(𝑝, 𝑡)𝑢1; \\ (1)$  \n",
    "\n",
    "Здесь $𝑢1(𝑡) = 𝑥(𝑡), 𝑢2(𝑡) = 𝑥′(𝑡)$.\n",
    "Необходимо провести исследование устойчивости однородного линейного уравнения. Дальнейшие рассуждения применимы к любой линейной периодической системе, а не только к системе вида (1).\n",
    "### Основные теоретические положения\n",
    "Система однородных линейных дифференциальных уравнений следующего вида $X' = A(t)X, A(t + T) = A(t), t >= 0$, называется линейной однородной системой с периодическими коэффициентами.  \n",
    "Фундаментальной матрицей такой системы называется матрица $\\phi(t)$, столбцы которой являются линейно независимыми решениями этой системы.  \n",
    "Основной матрицей для $\\phi(t)$ является матрица С такая, что $\\phi(t+T)=\\phi(t)C, \\forall t>=0$.  \n",
    "Спектральным радиусом матрицы $С$ является число $r(C)$ такое, что $r(C)=max_i(\\lambda _i)$, где $i$ - собственные значения матрицы С.\n",
    "\n",
    "### Решение"
   ]
  },
  {
   "cell_type": "code",
   "execution_count": 88,
   "id": "179cff23",
   "metadata": {},
   "outputs": [
    {
     "data": {
      "image/png": "[encoded data removed]",
      "text/plain": [
       "<Figure size 432x288 with 1 Axes>"
      ]
     },
     "metadata": {
      "needs_background": "light"
     },
     "output_type": "display_data"
    }
   ],
   "source": [
    "import numpy as np\n",
    "from scipy.integrate import odeint\n",
    "import matplotlib.pyplot as plt\n",
    "\n",
    "p = np.linspace(0.1, 5, 100)\n",
    "T = 2\n",
    "V1 = [1, 0]\n",
    "V2 = [0, 1]\n",
    "t_arr = np.linspace(0, T, 400)\n",
    "r_p = []\n",
    "\n",
    "for p_i in p:\n",
    "    sol = lambda x, t: [x[1], -(p_i + t*(2-t))*x[0]]\n",
    "    col1 = odeint(sol, V1, t_arr)\n",
    "    col2 = odeint(sol, V2, t_arr)\n",
    "    C = np.array([col1[-1], col2[-1]])\n",
    "    r_p.append(np.max(np.abs(np.linalg.eigvals(C))))\n",
    "r_p_len = len(r_p)\n",
    "p0 = None\n",
    "for r_p_i in range(r_p_len):\n",
    "    if abs(r_p[-r_p_i-1] - 1) > 0.001:\n",
    "        p0 = p[-r_p_i]\n",
    "        break\n",
    "plt.plot([p0, p0], [1, 1.15], label='p0')\n",
    "plt.plot(p, r_p, label='r(p)')\n",
    "plt.legend()\n",
    "plt.show()  "
   ]
  },
  {
   "cell_type": "markdown",
   "id": "567b9c24",
   "metadata": {},
   "source": [
    "Реализованный алгоритм для каждого значения масиива р находит фундаментальную матрицу. Из этой матрицы мы получаем столбцы основной матрицы, с помощью которой затем находим спектральный радиус. Затем мы вычисляем границу устойчивости системы и строим график, из которого хорошо видно эту границу. \n",
    "## Выводы\n",
    "В ходе выполнения работы была изучена устойчивость однородного линейного уравнения с периодическими коэффициентами при $𝑡 → +∞$. Была найдена граница зон устойчивости, а также построен график, наглядно показывающий, где она проходит."
   ]
  }
 ],
 "metadata": {
  "kernelspec": {
   "display_name": "Python 3 (ipykernel)",
   "language": "python",
   "name": "python3"
  },
  "language_info": {
   "codemirror_mode": {
    "name": "ipython",
    "version": 3
   },
   "file_extension": ".py",
   "mimetype": "text/x-python",
   "name": "python",
   "nbconvert_exporter": "python",
   "pygments_lexer": "ipython3",
   "version": "3.8.10"
  }
 },
 "nbformat": 4,
 "nbformat_minor": 5
}
