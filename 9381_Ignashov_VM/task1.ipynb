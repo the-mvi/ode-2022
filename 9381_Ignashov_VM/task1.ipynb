{
 "cells": [
  {
   "cell_type": "markdown",
   "metadata": {},
   "source": [
    "# Практическая работа №1: Краевая задача для уравнения II-го порядка\n",
    "\n",
    "Выполнил студент гр. 9381 Игнашов Вадим, вариант 5."
   ]
  },
  {
   "cell_type": "markdown",
   "metadata": {},
   "source": [
    "## Цель работы\n",
    "\n",
    "Научиться применять дифференциальные уравнения в различных областях, решать краевую задачу для уравнения II-го порядка путём многократного решения задачи Коши."
   ]
  },
  {
   "cell_type": "markdown",
   "metadata": {},
   "source": [
    "## Основные теоретические положения\n",
    "\n",
    "**Обыкновенное дифференциальное уравнение (ОДУ)** - дифференциальное уравнение для функции от одной переменной.\n",
    "\n",
    "$F(x,y,y',y'',...,y^{(n)})=0$, где $y(x)$ - неизвестная функция от переменной $x$\n",
    "\n",
    "**Задача Коши** - задача, состоящая в нахождении частного решения дифференциального уравнения, которое удовлетворяет\n",
    "некоторым начальным условиям. Общий вид задачи Коши:\n",
    "\n",
    "$\\begin{equation*}\n",
    " \\begin{cases}\n",
    "   f(x,y,y',y'',...,y^{(n)}) = 0\\\\\n",
    "   y(x_0)=y_0\\\\\n",
    "   y'(x_0)=y_1\\\\\n",
    "   y''(x_0)=y_2\\\\\n",
    "   ...\\\\\n",
    "   y^{(n-1)}(x_0)=y_{n-1}\n",
    " \\end{cases}\n",
    "\\end{equation*}\n",
    "$"
   ]
  },
  {
   "cell_type": "markdown",
   "metadata": {},
   "source": [
    "## Постановка задачи\n",
    "\n",
    "Дано дифференциальное уравнение:\n",
    "\n",
    "$y''=f(x,y), a<x<b$ (1)\n",
    "\n",
    "и граничные условия\n",
    "\n",
    "$y(a)=y_a, y(b)=y_b$ (2)\n",
    "\n",
    "Требуется найти решение задачи (1)-(2) и построить его график.\n",
    "Рассмотрим задачу Коши для уравнения (1) с начальными условиями\n",
    "\n",
    "$y(a)=y_a, y'(a)=h$ (3)\n",
    "\n",
    "План решения основан на многократном решении задачи Коши (1), (3). Значение решения задачи Коши при $x=b$ является функцией от $h$.\n",
    "\n",
    "Задача сводится к отысканию такого значения переменной $h$, при котором выполнено условие на правом конце отрезка, т.е. должно выполняться\n",
    "\n",
    "$y(b,h)=y_b$ (4)\n",
    "\n",
    "Это уравнение с одним неизвестным $h$.\n",
    "\n",
    "Для его решения можно применить стандартный метод половинного\n",
    "деления."
   ]
  },
  {
   "cell_type": "markdown",
   "metadata": {},
   "source": [
    "## Выполнение работы\n",
    "\n",
    "**Вариант №5**\n",
    "\n",
    "$y''=f(x,y) = 2^{-x}(x+y)$\n",
    "\n",
    "$a=0$\n",
    "\n",
    "$b=2$\n",
    "\n",
    "$y_a=4$\n",
    "\n",
    "$y_b=1$"
   ]
  },
  {
   "cell_type": "markdown",
   "metadata": {},
   "source": [
    "Если $y''=f(x,y)=2^{-x}(x+y)$, тогда пусть\n",
    "\n",
    "$\\begin{equation*}\n",
    " \\begin{cases}\n",
    "   y'=g(x,y)\\\\\n",
    "   g'=2^{-x}(x+y)\n",
    " \\end{cases}\n",
    "\\end{equation*}\n",
    "$\n",
    "\n",
    "Задачу Коши представим в виде системы:\n",
    "\n",
    "$\\begin{equation*}\n",
    " \\begin{cases}\n",
    "   y'=g(x,y)\\\\\n",
    "   g'=2^{-x}(x+y)\\\\\n",
    "   y(a)=y_a\\\\\n",
    "   y'(a)=h\n",
    " \\end{cases}\n",
    "\\end{equation*}$"
   ]
  },
  {
   "cell_type": "markdown",
   "metadata": {},
   "source": [
    "Подключим необходимые библиотеки, объявим переменные и определим функцию:"
   ]
  },
  {
   "cell_type": "code",
   "execution_count": 107,
   "metadata": {},
   "outputs": [],
   "source": [
    "from scipy import integrate \n",
    "import numpy as np\n",
    "import matplotlib.pyplot as plt\n",
    "\n",
    "a=0\n",
    "b=2\n",
    "y_a=4\n",
    "y_b=1\n",
    "\n",
    "def F(x, y):\n",
    "    return 2**(-x)*(x+y)"
   ]
  },
  {
   "cell_type": "markdown",
   "metadata": {
    "pycharm": {
     "name": "#%% md\n"
    }
   },
   "source": [
    "Зададим $h_0$, пусть $h_0=2$. Вычислим $y(b, h_0):$"
   ]
  },
  {
   "cell_type": "code",
   "execution_count": 108,
   "metadata": {
    "pycharm": {
     "name": "#%%\n"
    }
   },
   "outputs": [
    {
     "data": {
      "text/plain": "<Figure size 432x288 with 1 Axes>",
      "image/png": "[encoded data removed]"
     },
     "metadata": {
      "needs_background": "light"
     },
     "output_type": "display_data"
    },
    {
     "name": "stdout",
     "output_type": "stream",
     "text": [
      "b=2\n",
      "h_0=2\n",
      "y(2,2)=16.65377084265927\n"
     ]
    }
   ],
   "source": [
    "def D(y, t):\n",
    "    return [y[1], 2**(-t)*(t+y[0])]\n",
    "\n",
    "h_0 = 2\n",
    "res = integrate.odeint(D,[y_a, h_0], np.arange(a, b, 0.0001))\n",
    "\n",
    "plt.plot(np.arange(a,b,0.0001),res[:,0])\n",
    "plt.grid(True)\n",
    "plt.xlabel(\"x\")\n",
    "plt.show()\n",
    "\n",
    "print(f\"b={b}\\nh_0={h_0}\\ny({b},{h_0})={res[-1,0]}\")"
   ]
  },
  {
   "cell_type": "markdown",
   "metadata": {
    "pycharm": {
     "name": "#%% md\n"
    }
   },
   "source": [
    "$b=2$\n",
    "\n",
    "$h_0=2$\n",
    "\n",
    "$y(2,2)=16.65377084265927$\n",
    "\n",
    "\n",
    "Как мы видим, $y(b,h_0)>y_b$, задача не была решена, поэтому будем решать задачу Коши с $h = h+\\Delta h$, пока $y(b,h_n)>y_b$\n",
    ", и запоминать полученные правые и левые значения $h$\n",
    "\n",
    "Возьмем $\\Delta h=-0.01$"
   ]
  },
  {
   "cell_type": "code",
   "execution_count": 109,
   "metadata": {
    "pycharm": {
     "name": "#%%\n"
    }
   },
   "outputs": [
    {
     "data": {
      "text/plain": "<Figure size 432x288 with 1 Axes>",
      "image/png": "[encoded data removed]"
     },
     "metadata": {
      "needs_background": "light"
     },
     "output_type": "display_data"
    },
    {
     "name": "stdout",
     "output_type": "stream",
     "text": [
      "[-3.700000000000003, -3.6000000000000028]\n"
     ]
    }
   ],
   "source": [
    "h = h_0\n",
    "dh = -0.1\n",
    "h_right = h\n",
    "h_left = h\n",
    "\n",
    "while res[-1, 0] > y_b:\n",
    "    h_right = h\n",
    "    h = h+dh\n",
    "    h_left = h\n",
    "    res = integrate.odeint(D,[y_a, h], np.arange(a, b, 0.0001))\n",
    "\n",
    "plt.plot(np.arange(a,b,0.0001),res[:,0],c=\"purple\")\n",
    "plt.grid(True)\n",
    "plt.xlabel(\"x\")\n",
    "plt.show()\n",
    "\n",
    "print(f\"[{h_left}, {h_right}]\")"
   ]
  },
  {
   "cell_type": "markdown",
   "metadata": {},
   "source": [
    "$[-3.700000000000003, -3.6000000000000028]$\n",
    "\n",
    "Определили, что $h\\in[-3.7,-3.6]$. Воспользуемся методом половинного деления и определим значение\n",
    "$h$, при котором $y(b,h_0)=y_b$ с точностью\n",
    "\n",
    "$|y(b,h_n)-y(b,h_{n-1})|<0.001$"
   ]
  },
  {
   "cell_type": "code",
   "execution_count": 110,
   "metadata": {
    "pycharm": {
     "name": "#%%\n"
    }
   },
   "outputs": [
    {
     "data": {
      "text/plain": "<Figure size 432x288 with 1 Axes>",
      "image/png": "[encoded data removed]"
     },
     "metadata": {
      "needs_background": "light"
     },
     "output_type": "display_data"
    },
    {
     "name": "stdout",
     "output_type": "stream",
     "text": [
      "h = -3.639453125000003\n",
      "y(2,-3.639453125000003)=0.999762044705481\n"
     ]
    }
   ],
   "source": [
    "res_left=res[-1,0]\n",
    "res=(integrate.odeint(D,[y_a, h_right], np.arange(a, b, 0.0001)))\n",
    "res_right = res[-1,0]\n",
    "\n",
    "while abs(res_right-res_left)>0.001:\n",
    "    dh = abs(h_left-h_right)/2\n",
    "    h_middle = h_left+dh\n",
    "    res = integrate.odeint(D,[y_a, h_middle], np.arange(a, b, 0.0001))\n",
    "    if res[-1, 0] > y_b:\n",
    "        h_right=h_middle\n",
    "        res_right=res[-1,0]\n",
    "    else:\n",
    "        h_left=h_middle\n",
    "        res_left=res[-1,0]\n",
    "\n",
    "plt.plot(np.arange(a,b,0.0001),res[:,0],c=\"red\")\n",
    "plt.grid(True)\n",
    "plt.xlabel(\"x\")\n",
    "plt.show()\n",
    "\n",
    "print(f\"h = {h_left}\")\n",
    "print(f\"y({b},{h_left})={res_left}\")"
   ]
  },
  {
   "cell_type": "markdown",
   "source": [
    "$h = -3.639453125000003$\n",
    "\n",
    "$y(2,-3.639453125000003)=0.999762044705481$"
   ],
   "metadata": {
    "collapsed": false
   }
  },
  {
   "cell_type": "markdown",
   "metadata": {},
   "source": [
    "## Выводы\n",
    "\n",
    "В процессе выполнения практической работы была решена краевая задача для уравнения II-го порядка, с помощью\n",
    "многократного решения задачи Коши. Результаты были найдены с определенной точностью.\n",
    "\n",
    "Результаты:\n",
    "\n",
    "$h=-3.639453125000003$\n",
    "\n",
    "$y(b,h) = 0.999762044705481$"
   ]
  }
 ],
 "metadata": {
  "kernelspec": {
   "display_name": "Python 3 (ipykernel)",
   "language": "python",
   "name": "python3"
  },
  "language_info": {
   "codemirror_mode": {
    "name": "ipython",
    "version": 3
   },
   "file_extension": ".py",
   "mimetype": "text/x-python",
   "name": "python",
   "nbconvert_exporter": "python",
   "pygments_lexer": "ipython3",
   "version": "3.10.4"
  }
 },
 "nbformat": 4,
 "nbformat_minor": 4
}