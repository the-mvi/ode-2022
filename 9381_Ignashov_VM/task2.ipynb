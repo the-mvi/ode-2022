{
 "cells": [
  {
   "cell_type": "markdown",
   "source": [
    "# Практическая работа №2: Исследование однородного линейного уравнения с периодическими коэффициентами.\n",
    "\n",
    "Выполнил студент гр. 9381 Игнашов Вадим, вариант 5."
   ],
   "metadata": {
    "collapsed": false
   }
  },
  {
   "cell_type": "markdown",
   "source": [
    "## Цель работы\n",
    "\n",
    "Изучение устойчивости однородного линейного уравнения с периодическими коэффициентами при 𝑡 → +∞."
   ],
   "metadata": {
    "collapsed": false
   }
  },
  {
   "cell_type": "markdown",
   "source": [
    "## Основные теоретические положения\n",
    "\n",
    "**Система линейных ОДУ с периодическими коэффициентами** - система вида\n",
    "\n",
    "$X'=A(t)X, A(t+T)=A(t), t\\ge 0$\n",
    "\n",
    ",где:\n",
    "\n",
    "$X'=(x_1',...,x_n')^T$,\n",
    "\n",
    "$X=(x_1,...,x_n)^T$,\n",
    "\n",
    "$A(t)=||a_{ij}(t)||$, $a_{ij}(t+T)=a_{ij}(t)$\n",
    "\n",
    "$T>0$ - период коэффициентов системы\n",
    "\n",
    "**Фундаментальная матрица такой системы** - матрица $\\phi(t)$, у которой столбцы являются линейно независимыми\n",
    "решениями системы.\n",
    "\n",
    "$\\phi'=A(t)\\phi$\n",
    "\n",
    "**Основная матрица** для $\\phi(t)$ - матрица $C$, такая, что\n",
    "\n",
    "$\\phi(t+T)=\\phi(t)C, \\forall t \\ge 0$\n",
    "\n",
    "**Спектральный радиус матрицы** $C$ - число $r(C)$, такое, что\n",
    "\n",
    "$r(C) = \\underset{i} \\max{|\\lambda_i|}$, где $i$ - собственные значения $C$"
   ],
   "metadata": {
    "collapsed": false
   }
  },
  {
   "cell_type": "markdown",
   "source": [
    "## Постановка задачи\n",
    "\n",
    "Дано дифференциальное уравнение:\n",
    "\n",
    "$x''+a(p,t)x=0$,\n",
    "\n",
    "$a(p,t)=p+b(t)$,\n",
    "\n",
    "$b(t+T)=b(t)$,\n",
    "\n",
    "где $p$ - параметр.\n",
    "\n",
    "Данное уравнение сводится к системе двух уравнений I-го порядка:\n",
    "\n",
    "$\\begin{equation*}\n",
    " \\begin{cases}\n",
    "   u_1'=u_2\\\\\n",
    "   u_2'=-a(p,t)u_1\n",
    " \\end{cases}\n",
    "\\end{equation*}\n",
    "(1)\n",
    "$\n",
    "\n",
    "Здесь $u_1(t)=x(t), u_2(t)=x'(t)$\n",
    "\n",
    "Необходимо провести исследование устойчивости однородного линейного уравнения. Дальнейшие рассуждения применимы к любой линейной\n",
    "периодической системе, а не только к системе вида (1)."
   ],
   "metadata": {
    "collapsed": false
   }
  },
  {
   "cell_type": "markdown",
   "source": [
    "## Выполнение работы\n",
    "\n",
    "**Вариант №5**\n",
    "\n",
    "Функция: $b(t)=\\frac{1}{(2+\\sin{2t})}$"
   ],
   "metadata": {
    "collapsed": false
   }
  },
  {
   "cell_type": "markdown",
   "source": [
    "Подключим необходимые библиотеки, объявим переменную T и определим функции $a(p,t)$ и $b(t)$:"
   ],
   "metadata": {
    "collapsed": false
   }
  },
  {
   "cell_type": "code",
   "execution_count": 100,
   "outputs": [],
   "source": [
    "from scipy import integrate\n",
    "import numpy as np\n",
    "import matplotlib.pyplot as plt\n",
    "import math\n",
    "\n",
    "T=(math.pi/2)*6\n",
    "step=0.001\n",
    "\n",
    "def a(p, t):\n",
    "    return p+b(t)\n",
    "def b(t):\n",
    "    return 1/(2+math.sin(2*t))"
   ],
   "metadata": {
    "collapsed": false,
    "pycharm": {
     "name": "#%%\n"
    }
   }
  },
  {
   "cell_type": "markdown",
   "source": [
    "Отобразим график функции $b(t)$:"
   ],
   "metadata": {
    "collapsed": false
   }
  },
  {
   "cell_type": "code",
   "execution_count": 101,
   "outputs": [
    {
     "data": {
      "text/plain": "<Figure size 432x288 with 1 Axes>",
      "image/png": "[encoded data removed]"
     },
     "metadata": {
      "needs_background": "light"
     },
     "output_type": "display_data"
    }
   ],
   "source": [
    "x = np.arange(0, T, step)\n",
    "y = [b(i) for i in x]\n",
    "\n",
    "plt.plot(x,y)\n",
    "plt.xlabel(\"t\")\n",
    "plt.grid(True)\n",
    "plt.show()"
   ],
   "metadata": {
    "collapsed": false,
    "pycharm": {
     "name": "#%%\n"
    }
   }
  },
  {
   "cell_type": "markdown",
   "source": [
    "Определяем функцию системы уравнений, массив значений $p$ и начальные вектора $V_1=(1,0)^T$ и $V_2=(0,1)^T$. Объявляем\n",
    "переменную для спектральных радиусов"
   ],
   "metadata": {
    "collapsed": false
   }
  },
  {
   "cell_type": "code",
   "execution_count": 102,
   "outputs": [],
   "source": [
    "def sys1(u, t):\n",
    "    return [u[1],-1*a(p,t)*u[0]]\n",
    "\n",
    "p_arr=np.arange(0,10,step)\n",
    "\n",
    "v1 = [1, 0]\n",
    "v2 = [0, 1]\n",
    "\n",
    "spectral = []"
   ],
   "metadata": {
    "collapsed": false,
    "pycharm": {
     "name": "#%%\n"
    }
   }
  },
  {
   "cell_type": "markdown",
   "source": [
    "Для каждого $p$ находим фундаментальную матрицу, при $t=T$. Для этого решаем две задачи\n",
    "Коши с начальными векторами $V_1$ и $V_2$ на отрезке $[0,T]$, решением которых будут являться\n",
    "вектор-функции $U(t,V_1)$ и $U(t,V_2)$ - столбцы $\\phi(t)$\n",
    "\n",
    "После чего находим основную матрицу для $C$ и ее спектральный радиус - $r(C) = \\underset{i} \\max{|\\lambda_i|}$."
   ],
   "metadata": {
    "collapsed": false
   }
  },
  {
   "cell_type": "code",
   "execution_count": 103,
   "outputs": [],
   "source": [
    "t_arr=np.arange(0,T,step)\n",
    "for p in p_arr:\n",
    "    utv1 = integrate.odeint(sys1,v1,t_arr)\n",
    "    utv2 = integrate.odeint(sys1,v2,t_arr)\n",
    "    C=np.array([\n",
    "        [utv1[-1][0],utv2[-1][0]],\n",
    "        [utv1[-1][1],utv2[-1][1]]\n",
    "                ])\n",
    "    spectral.append(max(abs(np.linalg.eigvals(C))))"
   ],
   "metadata": {
    "collapsed": false,
    "pycharm": {
     "name": "#%%\n"
    }
   }
  },
  {
   "cell_type": "markdown",
   "source": [
    "Отобразим полученный график спектрального радиуса:"
   ],
   "metadata": {
    "collapsed": false
   }
  },
  {
   "cell_type": "code",
   "execution_count": 104,
   "outputs": [
    {
     "data": {
      "text/plain": "<Figure size 432x288 with 1 Axes>",
      "image/png": "[encoded data removed]"
     },
     "metadata": {
      "needs_background": "light"
     },
     "output_type": "display_data"
    }
   ],
   "source": [
    "plt.plot(p_arr,spectral)\n",
    "plt.grid(True)\n",
    "plt.show()"
   ],
   "metadata": {
    "collapsed": false,
    "pycharm": {
     "name": "#%%\n"
    }
   }
  },
  {
   "cell_type": "markdown",
   "source": [
    "Из полученного графика можем определить точку $p_0$, разделяющую зоны устойчивости и неустойчивости\n",
    "с точностью $\\varepsilon=10^{-3}$.\n",
    "\n",
    "$|r(p_0)-1|<\\varepsilon$\n",
    "\n",
    "Также, определим точку $p_1$, определяющую конец зоны неустойчивости"
   ],
   "metadata": {
    "collapsed": false,
    "pycharm": {
     "name": "#%% md\n"
    }
   }
  },
  {
   "cell_type": "code",
   "execution_count": 109,
   "outputs": [
    {
     "name": "stdout",
     "output_type": "stream",
     "text": [
      "p_0=8.436\n",
      "r(p_0)=1.0000001542887065\n",
      "p_1=8.416\n",
      "r(p_1)=1.0000000318767541\n"
     ]
    }
   ],
   "source": [
    "eps = 0.001\n",
    "p_0 = -1\n",
    "p_1 = -1\n",
    "rp_0 = -1\n",
    "rp_1 = -1\n",
    "type = True\n",
    "for i in range(0,len(spectral)-1):\n",
    "    if (abs(spectral[-i-1]-1)>eps) and type:\n",
    "        p_0 = p_arr[-i]\n",
    "        rp_0 = spectral[-i]\n",
    "        type=False\n",
    "    if (abs(spectral[-i-1]-1)<=eps) and not type:\n",
    "        p_1 = p_arr[-i-1]\n",
    "        rp_1 = spectral[-i-1]\n",
    "        break\n",
    "print(f\"p_0={p_0}\\nr(p_0)={rp_0}\")\n",
    "print(f\"p_1={p_1}\\nr(p_1)={rp_1}\")"
   ],
   "metadata": {
    "collapsed": false,
    "pycharm": {
     "name": "#%%\n"
    }
   }
  },
  {
   "cell_type": "markdown",
   "source": [
    "Отобразим на имеющемся графике спектрального радиуса точки $p_0$ и $p_1$, а также отобразим часть графика $p \\in [8; 8.5]$,\n",
    "на котором точнее видно, что границы установлены корректно:"
   ],
   "metadata": {
    "collapsed": false
   }
  },
  {
   "cell_type": "code",
   "execution_count": 111,
   "outputs": [
    {
     "data": {
      "text/plain": "<Figure size 432x288 with 1 Axes>",
      "image/png": "[encoded data removed]"
     },
     "metadata": {
      "needs_background": "light"
     },
     "output_type": "display_data"
    },
    {
     "data": {
      "text/plain": "<Figure size 432x288 with 1 Axes>",
      "image/png": "[encoded data removed]"
     },
     "metadata": {
      "needs_background": "light"
     },
     "output_type": "display_data"
    }
   ],
   "source": [
    "plt.plot(p_arr,spectral,[p_0, p_0],[1.0,2.2],'m',[p_1, p_1],[1.0,2.2],'y')\n",
    "plt.grid(True)\n",
    "plt.show()\n",
    "\n",
    "plt.plot(p_arr[int(8.3/step):int(8.5/step)],spectral[int(8.3/step):int(8.5/step)],[p_0, p_0],[1.0,1.1],'m',[p_1, p_1],[1.0,1.1],'y')\n",
    "plt.grid(True)\n",
    "plt.show()"
   ],
   "metadata": {
    "collapsed": false,
    "pycharm": {
     "name": "#%%\n"
    }
   }
  },
  {
   "cell_type": "markdown",
   "source": [
    "Аналогичным образом найдем все интервалы неустойчивости:"
   ],
   "metadata": {
    "collapsed": false
   }
  },
  {
   "cell_type": "code",
   "execution_count": 117,
   "outputs": [
    {
     "name": "stdout",
     "output_type": "stream",
     "text": [
      "p_0=8.436\n",
      "r(p_0)=1.0000001542887065\n",
      "p_1=8.416\n",
      "r(p_1)=1.0000000318767541\n",
      "\n",
      "p_0=3.463\n",
      "r(p_0)=1.0000000468040162\n",
      "p_1=3.391\n",
      "r(p_1)=1.0000000551069683\n",
      "\n",
      "p_0=0.5760000000000001\n",
      "r(p_0)=1.0000001389065516\n",
      "p_1=0.263\n",
      "r(p_1)=1.0000000081233043\n",
      "\n"
     ]
    }
   ],
   "source": [
    "eps = 0.001\n",
    "p_0 = []\n",
    "p_1 = []\n",
    "rp_1 = []\n",
    "rp_0 = []\n",
    "type = True\n",
    "for i in range(0,len(spectral)-1):\n",
    "    if (abs(spectral[-i-1]-1)>eps) and type:\n",
    "        p_0.append(p_arr[-i])\n",
    "        rp_0.append(spectral[-i])\n",
    "        type=False\n",
    "    if (abs(spectral[-i-1]-1)<=eps) and not type:\n",
    "        p_1.append(p_arr[-i-1])\n",
    "        rp_1.append(spectral[-i-1])\n",
    "        type=True\n",
    "for i in range(0,len(p_0)):\n",
    "    print(f\"p_0={p_0[i]}\\nr(p_0)={rp_0[i]}\")\n",
    "    print(f\"p_1={p_1[i]}\\nr(p_1)={rp_1[i]}\\n\")"
   ],
   "metadata": {
    "collapsed": false,
    "pycharm": {
     "name": "#%%\n"
    }
   }
  },
  {
   "cell_type": "markdown",
   "source": [
    "Список интервалов неустойчивости:\n",
    "* $(0.263; 0.576]$\n",
    "* $(3.391; 3.463]$\n",
    "* $(8.416; 8.436]$\n",
    "\n",
    "На имеющемся графике спектрального радиуса на отрезке $p \\in [0:10]$ явно видны интервалы (найденные выше), при которых $r(p)>1$. Они\n",
    "определяют значения $p$, при которых по крайней мере часть решений системы не ограничена и система неустойчива.\n",
    "\n",
    "Отобразим полученные интервалы на графике:"
   ],
   "metadata": {
    "collapsed": false
   }
  },
  {
   "cell_type": "code",
   "execution_count": 115,
   "outputs": [
    {
     "data": {
      "text/plain": "<Figure size 432x288 with 1 Axes>",
      "image/png": "[encoded data removed]"
     },
     "metadata": {
      "needs_background": "light"
     },
     "output_type": "display_data"
    }
   ],
   "source": [
    "plt.plot(p_arr,spectral)\n",
    "for i in range(0,len(p_0)):\n",
    "    plt.plot([p_0[i], p_0[i]],[1.0,2.2],'m')\n",
    "for i in range(0,len(p_1)):\n",
    "    plt.plot([p_1[i], p_1[i]],[1.0,2.2],'y')\n",
    "plt.grid(True)\n",
    "plt.show()"
   ],
   "metadata": {
    "collapsed": false,
    "pycharm": {
     "name": "#%%\n"
    }
   }
  },
  {
   "cell_type": "markdown",
   "source": [
    "## Выводы\n",
    "\n",
    "В процессе выполнения практической работы была изучена усточивость системы линейных ОДУ с периодическими\n",
    "коэффициентами при $t\\rightarrow + \\infty$\n",
    "\n",
    "Были найдены границы зон устойчивости и неустойчивости.\n",
    "\n",
    "Список интервалов:\n",
    "* При $p \\le 0.263$ - система устойчива\n",
    "* При $p \\in (0.263; 0.576]$ - система неустойчива\n",
    "* При $p \\in (0.576; 3.391]$ - система устойчива\n",
    "* При $p \\in (3.391; 3.463]$ - система неустойчива\n",
    "* При $p \\in (3.463; 8.416]$ - система устойчива\n",
    "* При $p \\in (8.416; 8.436]$ - система неустойчива\n",
    "* При $p > 8.436$ - система устойчива\n",
    "\n",
    "Значения $p_0$ были найдены с точностью $\\varepsilon=10^{-3}$.\n",
    "\n",
    "$|r(p_0)-1|<\\varepsilon$"
   ],
   "metadata": {
    "collapsed": false
   }
  }
 ],
 "metadata": {
  "kernelspec": {
   "display_name": "Python 3",
   "language": "python",
   "name": "python3"
  },
  "language_info": {
   "codemirror_mode": {
    "name": "ipython",
    "version": 2
   },
   "file_extension": ".py",
   "mimetype": "text/x-python",
   "name": "python",
   "nbconvert_exporter": "python",
   "pygments_lexer": "ipython2",
   "version": "2.7.6"
  }
 },
 "nbformat": 4,
 "nbformat_minor": 0
}