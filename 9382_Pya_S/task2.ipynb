{
  "metadata": {
    "language_info": {
      "codemirror_mode": {
        "name": "python",
        "version": 3
      },
      "file_extension": ".py",
      "mimetype": "text/x-python",
      "name": "python",
      "nbconvert_exporter": "python",
      "pygments_lexer": "ipython3",
      "version": "3.8"
    },
    "kernelspec": {
      "name": "python",
      "display_name": "Pyolite",
      "language": "python"
    }
  },
  "nbformat_minor": 4,
  "nbformat": 4,
  "cells": [
    {
      "cell_type": "markdown",
      "source": "## Практическая работа №2: Исследование однородного линейного уравнения с периодическими коэффициентами.",
      "metadata": {}
    },
    {
      "cell_type": "markdown",
      "source": "Выполнила студентка гр. 9382 Пя Сон Хва, вариант 30.",
      "metadata": {}
    },
    {
      "cell_type": "markdown",
      "source": "## Цель работы",
      "metadata": {}
    },
    {
      "cell_type": "markdown",
      "source": "Изучение устойчивости однородного линейного уравнения с периодическими коэффициентами при 𝑡 → +∞.",
      "metadata": {}
    },
    {
      "cell_type": "markdown",
      "source": "## Основные теоретические положения",
      "metadata": {}
    },
    {
      "cell_type": "markdown",
      "source": "Линейная однородная система c периодическими коэффициентами - это\n$$ X' = A(t)X, A(t + T) = A(t), t >= 0$$\n$Ф(t)$ - фундаментальная матрица системы, то есть ее столбцы – линейно независимые решения уравнения. В матричной записи $ Ф' = A(t)Ф$. \n\nЕсли $X(t)$ - решение линейной автономной системы, то $X(t + τ)$, где $τ$ - любое число, является решением этой системы.\n\nМатрица С, удовлетворяющая условию $$Ф(t + T) = Ф(t)C, ∀t >= 0,$$ называется основной для фундаментальной матрицы $Ф(t)$.\nСпектральным радиусом матрицы А называется максимум модуля ее собственных чисел.\n$$ ρ(A) = max_{0<=j<=n}|λ_j|$$",
      "metadata": {}
    },
    {
      "cell_type": "markdown",
      "source": "## Постановка задачи",
      "metadata": {}
    },
    {
      "cell_type": "markdown",
      "source": "Дано дифференциальное уравнение:\n$$𝑥′′ + 𝑎(𝑝, 𝑡)𝑥 = 0, 𝑎(𝑝, 𝑡) = 𝑝 + 𝑏(𝑡), 𝑏(𝑡 + 𝑇) = 𝑏(𝑡),$$\nгде $𝑝$ – параметр.\n\nДанное уравнение сводится к системе двух уравнений I-го порядка:\n$$\\begin{equation*}\n \\begin{cases}\n   𝑢′_1 = 𝑢_2,\n   \\\\\n  𝑢′_2 = −𝑎(𝑝, 𝑡)𝑢_1;\n \\end{cases}\n\\end{equation*}$$\nЗдесь $$𝑢_1(𝑡) = 𝑥(𝑡), 𝑢_2(𝑡) = 𝑥′(𝑡).$$\nНеобходимо провести исследование устойчивости однородного линейного уравнения. Дальнейшие рассуждения применимы к любой линейной\nпериодической системе, а не только к системе вида (1).",
      "metadata": {}
    },
    {
      "cell_type": "markdown",
      "source": "## Выполнение работы",
      "metadata": {}
    },
    {
      "cell_type": "markdown",
      "source": "$$ln(2 + sin2t)$$\nАлгоритм проходит по заданному массиву значений параметра p от 0.1 до 5 с шагом 0.001. Для каждого значения p находится значение фундаментальной матрицы, служащей для получения столбцов основной матрицы. Максимум модуля собственных чисел основной матрицы - её спектральный радиус.\n\nСтроится график зависимости по значениям спектральных радиусов, из которого с достаточной точностью можно определить точку p0, которая разделяет зоны устойчивости и неустойчивости системы.",
      "metadata": {}
    },
    {
      "cell_type": "code",
      "source": "import matplotlib.pyplot as plt\nimport math\nfrom scipy.integrate import odeint\nimport numpy as np\n\nV1 = [1, 0]\nV2 = [0, 1]\np_range = np.arange(0.1, 5, 0.001)\nT = math.pi\nt_range = np.arange(0,T, 0.001)\nspectral = []\n\ndef b(p,t):\n    return p + np.log(2 + np.sin(2 * t))\n    \ndef calc():\n    for p in p_range:\n        sys = lambda x, t: [x[1], -b(p, t) * x[0]]\n        U1 = odeint(sys, V1, t_range)\n        U2 = odeint(sys, V2, t_range)\n        C = np.array([U1[-1], U2[-1]])\n        spectral.append(np.max(np.abs(np.linalg.eigvals(C))))\n    \n    for i in range(len(spectral)):\n        if spectral[-1-i] > 1:\n            p0 = p_range[-i]\n            break\n    return p0\n    \ndef show(p0):\n    plt.plot([p0, p0], [1, 2], color=\"red\", label=\"p0\")\n    plt.plot(p_range, spectral, color=\"black\")\n    plt.show()\n    \np0 = calc()\nprint(\"p0 = \", p0)\nshow(p0)",
      "metadata": {
        "trusted": true
      },
      "execution_count": 2,
      "outputs": [
        {
          "name": "stdout",
          "text": "p0 =  4.949000000000004\n",
          "output_type": "stream"
        },
        {
          "output_type": "display_data",
          "data": {
            "text/plain": "<pyolite.display.Image at 0xbf1f68>",
            "image/png": "[encoded data removed]"
          },
          "metadata": {}
        }
      ]
    },
    {
      "cell_type": "markdown",
      "source": "## Выводы",
      "metadata": {}
    },
    {
      "cell_type": "markdown",
      "source": "В ходе данной лабораторной работы было изучено поведение решений системы линейных уравнений с периодическими коэффициентами при t-> inf. Была найдена p0 = 4.95 - граница между зонами устойчивости и неустойчивости.",
      "metadata": {}
    },
    {
      "cell_type": "code",
      "source": "",
      "metadata": {},
      "execution_count": null,
      "outputs": []
    }
  ]
}