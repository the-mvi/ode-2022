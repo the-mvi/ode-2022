{
  "metadata": {
    "language_info": {
      "codemirror_mode": {
        "name": "python",
        "version": 3
      },
      "file_extension": ".py",
      "mimetype": "text/x-python",
      "name": "python",
      "nbconvert_exporter": "python",
      "pygments_lexer": "ipython3",
      "version": "3.8"
    },
    "kernelspec": {
      "name": "python",
      "display_name": "Pyolite",
      "language": "python"
    }
  },
  "nbformat_minor": 4,
  "nbformat": 4,
  "cells": [
    {
      "cell_type": "markdown",
      "source": "## Практическая работа №2: Исследование однородного линейного уравнения с периодическими коэффициентами.",
      "metadata": {}
    },
    {
      "cell_type": "markdown",
      "source": "Выполнила студентка гр. 9382 Пя Сон Хва, вариант 30.",
      "metadata": {}
    },
    {
      "cell_type": "markdown",
      "source": "## Цель работы",
      "metadata": {}
    },
    {
      "cell_type": "markdown",
      "source": "Изучение устойчивости однородного линейного уравнения с периодическими коэффициентами при 𝑡 → +∞.",
      "metadata": {}
    },
    {
      "cell_type": "markdown",
      "source": "## Основные теоретические положения",
      "metadata": {}
    },
    {
      "cell_type": "markdown",
      "source": "Линейная однородная система c периодическими коэффициентами - это\n$$ X' = A(t)X, A(t + T) = A(t), t >= 0$$\n$Ф(t)$ - фундаментальная матрица системы, то есть ее столбцы – линейно независимые решения уравнения. В матричной записи $ Ф' = A(t)Ф$. \n\nЕсли $X(t)$ - решение линейной автономной системы, то $X(t + τ)$, где $τ$ - любое число, является решением этой системы.\n\nМатрица С, удовлетворяющая условию $$Ф(t + T) = Ф(t)C, ∀t >= 0,$$ называется основной для фундаментальной матрицы $Ф(t)$.\nСпектральным радиусом матрицы А называется максимум модуля ее собственных чисел.\n$$ ρ(A) = max_{0<=j<=n}|λ_j|$$",
      "metadata": {}
    },
    {
      "cell_type": "markdown",
      "source": "## Постановка задачи",
      "metadata": {}
    },
    {
      "cell_type": "markdown",
      "source": "Дано дифференциальное уравнение:\n$$𝑥′′ + 𝑎(𝑝, 𝑡)𝑥 = 0, 𝑎(𝑝, 𝑡) = 𝑝 + 𝑏(𝑡), 𝑏(𝑡 + 𝑇) = 𝑏(𝑡),$$\nгде $𝑝$ – параметр.\n\nДанное уравнение сводится к системе двух уравнений I-го порядка:\n$$\\begin{equation*}\n \\begin{cases}\n   𝑢′_1 = 𝑢_2,\n   \\\\\n  𝑢′_2 = −𝑎(𝑝, 𝑡)𝑢_1;\n \\end{cases}\n\\end{equation*}$$\nЗдесь $$𝑢_1(𝑡) = 𝑥(𝑡), 𝑢_2(𝑡) = 𝑥′(𝑡).$$\nНеобходимо провести исследование устойчивости однородного линейного уравнения. Дальнейшие рассуждения применимы к любой линейной\nпериодической системе, а не только к системе вида (1).",
      "metadata": {}
    },
    {
      "cell_type": "markdown",
      "source": "## Выполнение работы",
      "metadata": {}
    },
    {
      "cell_type": "markdown",
      "source": "$$ln(2 + sin2t)$$\nАлгоритм проходит по заданному массиву значений параметра p от 0.1 до 5 с шагом 0.001. Для каждого значения p находится значение фундаментальной матрицы, служащей для получения столбцов основной матрицы. Максимум модуля собственных чисел основной матрицы - её спектральный радиус.\n\nСтроится график зависимости по значениям спектральных радиусов, из которого с достаточной точностью можно определить точку p0, которая разделяет зоны устойчивости и неустойчивости системы.",
      "metadata": {}
    },
    {
      "cell_type": "code",
      "source": "import matplotlib.pyplot as plt\nimport math\nfrom scipy.integrate import odeint\nimport numpy as np\n\nV1 = [1, 0]\nV2 = [0, 1]\np0 = None\np_range = np.arange(0, 10, 0.001)\nT = math.pi\nt_range = np.arange(0,T, 0.001)\nspectral = []\n\ndef b(p,t):\n    return p + np.log(2 + np.sin(2 * t))\n\ndef find():\n    global p0\n    eps = 0.001\n    for i in range(1, len(spectral)):\n        if (abs(spectral[-i]-1) > eps):\n            p0 = p_range[-i + 1]\n            break\n    print(f\"p0={p0}\")\n    \ndef calc():\n    global p0, p1\n    for p in p_range:\n        sys = lambda x, t: [x[1], -b(p, t) * x[0]]\n        U1 = odeint(sys, V1, t_range)\n        U2 = odeint(sys, V2, t_range)\n        C = np.array([U1[-1], U2[-1]])\n        spectral.append(np.max(np.abs(np.linalg.eigvals(C))))\n    \n    find()\n            \ndef show():\n    global p0\n    plt.axvline(x=p0, color=\"pink\")\n    plt.plot(p_range, spectral, color=\"black\")\n    plt.show()\n    \ncalc()\nshow()",
      "metadata": {
        "trusted": true
      },
      "execution_count": 38,
      "outputs": [
        {
          "name": "stdout",
          "text": "p0=8.394\n",
          "output_type": "stream"
        },
        {
          "output_type": "display_data",
          "data": {
            "text/plain": "<pyolite.display.Image at 0x4b83e20>",
            "image/png": "[encoded data removed]"
          },
          "metadata": {}
        }
      ]
    },
    {
      "cell_type": "markdown",
      "source": "## Выводы",
      "metadata": {}
    },
    {
      "cell_type": "markdown",
      "source": "В ходе данной лабораторной работы было изучено поведение решений системы линейных уравнений с периодическими коэффициентами при t-> inf. Была найдена $p_0 = 8.394$ - граница между зонами устойчивости и неустойчивости. При $p < p_0 = 8.394 $ система является неустойчивой, $p >= p_0 = 8.394 $ система является устойчивой. Значение $p_0$ было найдено с точностью $|r(p_0) - 1| < 0.001$.",
      "metadata": {}
    },
    {
      "cell_type": "code",
      "source": "",
      "metadata": {},
      "execution_count": null,
      "outputs": []
    }
  ]
}