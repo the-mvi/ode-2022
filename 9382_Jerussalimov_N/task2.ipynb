{
 "cells":[
  {
   "cell_type":"markdown",
   "source":[
    "## Практическая работа №2: Исследование однородного линейного уравнения с периодическими коэффициентами.\n",
    "\n",
    "Выполнил студент гр. 9382 Иерусалимов Никита, вариант 24."
   ],
   "attachments":{
    
   },
   "metadata":{
    "datalore":{
     "type":"MD",
     "hide_input_from_viewers":false,
     "hide_output_from_viewers":false
    }
   }
  },
  {
   "cell_type":"markdown",
   "source":[
    "## Цель работы\n",
    "\n",
    "Изучение устойчивости однородного линейного уравнения с периодическими коэффициентами при 𝑡 → +∞."
   ],
   "attachments":{
    
   },
   "metadata":{
    "datalore":{
     "type":"MD",
     "hide_input_from_viewers":false,
     "hide_output_from_viewers":false
    }
   }
  },
  {
   "cell_type":"markdown",
   "source":[
    "## Основные теоретические положения\n",
    "\n",
    "Линейная однородная система c периодическими коэффициентами - это\n",
    "$$ X' = A(t)X, A(t + T) = A(t), t >= 0$$\n",
    "$Ф(t)$ - фундаментальная матрица системы, то есть ее столбцы – линейно независимые решения уравнения. В матричной записи $ Ф' = A(t)Ф$. \n",
    "\n",
    "Если $X(t)$ - решение линейной автономной системы, то $X(t + τ)$, где $τ$ - любое число, является решением этой системы.\n",
    "\n",
    "Матрица С, удовлетворяющая условию $$Ф(t + T) = Ф(t)C, ∀t >= 0,$$ называется основной для фундаментальной матрицы $Ф(t)$.\n",
    "Спектральным радиусом матрицы А называется максимум модуля ее собственных чисел.\n",
    "$$ ρ(A) = max_{0<=j<=n}|λ_j|$$"
   ],
   "attachments":{
    
   },
   "metadata":{
    "datalore":{
     "type":"MD",
     "hide_input_from_viewers":false,
     "hide_output_from_viewers":false
    }
   }
  },
  {
   "cell_type":"markdown",
   "source":[
    "## Постановка задачи\n",
    "\n",
    "Дано дифференциальное уравнение:\n",
    "$$𝑥′′ + 𝑎(𝑝, 𝑡)𝑥 = 0, 𝑎(𝑝, 𝑡) = 𝑝 + 𝑏(𝑡), 𝑏(𝑡 + 𝑇) = 𝑏(𝑡),$$\n",
    "где $𝑝$ – параметр.\n",
    "\n",
    "Данное уравнение сводится к системе двух уравнений I-го порядка:\n",
    "$$\\begin{equation*}\n",
    " \\begin{cases}\n",
    "   𝑢′_1 = 𝑢_2,\n",
    "   \\\\\n",
    "  𝑢′_2 = −𝑎(𝑝, 𝑡)𝑢_1;\n",
    " \\end{cases}\n",
    "\\end{equation*}$$\n",
    "Здесь $$𝑢_1(𝑡) = 𝑥(𝑡), 𝑢_2(𝑡) = 𝑥′(𝑡).$$\n",
    "Необходимо провести исследование устойчивости однородного линейного уравнения. Дальнейшие рассуждения применимы к любой линейной\n",
    "периодической системе, а не только к системе вида (1)."
   ],
   "attachments":{
    
   },
   "metadata":{
    "datalore":{
     "type":"MD",
     "hide_input_from_viewers":false,
     "hide_output_from_viewers":false
    }
   }
  },
  {
   "cell_type":"markdown",
   "source":[
    "## Выполнение работы\n",
    "\n",
    "Наша функция: $$|sin(3t)|$$\n",
    "Её период: $$T= \\pi\/3$$\n",
    "\n",
    "Создаем массив значений параметра p от 0.5 до 9 с шагом 0.005. Далее проходимся по каждому значению и находим значение фундаментальной матрицы. Эти значения помогут найти столбцы основной матрицы из которой максимум модуля собственных чисел это спектральный радиус.\n",
    "\n",
    "\n",
    "Тут же находим p0 которая разделяет зоны устойчивости и неустойчивости системы. Нахлдим ее из спектральных радиусов"
   ],
   "attachments":{
    
   },
   "metadata":{
    "datalore":{
     "type":"MD",
     "hide_input_from_viewers":false,
     "hide_output_from_viewers":false
    }
   }
  },
  {
   "cell_type":"code",
   "source":[
    "import numpy as np\n",
    "import math\n",
    "from scipy.integrate import odeint\n",
    "import matplotlib.pyplot as plt\n",
    "\n",
    "def solution(step, start, end):\n",
    "\n",
    "    pointArr = np.arange(start, end, step)\n",
    "\n",
    "    T = math.pi\/3\n",
    "    newStep = T\/222\n",
    "    tArr = np.arange(0, T, newStep)\n",
    "\n",
    "    v1 = np.array([1, 0])\n",
    "    v2 = np.array([0, 1])\n",
    "    spectral = []\n",
    "\n",
    "    def b(p,t1):\n",
    "        return p + math.fabs(math.sin(3*t1))\n",
    "\n",
    "    for p in pointArr:\n",
    "        func = lambda x, t1: [x[1], -b(p,t1)*x[0]]\n",
    "        C = np.array([odeint(func, v1, tArr)[-1], odeint(func, v2, tArr)[-1]])\n",
    "        result = np.max(np.abs(np.linalg.eigvals(C)))\n",
    "        spectral.append(result)\n",
    "        \n",
    "    for i in range(len(spectral)):\n",
    "        if spectral[-1-i] > 1:\n",
    "            p0 = pointArr[-i]\n",
    "            break\n",
    "            \n",
    "    return pointArr,spectral, p0\n",
    "\n",
    "pointArr,spectral, p0 = solution(0.005,0.5,9)"
   ],
   "execution_count":79,
   "outputs":[
    
   ],
   "metadata":{
    "datalore":{
     "type":"CODE",
     "hide_input_from_viewers":false,
     "hide_output_from_viewers":false
    }
   }
  },
  {
   "cell_type":"markdown",
   "source":[
    "\n",
    "Тут строим график зависимости по значению спектральных радиусов и рисуем зону устоичивости и не устоичивости системы "
   ],
   "attachments":{
    
   },
   "metadata":{
    "datalore":{
     "type":"MD",
     "hide_input_from_viewers":false,
     "hide_output_from_viewers":false
    }
   }
  },
  {
   "cell_type":"code",
   "source":[
    "def plotDif(pointArr,spectral, p0):\n",
    "    plt.plot(pointArr, spectral,'blue')\n",
    "    plt.plot([p0, p0], [min(spectral), max(spectral)],'green')\n",
    "    plt.show()\n",
    "\n",
    "print(\"p0 = \", p0)\n",
    "plotDif(pointArr,spectral, p0)"
   ],
   "execution_count":78,
   "outputs":[
    {
     "name":"stdout",
     "text":[
      "p0 =  8.840000000000007\n"
     ],
     "output_type":"stream"
    },
    {
     "data":{
      "image\/png":"[encoded data removed]"
     },
     "metadata":{
      "image\/png":{
       
      }
     },
     "output_type":"display_data"
    }
   ],
   "metadata":{
    "datalore":{
     "type":"CODE",
     "hide_input_from_viewers":false,
     "hide_output_from_viewers":false
    }
   }
  },
  {
   "cell_type":"markdown",
   "source":[
    "## Выводы\n",
    "\n",
    "Было проведено исследование однородного линейного уравнения с периодическими коэффициентами. Была определена граница между зонами устойчивости и неустойчивости."
   ],
   "attachments":{
    
   },
   "metadata":{
    "datalore":{
     "type":"MD",
     "hide_input_from_viewers":false,
     "hide_output_from_viewers":false
    }
   }
  }
 ],
 "metadata":{
  "datalore":{
   "version":1,
   "computation_mode":"JUPYTER",
   "package_manager":"pip",
   "base_environment":"default",
   "packages":[
    
   ]
  }
 },
 "nbformat":4,
 "nbformat_minor":4
}