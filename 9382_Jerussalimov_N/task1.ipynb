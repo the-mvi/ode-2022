{
 "cells":[
  {
   "cell_type":"markdown",
   "source":[
    "# Практическая работа №1: Краевая задача для уравнения II-го порядка.\n",
    "\n",
    "Выполнил студент гр. 9382 Иерусалимов Никита, вариант 24.\n",
    "\n",
    "## Цель работы\n",
    "\n",
    "Научиться применять дифференциальные уравнения в различных областях, решать краевую задачу для уравнения II-го порядка путём многократного решения задачи Коши.\n",
    "\n",
    "## Основные теоретические положения\n",
    "\n",
    "### Задача Коши:\n",
    "\n",
    "Общий вид задачи Коши: \n",
    "\n",
    "$$\n",
    "\\begin{cases}\n",
    "    f(x, y, y', y'', \\dots, y^{(n)}) = 0 \\\\\n",
    "    y(x_0) = y_0 \\\\\n",
    "    y'(x_0) = y_1 \\\\\n",
    "    y''(x_0) = y_2 \\\\\n",
    "    \\dots \\\\\n",
    "    y^{(n-1)}(x_0) = y_{n-1}\n",
    "\\end{cases}\n",
    "$$\n",
    "\n",
    "### Метод половинного деления:\n",
    "\n",
    "Алгоритм, который позволяет найти корень функции. Суть алгоритма заключается в сужении области, где находится корень. Определение, есть ли в области корень происходит за счет сравнения знаков значения функции на концах области: если знаки разные, значит корень существует.\n",
    "\n",
    "### Краевая задача:\n",
    "Задача о нахождении решения заданного дифференциального уравнения, удовлетворяющего краевым условиям в концах интервала или на границе области.\n",
    "\n",
    "## Постановка задачи\n",
    "\n",
    "Дано дифференциальное уравнение: $y'' = f(x, y), a < x < b$ (1) и граничные условия.\n",
    "\n",
    "$$y(a) = y_a, y(b) = y_b (2)$$ \n",
    "\n",
    "Требуется найти решение задачи (1)-(2) и построить его график. Рассмотрим задачу Коши для уравнения (1) с начальными условиями.\n",
    "\n",
    "$$y(a) = y_a, y'(a) = h (3)$$\n",
    "\n",
    "План решения основан на многократном решении задачи Коши (1), (3). Значение решения задачи Коши при $x = b$ является функцией от h.\n",
    "\n",
    "Задача сводится к отысканию такого значения переменной h, при котором выполнено условие на правом конце отрезка, т.е. должно выполняться\n",
    "\n",
    "$$y(b, h) = y_b (4)$$\n",
    "\n",
    "Это уравнение с одним неизвестным h.\n",
    "Для его решения можно применить стандартный метод половинного\n",
    "деления.\n",
    "\n",
    "\n",
    "\n",
    "\n",
    "\n",
    "## Схема решения\n",
    "\n",
    "1. Задаем наугад число $h_0$, решаем задачу Коши. Далее вычисляем $y(b, h_0)$.\n",
    "Если оказалось, что $y(b, h_0) = y_b$, то мы решили краевую задачу. Если же нет, то переходим на следующий шаг.\n",
    "\n",
    "\n",
    "2. Пусть, например, $y(b, h_0) > y_b$. Выберем шаг $\\Delta{h}$ и решаем несколько раз задачу Коши при $h_1 = h_0 + \\Delta{h}$.\n",
    "Если снова получили $y(b, h_1) > y_b$, причём $y(b, h_0) > y(b, h_1) > y_b$, решаем задачу Коши при $h_2 = h_1 + \\Delta{h}$ и т.д.\n",
    "Процесс повторяется пока не получим неравенство $y(b, h_m) < y_b$.\n",
    "Это означает, что искомое значение попало в «вилку», т.е. $h \\in (h_{m−1}; h_m)$.\n",
    "Шаг $\\Delta{h}$ не должен быть слишком маленьким, иначе процесс сильно затянется.\n",
    "Знак шага также не известен заранее, может оказаться, что нужно не увеличивать наклон, а уменьшать.\n",
    "\n",
    "\n",
    "3. Далее применяется стандартный процесс половинного деления к уравнению (4).\n",
    "\n",
    "\n",
    "4. Процесс останавливаем, когда выполнится неравенство $|y(b, h_m) − y(b, h_{m−1})| < 0.001$.\n",
    "\n",
    "\n",
    "5. Возможен случай, когда ни одна интегральная кривая не проходит через точку $(b, y_b)$, т.е. задача не имеет решения.\n",
    "Поэтому нужно ограничить число шагов. Процесс останавливается при $m > M$, где $M$ – заданное число (например, 100).  \n",
    "\n",
    "\n",
    "\n",
    "\n",
    "\n",
    "\n",
    "\n",
    "## Выполнение работы"
   ],
   "attachments":{
    
   },
   "metadata":{
    "datalore":{
     "type":"MD",
     "hide_input_from_viewers":false,
     "hide_output_from_viewers":false
    }
   }
  },
  {
   "cell_type":"code",
   "source":[
    "from scipy import integrate\n",
    "from matplotlib.pyplot import grid,legend, plot, xlabel\n",
    "from numpy import linspace\n",
    "import math\n",
    "\n",
    "\n",
    "a = 0\n",
    "b = 2\n",
    "y_a = 1\n",
    "y_b = 2\n",
    "h = 1 # шаг\n",
    "X = linspace(a, b, 250) # Берем равномерное распределение чисел за указанный интервал\n",
    "steps = 1000 # допустимое количество щагов\n",
    "\n",
    "def func(x: float, y: float):\n",
    "    return math.cos(x*y)\n",
    "\n",
    "def solve_func(x, values):\n",
    "    return values[1], func(x,values[0])\n",
    "\n",
    "def integrateFunc(h):\n",
    "    results = integrate.solve_ivp(solve_func, [a, b], [y_a, h], t_eval=X)\n",
    "    return results.y[0][-1]\n",
    "\n",
    "y_bh = integrateFunc(h)\n",
    "\n",
    "if y_bh != y_b:\n",
    "    print(\"y(b,h) != y_b\")\n",
    "    print(\"y({},{}) = {} > y_b = {}\".format(b,h,y_bh,y_b))\n",
    "    for step in range(steps):\n",
    "        if y_bh > y_b:\n",
    "            h_right = h\n",
    "            h -= 1\n",
    "            h_left = h\n",
    "\n",
    "            y_bh = integrateFunc(h)\n",
    "        else:\n",
    "            break\n",
    "\n",
    "    print(\"h = [{},{}]\".format(h_left,h_right))\n",
    "\n",
    "    res_left = integrateFunc(h_left)\n",
    "    res_right = integrateFunc(h_right)\n",
    "\n",
    "    for step in range(steps):\n",
    "        if abs(res_left - res_right) > 0.001:\n",
    "            h_mid = h_left + abs(h_right - h_left) \/ 2\n",
    "\n",
    "            res_mid = integrateFunc(h_mid)\n",
    "            #print(h_mid, res_mid)\n",
    "            y_bh = res_mid\n",
    "            y_bh_left = res_left\n",
    "\n",
    "            if (y_bh_left - y_b) * (y_bh - y_b) < 0:\n",
    "                h_right = h_mid\n",
    "                res_right = res_mid\n",
    "            else:\n",
    "                h_left = h_mid\n",
    "                res_left = res_mid\n",
    "\n",
    "        else:\n",
    "            break\n",
    "\n",
    "    print(\"h = {}: f(b, h) = {}\".format(h_left, res_right))\n",
    "else:\n",
    "    print(\"Повезло, краевая задача решена.\\ny(b,h) = y_b\\ny({},{}) = {}\".format(b,h,y_bh))"
   ],
   "execution_count":19,
   "outputs":[
    {
     "name":"stdout",
     "text":[
      "y(b,h) != y_b\n",
      "y(2,1) = 3.60948088877028 > y_b = 2\n",
      "h = [0,1]\n",
      "h = 0.048828125: f(b, h) = 2.0003739155722653\n"
     ],
     "output_type":"stream"
    }
   ],
   "metadata":{
    "datalore":{
     "type":"CODE",
     "hide_input_from_viewers":false,
     "hide_output_from_viewers":false
    }
   }
  },
  {
   "cell_type":"markdown",
   "source":[
    "Таблица с промежуточным результатом работы \n",
    "\n",
    "| h             | y                  | \n",
    "|---------------|--------------------|\n",
    "| 0.5           | 2.67690914|\n",
    "|0.25           | 2.27979213|\n",
    "|0.125          | 2.10178581|\n",
    "|0.0625         | 2.01771152|\n",
    "|0.03125        | 1.97672426|\n",
    "|0.046875       | 1.99717763|\n",
    "|0.0546875      | 2.00742143|\n",
    "|0.05078125     | 2.00229381|\n",
    "|0.048828125    | 1.99973430|\n",
    "|0.0498046875   | 2.00101370 |\n",
    "|0.04931640625  | 2.00037391|\n",
    "______________________________________"
   ],
   "attachments":{
    
   },
   "metadata":{
    "datalore":{
     "type":"MD",
     "hide_input_from_viewers":false,
     "hide_output_from_viewers":false
    }
   }
  },
  {
   "cell_type":"code",
   "source":[
    "dots = integrate.solve_ivp(solve_func, [a, b], [y_a, h_left], t_eval=X)\n",
    "\n",
    "plot(X, dots.y[0], label=\"y\")\n",
    "plot(X, dots.y[1], label=\"y'\")\n",
    "xlabel(\"x\")\n",
    "grid(True)\n",
    "legend()"
   ],
   "execution_count":16,
   "outputs":[
    {
     "data":{
      "text\/plain":[
       "<matplotlib.legend.Legend at 0x7f8518b47a60>"
      ],
      "image\/png":"[encoded data removed]"
     },
     "metadata":{
      "image\/png":{
       
      }
     },
     "output_type":"display_data"
    }
   ],
   "metadata":{
    "datalore":{
     "type":"CODE",
     "hide_input_from_viewers":false,
     "hide_output_from_viewers":false
    }
   }
  },
  {
   "cell_type":"markdown",
   "source":[
    "## Выводы\n",
    "\n",
    "В ходе практической работы была решена краевая задача для уравнения 2-ого порядка с использованием методов численного интегрирования с определенной точностью. Задача Коши решалась численным интегрированием, а краевая задача с использованием метода половинного деления для поиска начального состояния уравнения."
   ],
   "attachments":{
    
   },
   "metadata":{
    "datalore":{
     "type":"MD",
     "hide_input_from_viewers":false,
     "hide_output_from_viewers":false
    }
   }
  }
 ],
 "metadata":{
  "datalore":{
   "version":1,
   "computation_mode":"JUPYTER",
   "package_manager":"pip",
   "base_environment":"default",
   "packages":[
    
   ]
  }
 },
 "nbformat":4,
 "nbformat_minor":4
}